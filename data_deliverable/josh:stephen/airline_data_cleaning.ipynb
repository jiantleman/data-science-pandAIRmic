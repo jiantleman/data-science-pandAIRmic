{
 "cells": [
  {
   "cell_type": "markdown",
   "id": "elder-possibility",
   "metadata": {},
   "source": [
    "<h2>Package / SQL Setup</h2>"
   ]
  },
  {
   "cell_type": "code",
   "execution_count": 2,
   "id": "sorted-measure",
   "metadata": {},
   "outputs": [
    {
     "data": {
      "text/plain": [
       "<sqlite3.Cursor at 0x7f7f4fc68dc0>"
      ]
     },
     "execution_count": 2,
     "metadata": {},
     "output_type": "execute_result"
    }
   ],
   "source": [
    "import numpy as np\n",
    "import pandas as pd\n",
    "import sqlite3\n",
    "\n",
    "conn = sqlite3.connect('airline_data.db') # automatically creates new file for \n",
    "c = conn.cursor()\n",
    "# When using SQLite, include the following line to ensure foreign key commands are recognized\n",
    "c.execute('PRAGMA foreign_keys = ON')\n",
    "\n",
    "t100 = pd.read_csv(\"t100.csv\").dropna(how='all', axis='columns')\n",
    "db1b_q1 = pd.read_csv(\"db1b_q1.csv\").dropna(how='all', axis='columns')\n",
    "db1b_q2 = pd.read_csv(\"db1b_q2.csv\").dropna(how='all', axis='columns')\n",
    "db1b_q3 = pd.read_csv(\"db1b_q3.csv\").dropna(how='all', axis='columns')\n",
    "\n",
    "db1b = db1b_q1.append(db1b_q2.append(db1b_q3))\n",
    "\n",
    "assert(len(db1b) == (len(db1b_q1) + len(db1b_q2) + len(db1b_q3)))\n",
    "\n",
    "db1b.to_sql(\"db1b\",conn,if_exists=\"replace\")\n",
    "t100.to_sql(\"t100\",conn,if_exists=\"replace\")"
   ]
  },
  {
   "cell_type": "markdown",
   "id": "matched-chess",
   "metadata": {},
   "source": [
    "<h2>T100 Import and Monthly Scaling Model</h2>"
   ]
  },
  {
   "cell_type": "code",
   "execution_count": 3,
   "id": "opposed-samba",
   "metadata": {},
   "outputs": [],
   "source": [
    "command = '''\n",
    "SELECT\n",
    "    DEST, QUARTER, MONTH, SUM(PASSENGERS)\n",
    "FROM\n",
    "    t100\n",
    "WHERE\n",
    "    QUARTER != 4\n",
    "GROUP BY\n",
    "    DEST, QUARTER, MONTH\n",
    "'''\n",
    "\n",
    "t100_data = pd.read_sql_query(command,conn)\n",
    "\n",
    "sorted_t100 = t100_data.groupby([\"DEST\",\"QUARTER\",\"MONTH\"]).first()\n",
    "state_pcts = sorted_t100.groupby(level=[0,1]).apply(lambda x: x / float(x.sum()))\n",
    "state_pcts.reset_index(inplace=True)"
   ]
  },
  {
   "cell_type": "markdown",
   "id": "developmental-inclusion",
   "metadata": {},
   "source": [
    "<h2>DB1B Import and T100 Join</h2>"
   ]
  },
  {
   "cell_type": "code",
   "execution_count": 52,
   "id": "global-investing",
   "metadata": {},
   "outputs": [],
   "source": [
    "command = '''\n",
    "SELECT\n",
    "    ORIGIN, ORIGIN_STATE_ABR, DEST, DEST_STATE_ABR, QUARTER, 10*SUM(PASSENGERS) as total_pax\n",
    "FROM\n",
    "    db1b\n",
    "GROUP BY\n",
    "    QUARTER, ORIGIN, DEST\n",
    "'''\n",
    "\n",
    "db1b_import = pd.read_sql_query(command,conn)\n",
    "merged_df = db1b_import.merge(state_pcts, on = [\"DEST\", \"QUARTER\"], how = \"left\")\n",
    "merged_df = merged_df.rename(columns = {'SUM(PASSENGERS)':'pax_ratio'})\n",
    "merged_df['monthly_pax'] = merged_df['total_pax'] * merged_df['pax_ratio']\n",
    "cleaned_table = merged_df.drop(columns = ['QUARTER','total_pax','pax_ratio'])\n",
    "\n",
    "\n"
   ]
  },
  {
   "cell_type": "markdown",
   "id": "heard-density",
   "metadata": {},
   "source": [
    "<h2>Grouping by State</h2>"
   ]
  },
  {
   "cell_type": "code",
   "execution_count": 63,
   "id": "acute-theorem",
   "metadata": {},
   "outputs": [
    {
     "data": {
      "text/html": [
       "<div>\n",
       "<style scoped>\n",
       "    .dataframe tbody tr th:only-of-type {\n",
       "        vertical-align: middle;\n",
       "    }\n",
       "\n",
       "    .dataframe tbody tr th {\n",
       "        vertical-align: top;\n",
       "    }\n",
       "\n",
       "    .dataframe thead th {\n",
       "        text-align: right;\n",
       "    }\n",
       "</style>\n",
       "<table border=\"1\" class=\"dataframe\">\n",
       "  <thead>\n",
       "    <tr style=\"text-align: right;\">\n",
       "      <th></th>\n",
       "      <th>monthly_pax</th>\n",
       "    </tr>\n",
       "    <tr>\n",
       "      <th>MONTH</th>\n",
       "      <th></th>\n",
       "    </tr>\n",
       "  </thead>\n",
       "  <tbody>\n",
       "    <tr>\n",
       "      <th>1.0</th>\n",
       "      <td>117.225021</td>\n",
       "    </tr>\n",
       "    <tr>\n",
       "      <th>2.0</th>\n",
       "      <td>143.498203</td>\n",
       "    </tr>\n",
       "    <tr>\n",
       "      <th>3.0</th>\n",
       "      <td>69.276776</td>\n",
       "    </tr>\n",
       "    <tr>\n",
       "      <th>4.0</th>\n",
       "      <td>0.845070</td>\n",
       "    </tr>\n",
       "    <tr>\n",
       "      <th>5.0</th>\n",
       "      <td>3.887324</td>\n",
       "    </tr>\n",
       "    <tr>\n",
       "      <th>6.0</th>\n",
       "      <td>5.267606</td>\n",
       "    </tr>\n",
       "    <tr>\n",
       "      <th>7.0</th>\n",
       "      <td>73.108275</td>\n",
       "    </tr>\n",
       "    <tr>\n",
       "      <th>8.0</th>\n",
       "      <td>77.983213</td>\n",
       "    </tr>\n",
       "    <tr>\n",
       "      <th>9.0</th>\n",
       "      <td>68.908512</td>\n",
       "    </tr>\n",
       "  </tbody>\n",
       "</table>\n",
       "</div>"
      ],
      "text/plain": [
       "       monthly_pax\n",
       "MONTH             \n",
       "1.0     117.225021\n",
       "2.0     143.498203\n",
       "3.0      69.276776\n",
       "4.0       0.845070\n",
       "5.0       3.887324\n",
       "6.0       5.267606\n",
       "7.0      73.108275\n",
       "8.0      77.983213\n",
       "9.0      68.908512"
      ]
     },
     "execution_count": 63,
     "metadata": {},
     "output_type": "execute_result"
    }
   ],
   "source": [
    "state_table = cleaned_table.groupby([\"ORIGIN_STATE_ABR\",\"DEST_STATE_ABR\",\"MONTH\"]).sum().dropna(how='all', axis='rows')\n",
    "\n",
    "#example for one state to state pair\n",
    "state_table.loc['RI'].loc['WY']"
   ]
  },
  {
   "cell_type": "markdown",
   "id": "hydraulic-network",
   "metadata": {},
   "source": [
    "<h3>Ideas from 2/24</h3>\n",
    "\n",
    "* t100 carries every individual NONSTOP route's passengers per month. so no info on multi-leg flights\n",
    "* on the other hand, db1b only has quarterly data for every itinerary -- so we can look at multi-leg flights and specifies the exact route (i.e. PVD->BWI->MCO)\n",
    "* idea: using t100 to calculate \"scaling factor\" for a given route that we both know (BOS->MCO nonstop defined in both) so we can estimate monthly passengers for any route. More or less adding a month field to db1b by estimation\n",
    "* we decided this b/c better approximation than neglecting all flights with stops, which we would have to do if t100 was our primary data source\n",
    "* probably no need to use on-time data\n",
    "\n",
    "what's left?\n",
    "\n",
    "* figure out monthly scaling factor / add column to db1b\n",
    "* which routes do we want to keep\n",
    "* once we do this and have monthly idea of every city -> city, we need to group by state\n",
    "\n",
    "ideas\n",
    "\n",
    "* scaling state by state? it would be nonstops only in t100 for state-state, so we wouldn't be able to scale for every state-state pair. won't work.\n",
    "* possible solution: scale non-stop to non-stops that we have, and get an idea of the data. Is st dev low / are they pretty similar? If so, we can broadly apply to everything. otherwise, \n",
    "* new (best?) idea: scale by origin or destination airport. calculate monthly distribution for one airport, and then apply that to every flight involved at that airport, regardless of market coupon. assumes that there's no difference in monthly distribution as a function of number of stops, but that's probably fair"
   ]
  }
 ],
 "metadata": {
  "kernelspec": {
   "display_name": "Python 3",
   "language": "python",
   "name": "python3"
  },
  "language_info": {
   "codemirror_mode": {
    "name": "ipython",
    "version": 3
   },
   "file_extension": ".py",
   "mimetype": "text/x-python",
   "name": "python",
   "nbconvert_exporter": "python",
   "pygments_lexer": "ipython3",
   "version": "3.7.9"
  }
 },
 "nbformat": 4,
 "nbformat_minor": 5
}
