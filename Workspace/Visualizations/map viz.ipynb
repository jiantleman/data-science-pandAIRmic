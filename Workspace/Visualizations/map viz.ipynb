{
 "cells": [
  {
   "cell_type": "code",
   "execution_count": 1,
   "id": "ambient-listing",
   "metadata": {},
   "outputs": [],
   "source": [
    "import plotly.express as px\n",
    "import pandas as pd\n",
    "import plotly.graph_objects as go"
   ]
  },
  {
   "cell_type": "code",
   "execution_count": 2,
   "id": "excited-means",
   "metadata": {},
   "outputs": [],
   "source": [
    "cases = pd.read_csv('../Data/cases.csv')\n",
    "flights = pd.read_csv('../Data/flights.csv')"
   ]
  },
  {
   "cell_type": "code",
   "execution_count": 3,
   "id": "north-reserve",
   "metadata": {},
   "outputs": [],
   "source": [
    "def draw_map(dest_state, month):\n",
    "    july_cases = cases[cases['month'] == month]\n",
    "    july_flights = flights[(flights['month'] == month) & (flights['dest_state'] == dest_state)]\n",
    "    \n",
    "    fig = px.choropleth(locations =july_cases['state'].tolist(), color_continuous_scale=\"Magma\", locationmode=\"USA-states\",color=(july_cases['per_capita']*100000).tolist(), scope=\"usa\")\n",
    "\n",
    "    for index,i in enumerate(july_flights.iterrows()):\n",
    "        fig.add_trace(go.Scattergeo(hovertext = july_flights.iloc[index]['monthly_pax'],locationmode = \"USA-states\",locations = [july_flights.iloc[index]['origin_state'],dest_state],mode='lines',line = dict(width = (10*july_flights.iloc[index]['monthly_pax'] / july_flights['monthly_pax'].max()),color = \"cyan\")))\n",
    "\n",
    "    fig.update_layout(showlegend = False)\n",
    "    # fig = fig.add_trace(go.Scattergeo(locationmode = \"USA-states\",locations =july_cases['state'].tolist()))\n",
    "    return fig"
   ]
  },
  {
   "cell_type": "code",
   "execution_count": 4,
   "id": "corresponding-quebec",
   "metadata": {},
   "outputs": [
    {
     "output_type": "display_data",
     "data": {
      "application/vnd.plotly.v1+json": {
       "config": {
        "plotlyServerURL": "https://plot.ly"
       },
       "data": [
        {
         "coloraxis": "coloraxis",
         "geo": "geo",
         "hovertemplate": "locations=%{location}<br>color=%{z}<extra></extra>",
         "locationmode": "USA-states",
         "locations": [
          "AK",
          "AL",
          "AR",
          "AZ",
          "CA",
          "CO",
          "CT",
          "DC",
          "DE",
          "FL",
          "GA",
          "HI",
          "IA",
          "ID",
          "IL",
          "IN",
          "KS",
          "KY",
          "LA",
          "MA",
          "MD",
          "ME",
          "MI",
          "MN",
          "MO",
          "MS",
          "MT",
          "NC",
          "ND",
          "NE",
          "NH",
          "NJ",
          "NM",
          "NV",
          "NY",
          "OH",
          "OK",
          "OR",
          "PA",
          "RI",
          "SC",
          "SD",
          "TN",
          "TX",
          "UT",
          "VA",
          "VT",
          "WA",
          "WI",
          "WV",
          "WY"
         ],
         "name": "",
         "type": "choropleth",
         "z": [
          338.74034156091,
          1003.58622394085,
          751.83529236103,
          887.1603534251401,
          668.82397307483,
          260.76434221439,
          94.24337294428,
          309.20130115096,
          348.54229500264,
          1270.06372267665,
          1026.02078525781,
          216.05205524004998,
          477.89312594953003,
          868.14106422955,
          371.90724805118,
          387.73868860131,
          474.90902471402,
          404.50702510650996,
          1173.71798750981,
          150.69219745908,
          407.34980517045,
          41.019004725029994,
          228.69342126258,
          366.28665740301,
          594.86306266661,
          1117.9529420431,
          337.85024075006,
          507.39530144593,
          502.84379082645,
          428.19349100280004,
          62.88436501535,
          140.42736616183,
          364.88965500126,
          992.9501527818401,
          107.41876724376,
          329.88743175251,
          638.05467757556,
          235.32988300558,
          205.19151155690002,
          259.80904460826997,
          874.32906377043,
          277.93048337461,
          940.4712843851,
          867.60624621866,
          490.2715980646,
          380.32634454079,
          31.29495656228,
          305.35096716369,
          470.1415722668,
          214.13952128437,
          213.24581946456
         ]
        },
        {
         "hovertext": "30.685517144512527",
         "line": {
          "color": "cyan",
          "width": 0.02957607624055209
         },
         "locationmode": "USA-states",
         "locations": [
          "AK",
          "RI"
         ],
         "mode": "lines",
         "type": "scattergeo"
        },
        {
         "hovertext": "245.4841371561002",
         "line": {
          "color": "cyan",
          "width": 0.23660860992441665
         },
         "locationmode": "USA-states",
         "locations": [
          "AL",
          "RI"
         ],
         "mode": "lines",
         "type": "scattergeo"
        },
        {
         "hovertext": "139.7895781027793",
         "line": {
          "color": "cyan",
          "width": 0.13473545842918172
         },
         "locationmode": "USA-states",
         "locations": [
          "AR",
          "RI"
         ],
         "mode": "lines",
         "type": "scattergeo"
        },
        {
         "hovertext": "763.7284267078674",
         "line": {
          "color": "cyan",
          "width": 0.7361156753204076
         },
         "locationmode": "USA-states",
         "locations": [
          "AZ",
          "RI"
         ],
         "mode": "lines",
         "type": "scattergeo"
        },
        {
         "hovertext": "2390.060835367031",
         "line": {
          "color": "cyan",
          "width": 2.303647716069668
         },
         "locationmode": "USA-states",
         "locations": [
          "CA",
          "RI"
         ],
         "mode": "lines",
         "type": "scattergeo"
        },
        {
         "hovertext": "1022.850571483751",
         "line": {
          "color": "cyan",
          "width": 0.9858692080184028
         },
         "locationmode": "USA-states",
         "locations": [
          "CO",
          "RI"
         ],
         "mode": "lines",
         "type": "scattergeo"
        },
        {
         "hovertext": "10375.11429675018",
         "line": {
          "color": "cyan",
          "width": 10
         },
         "locationmode": "USA-states",
         "locations": [
          "FL",
          "RI"
         ],
         "mode": "lines",
         "type": "scattergeo"
        },
        {
         "hovertext": "968.2985410046176",
         "line": {
          "color": "cyan",
          "width": 0.9332895169240881
         },
         "locationmode": "USA-states",
         "locations": [
          "GA",
          "RI"
         ],
         "mode": "lines",
         "type": "scattergeo"
        },
        {
         "hovertext": "136.38007619783346",
         "line": {
          "color": "cyan",
          "width": 0.13144922773578704
         },
         "locationmode": "USA-states",
         "locations": [
          "HI",
          "RI"
         ],
         "mode": "lines",
         "type": "scattergeo"
        },
        {
         "hovertext": "112.5135628632126",
         "line": {
          "color": "cyan",
          "width": 0.10844561288202433
         },
         "locationmode": "USA-states",
         "locations": [
          "IA",
          "RI"
         ],
         "mode": "lines",
         "type": "scattergeo"
        },
        {
         "hovertext": "37.5045209544042",
         "line": {
          "color": "cyan",
          "width": 0.03614853762734144
         },
         "locationmode": "USA-states",
         "locations": [
          "ID",
          "RI"
         ],
         "mode": "lines",
         "type": "scattergeo"
        },
        {
         "hovertext": "2069.5676563021225",
         "line": {
          "color": "cyan",
          "width": 1.9947420308905683
         },
         "locationmode": "USA-states",
         "locations": [
          "IL",
          "RI"
         ],
         "mode": "lines",
         "type": "scattergeo"
        },
        {
         "hovertext": "470.5112628825254",
         "line": {
          "color": "cyan",
          "width": 0.45349983568846525
         },
         "locationmode": "USA-states",
         "locations": [
          "IN",
          "RI"
         ],
         "mode": "lines",
         "type": "scattergeo"
        },
        {
         "hovertext": "47.73302666924171",
         "line": {
          "color": "cyan",
          "width": 0.04600722970752547
         },
         "locationmode": "USA-states",
         "locations": [
          "KS",
          "RI"
         ],
         "mode": "lines",
         "type": "scattergeo"
        },
        {
         "hovertext": "872.8324876661342",
         "line": {
          "color": "cyan",
          "width": 0.8412750575090372
         },
         "locationmode": "USA-states",
         "locations": [
          "KY",
          "RI"
         ],
         "mode": "lines",
         "type": "scattergeo"
        },
        {
         "hovertext": "405.7307266885545",
         "line": {
          "color": "cyan",
          "width": 0.39106145251396646
         },
         "locationmode": "USA-states",
         "locations": [
          "LA",
          "RI"
         ],
         "mode": "lines",
         "type": "scattergeo"
        },
        {
         "hovertext": "1752.4839791421598",
         "line": {
          "color": "cyan",
          "width": 1.6891225764048634
         },
         "locationmode": "USA-states",
         "locations": [
          "MD",
          "RI"
         ],
         "mode": "lines",
         "type": "scattergeo"
        },
        {
         "hovertext": "3.409501904945836",
         "line": {
          "color": "cyan",
          "width": 0.0032862306933946757
         },
         "locationmode": "USA-states",
         "locations": [
          "ME",
          "RI"
         ],
         "mode": "lines",
         "type": "scattergeo"
        },
        {
         "hovertext": "565.977316221009",
         "line": {
          "color": "cyan",
          "width": 0.5455142951035165
         },
         "locationmode": "USA-states",
         "locations": [
          "MI",
          "RI"
         ],
         "mode": "lines",
         "type": "scattergeo"
        },
        {
         "hovertext": "640.9863581298173",
         "line": {
          "color": "cyan",
          "width": 0.6178113703581992
         },
         "locationmode": "USA-states",
         "locations": [
          "MN",
          "RI"
         ],
         "mode": "lines",
         "type": "scattergeo"
        },
        {
         "hovertext": "760.3189248029214",
         "line": {
          "color": "cyan",
          "width": 0.7328294446270127
         },
         "locationmode": "USA-states",
         "locations": [
          "MO",
          "RI"
         ],
         "mode": "lines",
         "type": "scattergeo"
        },
        {
         "hovertext": "85.23754762364591",
         "line": {
          "color": "cyan",
          "width": 0.08215576733486692
         },
         "locationmode": "USA-states",
         "locations": [
          "MS",
          "RI"
         ],
         "mode": "lines",
         "type": "scattergeo"
        },
        {
         "hovertext": "88.64704952859174",
         "line": {
          "color": "cyan",
          "width": 0.08544199802826158
         },
         "locationmode": "USA-states",
         "locations": [
          "MT",
          "RI"
         ],
         "mode": "lines",
         "type": "scattergeo"
        },
        {
         "hovertext": "3037.866197306741",
         "line": {
          "color": "cyan",
          "width": 2.9280315478146575
         },
         "locationmode": "USA-states",
         "locations": [
          "NC",
          "RI"
         ],
         "mode": "lines",
         "type": "scattergeo"
        },
        {
         "hovertext": "40.914022859350034",
         "line": {
          "color": "cyan",
          "width": 0.03943476832073611
         },
         "locationmode": "USA-states",
         "locations": [
          "ND",
          "RI"
         ],
         "mode": "lines",
         "type": "scattergeo"
        },
        {
         "hovertext": "194.34160858191265",
         "line": {
          "color": "cyan",
          "width": 0.1873151495234965
         },
         "locationmode": "USA-states",
         "locations": [
          "NE",
          "RI"
         ],
         "mode": "lines",
         "type": "scattergeo"
        },
        {
         "hovertext": "143.19908000772514",
         "line": {
          "color": "cyan",
          "width": 0.13802168912257642
         },
         "locationmode": "USA-states",
         "locations": [
          "NM",
          "RI"
         ],
         "mode": "lines",
         "type": "scattergeo"
        },
        {
         "hovertext": "623.938848605088",
         "line": {
          "color": "cyan",
          "width": 0.6013802168912257
         },
         "locationmode": "USA-states",
         "locations": [
          "NV",
          "RI"
         ],
         "mode": "lines",
         "type": "scattergeo"
        },
        {
         "hovertext": "119.33256667310428",
         "line": {
          "color": "cyan",
          "width": 0.11501807426881369
         },
         "locationmode": "USA-states",
         "locations": [
          "NY",
          "RI"
         ],
         "mode": "lines",
         "type": "scattergeo"
        },
        {
         "hovertext": "736.4524114683006",
         "line": {
          "color": "cyan",
          "width": 0.7098258297732501
         },
         "locationmode": "USA-states",
         "locations": [
          "OH",
          "RI"
         ],
         "mode": "lines",
         "type": "scattergeo"
        },
        {
         "hovertext": "255.7126428709377",
         "line": {
          "color": "cyan",
          "width": 0.2464673020046007
         },
         "locationmode": "USA-states",
         "locations": [
          "OK",
          "RI"
         ],
         "mode": "lines",
         "type": "scattergeo"
        },
        {
         "hovertext": "231.84612953631688",
         "line": {
          "color": "cyan",
          "width": 0.22346368715083798
         },
         "locationmode": "USA-states",
         "locations": [
          "OR",
          "RI"
         ],
         "mode": "lines",
         "type": "scattergeo"
        },
        {
         "hovertext": "695.5383886089506",
         "line": {
          "color": "cyan",
          "width": 0.670391061452514
         },
         "locationmode": "USA-states",
         "locations": [
          "PA",
          "RI"
         ],
         "mode": "lines",
         "type": "scattergeo"
        },
        {
         "hovertext": "115.92306476815844",
         "line": {
          "color": "cyan",
          "width": 0.11173184357541899
         },
         "locationmode": "USA-states",
         "locations": [
          "PR",
          "RI"
         ],
         "mode": "lines",
         "type": "scattergeo"
        },
        {
         "hovertext": "937.6130238601048",
         "line": {
          "color": "cyan",
          "width": 0.9037134406835359
         },
         "locationmode": "USA-states",
         "locations": [
          "SC",
          "RI"
         ],
         "mode": "lines",
         "type": "scattergeo"
        },
        {
         "hovertext": "92.05655143353758",
         "line": {
          "color": "cyan",
          "width": 0.08872822872165627
         },
         "locationmode": "USA-states",
         "locations": [
          "SD",
          "RI"
         ],
         "mode": "lines",
         "type": "scattergeo"
        },
        {
         "hovertext": "995.5745562441842",
         "line": {
          "color": "cyan",
          "width": 0.9595793624712454
         },
         "locationmode": "USA-states",
         "locations": [
          "TN",
          "RI"
         ],
         "mode": "lines",
         "type": "scattergeo"
        },
        {
         "hovertext": "6.819003809891672",
         "line": {
          "color": "cyan",
          "width": 0.006572461386789351
         },
         "locationmode": "USA-states",
         "locations": [
          "TT",
          "RI"
         ],
         "mode": "lines",
         "type": "scattergeo"
        },
        {
         "hovertext": "1858.1785381954808",
         "line": {
          "color": "cyan",
          "width": 1.7909957279000985
         },
         "locationmode": "USA-states",
         "locations": [
          "TX",
          "RI"
         ],
         "mode": "lines",
         "type": "scattergeo"
        },
        {
         "hovertext": "296.6266657302877",
         "line": {
          "color": "cyan",
          "width": 0.28590207032533677
         },
         "locationmode": "USA-states",
         "locations": [
          "UT",
          "RI"
         ],
         "mode": "lines",
         "type": "scattergeo"
        },
        {
         "hovertext": "2928.7621363484736",
         "line": {
          "color": "cyan",
          "width": 2.8228721656260274
         },
         "locationmode": "USA-states",
         "locations": [
          "VA",
          "RI"
         ],
         "mode": "lines",
         "type": "scattergeo"
        },
        {
         "hovertext": "20.457011429675017",
         "line": {
          "color": "cyan",
          "width": 0.019717384160368057
         },
         "locationmode": "USA-states",
         "locations": [
          "VI",
          "RI"
         ],
         "mode": "lines",
         "type": "scattergeo"
        },
        {
         "hovertext": "357.99770001931284",
         "line": {
          "color": "cyan",
          "width": 0.34505422280644105
         },
         "locationmode": "USA-states",
         "locations": [
          "WA",
          "RI"
         ],
         "mode": "lines",
         "type": "scattergeo"
        },
        {
         "hovertext": "310.2646733500711",
         "line": {
          "color": "cyan",
          "width": 0.2990469930989155
         },
         "locationmode": "USA-states",
         "locations": [
          "WI",
          "RI"
         ],
         "mode": "lines",
         "type": "scattergeo"
        },
        {
         "hovertext": "47.7330266692417",
         "line": {
          "color": "cyan",
          "width": 0.04600722970752546
         },
         "locationmode": "USA-states",
         "locations": [
          "WV",
          "RI"
         ],
         "mode": "lines",
         "type": "scattergeo"
        },
        {
         "hovertext": "71.59954000386257",
         "line": {
          "color": "cyan",
          "width": 0.06901084456128821
         },
         "locationmode": "USA-states",
         "locations": [
          "WY",
          "RI"
         ],
         "mode": "lines",
         "type": "scattergeo"
        }
       ],
       "layout": {
        "coloraxis": {
         "colorbar": {
          "title": {
           "text": "color"
          }
         },
         "colorscale": [
          [
           0,
           "#000004"
          ],
          [
           0.1111111111111111,
           "#180f3d"
          ],
          [
           0.2222222222222222,
           "#440f76"
          ],
          [
           0.3333333333333333,
           "#721f81"
          ],
          [
           0.4444444444444444,
           "#9e2f7f"
          ],
          [
           0.5555555555555556,
           "#cd4071"
          ],
          [
           0.6666666666666666,
           "#f1605d"
          ],
          [
           0.7777777777777778,
           "#fd9668"
          ],
          [
           0.8888888888888888,
           "#feca8d"
          ],
          [
           1,
           "#fcfdbf"
          ]
         ]
        },
        "geo": {
         "center": {},
         "domain": {
          "x": [
           0,
           1
          ],
          "y": [
           0,
           1
          ]
         },
         "scope": "usa"
        },
        "legend": {
         "tracegroupgap": 0
        },
        "margin": {
         "t": 60
        },
        "showlegend": false,
        "template": {
         "data": {
          "bar": [
           {
            "error_x": {
             "color": "#2a3f5f"
            },
            "error_y": {
             "color": "#2a3f5f"
            },
            "marker": {
             "line": {
              "color": "#E5ECF6",
              "width": 0.5
             }
            },
            "type": "bar"
           }
          ],
          "barpolar": [
           {
            "marker": {
             "line": {
              "color": "#E5ECF6",
              "width": 0.5
             }
            },
            "type": "barpolar"
           }
          ],
          "carpet": [
           {
            "aaxis": {
             "endlinecolor": "#2a3f5f",
             "gridcolor": "white",
             "linecolor": "white",
             "minorgridcolor": "white",
             "startlinecolor": "#2a3f5f"
            },
            "baxis": {
             "endlinecolor": "#2a3f5f",
             "gridcolor": "white",
             "linecolor": "white",
             "minorgridcolor": "white",
             "startlinecolor": "#2a3f5f"
            },
            "type": "carpet"
           }
          ],
          "choropleth": [
           {
            "colorbar": {
             "outlinewidth": 0,
             "ticks": ""
            },
            "type": "choropleth"
           }
          ],
          "contour": [
           {
            "colorbar": {
             "outlinewidth": 0,
             "ticks": ""
            },
            "colorscale": [
             [
              0,
              "#0d0887"
             ],
             [
              0.1111111111111111,
              "#46039f"
             ],
             [
              0.2222222222222222,
              "#7201a8"
             ],
             [
              0.3333333333333333,
              "#9c179e"
             ],
             [
              0.4444444444444444,
              "#bd3786"
             ],
             [
              0.5555555555555556,
              "#d8576b"
             ],
             [
              0.6666666666666666,
              "#ed7953"
             ],
             [
              0.7777777777777778,
              "#fb9f3a"
             ],
             [
              0.8888888888888888,
              "#fdca26"
             ],
             [
              1,
              "#f0f921"
             ]
            ],
            "type": "contour"
           }
          ],
          "contourcarpet": [
           {
            "colorbar": {
             "outlinewidth": 0,
             "ticks": ""
            },
            "type": "contourcarpet"
           }
          ],
          "heatmap": [
           {
            "colorbar": {
             "outlinewidth": 0,
             "ticks": ""
            },
            "colorscale": [
             [
              0,
              "#0d0887"
             ],
             [
              0.1111111111111111,
              "#46039f"
             ],
             [
              0.2222222222222222,
              "#7201a8"
             ],
             [
              0.3333333333333333,
              "#9c179e"
             ],
             [
              0.4444444444444444,
              "#bd3786"
             ],
             [
              0.5555555555555556,
              "#d8576b"
             ],
             [
              0.6666666666666666,
              "#ed7953"
             ],
             [
              0.7777777777777778,
              "#fb9f3a"
             ],
             [
              0.8888888888888888,
              "#fdca26"
             ],
             [
              1,
              "#f0f921"
             ]
            ],
            "type": "heatmap"
           }
          ],
          "heatmapgl": [
           {
            "colorbar": {
             "outlinewidth": 0,
             "ticks": ""
            },
            "colorscale": [
             [
              0,
              "#0d0887"
             ],
             [
              0.1111111111111111,
              "#46039f"
             ],
             [
              0.2222222222222222,
              "#7201a8"
             ],
             [
              0.3333333333333333,
              "#9c179e"
             ],
             [
              0.4444444444444444,
              "#bd3786"
             ],
             [
              0.5555555555555556,
              "#d8576b"
             ],
             [
              0.6666666666666666,
              "#ed7953"
             ],
             [
              0.7777777777777778,
              "#fb9f3a"
             ],
             [
              0.8888888888888888,
              "#fdca26"
             ],
             [
              1,
              "#f0f921"
             ]
            ],
            "type": "heatmapgl"
           }
          ],
          "histogram": [
           {
            "marker": {
             "colorbar": {
              "outlinewidth": 0,
              "ticks": ""
             }
            },
            "type": "histogram"
           }
          ],
          "histogram2d": [
           {
            "colorbar": {
             "outlinewidth": 0,
             "ticks": ""
            },
            "colorscale": [
             [
              0,
              "#0d0887"
             ],
             [
              0.1111111111111111,
              "#46039f"
             ],
             [
              0.2222222222222222,
              "#7201a8"
             ],
             [
              0.3333333333333333,
              "#9c179e"
             ],
             [
              0.4444444444444444,
              "#bd3786"
             ],
             [
              0.5555555555555556,
              "#d8576b"
             ],
             [
              0.6666666666666666,
              "#ed7953"
             ],
             [
              0.7777777777777778,
              "#fb9f3a"
             ],
             [
              0.8888888888888888,
              "#fdca26"
             ],
             [
              1,
              "#f0f921"
             ]
            ],
            "type": "histogram2d"
           }
          ],
          "histogram2dcontour": [
           {
            "colorbar": {
             "outlinewidth": 0,
             "ticks": ""
            },
            "colorscale": [
             [
              0,
              "#0d0887"
             ],
             [
              0.1111111111111111,
              "#46039f"
             ],
             [
              0.2222222222222222,
              "#7201a8"
             ],
             [
              0.3333333333333333,
              "#9c179e"
             ],
             [
              0.4444444444444444,
              "#bd3786"
             ],
             [
              0.5555555555555556,
              "#d8576b"
             ],
             [
              0.6666666666666666,
              "#ed7953"
             ],
             [
              0.7777777777777778,
              "#fb9f3a"
             ],
             [
              0.8888888888888888,
              "#fdca26"
             ],
             [
              1,
              "#f0f921"
             ]
            ],
            "type": "histogram2dcontour"
           }
          ],
          "mesh3d": [
           {
            "colorbar": {
             "outlinewidth": 0,
             "ticks": ""
            },
            "type": "mesh3d"
           }
          ],
          "parcoords": [
           {
            "line": {
             "colorbar": {
              "outlinewidth": 0,
              "ticks": ""
             }
            },
            "type": "parcoords"
           }
          ],
          "pie": [
           {
            "automargin": true,
            "type": "pie"
           }
          ],
          "scatter": [
           {
            "marker": {
             "colorbar": {
              "outlinewidth": 0,
              "ticks": ""
             }
            },
            "type": "scatter"
           }
          ],
          "scatter3d": [
           {
            "line": {
             "colorbar": {
              "outlinewidth": 0,
              "ticks": ""
             }
            },
            "marker": {
             "colorbar": {
              "outlinewidth": 0,
              "ticks": ""
             }
            },
            "type": "scatter3d"
           }
          ],
          "scattercarpet": [
           {
            "marker": {
             "colorbar": {
              "outlinewidth": 0,
              "ticks": ""
             }
            },
            "type": "scattercarpet"
           }
          ],
          "scattergeo": [
           {
            "marker": {
             "colorbar": {
              "outlinewidth": 0,
              "ticks": ""
             }
            },
            "type": "scattergeo"
           }
          ],
          "scattergl": [
           {
            "marker": {
             "colorbar": {
              "outlinewidth": 0,
              "ticks": ""
             }
            },
            "type": "scattergl"
           }
          ],
          "scattermapbox": [
           {
            "marker": {
             "colorbar": {
              "outlinewidth": 0,
              "ticks": ""
             }
            },
            "type": "scattermapbox"
           }
          ],
          "scatterpolar": [
           {
            "marker": {
             "colorbar": {
              "outlinewidth": 0,
              "ticks": ""
             }
            },
            "type": "scatterpolar"
           }
          ],
          "scatterpolargl": [
           {
            "marker": {
             "colorbar": {
              "outlinewidth": 0,
              "ticks": ""
             }
            },
            "type": "scatterpolargl"
           }
          ],
          "scatterternary": [
           {
            "marker": {
             "colorbar": {
              "outlinewidth": 0,
              "ticks": ""
             }
            },
            "type": "scatterternary"
           }
          ],
          "surface": [
           {
            "colorbar": {
             "outlinewidth": 0,
             "ticks": ""
            },
            "colorscale": [
             [
              0,
              "#0d0887"
             ],
             [
              0.1111111111111111,
              "#46039f"
             ],
             [
              0.2222222222222222,
              "#7201a8"
             ],
             [
              0.3333333333333333,
              "#9c179e"
             ],
             [
              0.4444444444444444,
              "#bd3786"
             ],
             [
              0.5555555555555556,
              "#d8576b"
             ],
             [
              0.6666666666666666,
              "#ed7953"
             ],
             [
              0.7777777777777778,
              "#fb9f3a"
             ],
             [
              0.8888888888888888,
              "#fdca26"
             ],
             [
              1,
              "#f0f921"
             ]
            ],
            "type": "surface"
           }
          ],
          "table": [
           {
            "cells": {
             "fill": {
              "color": "#EBF0F8"
             },
             "line": {
              "color": "white"
             }
            },
            "header": {
             "fill": {
              "color": "#C8D4E3"
             },
             "line": {
              "color": "white"
             }
            },
            "type": "table"
           }
          ]
         },
         "layout": {
          "annotationdefaults": {
           "arrowcolor": "#2a3f5f",
           "arrowhead": 0,
           "arrowwidth": 1
          },
          "autotypenumbers": "strict",
          "coloraxis": {
           "colorbar": {
            "outlinewidth": 0,
            "ticks": ""
           }
          },
          "colorscale": {
           "diverging": [
            [
             0,
             "#8e0152"
            ],
            [
             0.1,
             "#c51b7d"
            ],
            [
             0.2,
             "#de77ae"
            ],
            [
             0.3,
             "#f1b6da"
            ],
            [
             0.4,
             "#fde0ef"
            ],
            [
             0.5,
             "#f7f7f7"
            ],
            [
             0.6,
             "#e6f5d0"
            ],
            [
             0.7,
             "#b8e186"
            ],
            [
             0.8,
             "#7fbc41"
            ],
            [
             0.9,
             "#4d9221"
            ],
            [
             1,
             "#276419"
            ]
           ],
           "sequential": [
            [
             0,
             "#0d0887"
            ],
            [
             0.1111111111111111,
             "#46039f"
            ],
            [
             0.2222222222222222,
             "#7201a8"
            ],
            [
             0.3333333333333333,
             "#9c179e"
            ],
            [
             0.4444444444444444,
             "#bd3786"
            ],
            [
             0.5555555555555556,
             "#d8576b"
            ],
            [
             0.6666666666666666,
             "#ed7953"
            ],
            [
             0.7777777777777778,
             "#fb9f3a"
            ],
            [
             0.8888888888888888,
             "#fdca26"
            ],
            [
             1,
             "#f0f921"
            ]
           ],
           "sequentialminus": [
            [
             0,
             "#0d0887"
            ],
            [
             0.1111111111111111,
             "#46039f"
            ],
            [
             0.2222222222222222,
             "#7201a8"
            ],
            [
             0.3333333333333333,
             "#9c179e"
            ],
            [
             0.4444444444444444,
             "#bd3786"
            ],
            [
             0.5555555555555556,
             "#d8576b"
            ],
            [
             0.6666666666666666,
             "#ed7953"
            ],
            [
             0.7777777777777778,
             "#fb9f3a"
            ],
            [
             0.8888888888888888,
             "#fdca26"
            ],
            [
             1,
             "#f0f921"
            ]
           ]
          },
          "colorway": [
           "#636efa",
           "#EF553B",
           "#00cc96",
           "#ab63fa",
           "#FFA15A",
           "#19d3f3",
           "#FF6692",
           "#B6E880",
           "#FF97FF",
           "#FECB52"
          ],
          "font": {
           "color": "#2a3f5f"
          },
          "geo": {
           "bgcolor": "white",
           "lakecolor": "white",
           "landcolor": "#E5ECF6",
           "showlakes": true,
           "showland": true,
           "subunitcolor": "white"
          },
          "hoverlabel": {
           "align": "left"
          },
          "hovermode": "closest",
          "mapbox": {
           "style": "light"
          },
          "paper_bgcolor": "white",
          "plot_bgcolor": "#E5ECF6",
          "polar": {
           "angularaxis": {
            "gridcolor": "white",
            "linecolor": "white",
            "ticks": ""
           },
           "bgcolor": "#E5ECF6",
           "radialaxis": {
            "gridcolor": "white",
            "linecolor": "white",
            "ticks": ""
           }
          },
          "scene": {
           "xaxis": {
            "backgroundcolor": "#E5ECF6",
            "gridcolor": "white",
            "gridwidth": 2,
            "linecolor": "white",
            "showbackground": true,
            "ticks": "",
            "zerolinecolor": "white"
           },
           "yaxis": {
            "backgroundcolor": "#E5ECF6",
            "gridcolor": "white",
            "gridwidth": 2,
            "linecolor": "white",
            "showbackground": true,
            "ticks": "",
            "zerolinecolor": "white"
           },
           "zaxis": {
            "backgroundcolor": "#E5ECF6",
            "gridcolor": "white",
            "gridwidth": 2,
            "linecolor": "white",
            "showbackground": true,
            "ticks": "",
            "zerolinecolor": "white"
           }
          },
          "shapedefaults": {
           "line": {
            "color": "#2a3f5f"
           }
          },
          "ternary": {
           "aaxis": {
            "gridcolor": "white",
            "linecolor": "white",
            "ticks": ""
           },
           "baxis": {
            "gridcolor": "white",
            "linecolor": "white",
            "ticks": ""
           },
           "bgcolor": "#E5ECF6",
           "caxis": {
            "gridcolor": "white",
            "linecolor": "white",
            "ticks": ""
           }
          },
          "title": {
           "x": 0.05
          },
          "xaxis": {
           "automargin": true,
           "gridcolor": "white",
           "linecolor": "white",
           "ticks": "",
           "title": {
            "standoff": 15
           },
           "zerolinecolor": "white",
           "zerolinewidth": 2
          },
          "yaxis": {
           "automargin": true,
           "gridcolor": "white",
           "linecolor": "white",
           "ticks": "",
           "title": {
            "standoff": 15
           },
           "zerolinecolor": "white",
           "zerolinewidth": 2
          }
         }
        }
       }
      }
     },
     "metadata": {}
    }
   ],
   "source": [
    "draw_map(\"RI\", 7)"
   ]
  },
  {
   "cell_type": "code",
   "execution_count": null,
   "id": "romantic-biotechnology",
   "metadata": {},
   "outputs": [],
   "source": []
  }
 ],
 "metadata": {
  "kernelspec": {
   "name": "python3",
   "display_name": "Python 3.7.9 64-bit ('cs1951a': conda)",
   "metadata": {
    "interpreter": {
     "hash": "13d9177f62ed0edee4d7778e62d2f9507cc6c2b253c6aa01772e3ebdc0b09395"
    }
   }
  },
  "language_info": {
   "codemirror_mode": {
    "name": "ipython",
    "version": 3
   },
   "file_extension": ".py",
   "mimetype": "text/x-python",
   "name": "python",
   "nbconvert_exporter": "python",
   "pygments_lexer": "ipython3",
   "version": "3.7.9"
  }
 },
 "nbformat": 4,
 "nbformat_minor": 5
}