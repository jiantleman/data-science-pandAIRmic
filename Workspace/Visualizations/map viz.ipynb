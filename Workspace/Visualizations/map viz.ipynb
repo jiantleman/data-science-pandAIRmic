{
 "cells": [
  {
   "cell_type": "code",
   "execution_count": 2,
   "id": "ambient-listing",
   "metadata": {},
   "outputs": [],
   "source": [
    "import plotly.express as px\n",
    "import pandas as pd\n",
    "import plotly.graph_objects as go"
   ]
  },
  {
   "cell_type": "code",
   "execution_count": 3,
   "id": "excited-means",
   "metadata": {},
   "outputs": [],
   "source": [
    "cases = pd.read_csv('../Data/cases.csv')\n",
    "flights = pd.read_csv('../Data/flights.csv')"
   ]
  },
  {
   "cell_type": "code",
   "execution_count": 4,
   "id": "north-reserve",
   "metadata": {},
   "outputs": [],
   "source": [
    "def draw_map(dest_state, month):\n",
    "    july_cases = cases[cases['month'] == month]\n",
    "    july_flights = flights[(flights['month'] == month) & (flights['dest_state'] == dest_state)]\n",
    "    \n",
    "    fig = px.choropleth(locations =july_cases['state'].tolist(), color_continuous_scale=\"Magma\", locationmode=\"USA-states\",color=(july_cases['per_capita']*100000).tolist(), scope=\"usa\")\n",
    "\n",
    "    for index,i in enumerate(july_flights.iterrows()):\n",
    "        fig.add_trace(go.Scattergeo(hovertext = july_flights.iloc[index]['monthly_pax'],locationmode = \"USA-states\",locations = [july_flights.iloc[index]['origin_state'],dest_state],mode='lines',line = dict(width = (10*july_flights.iloc[index]['monthly_pax'] / july_flights['monthly_pax'].max()),color = \"cyan\")))\n",
    "\n",
    "    fig.update_layout(showlegend = False)\n",
    "    # fig = fig.add_trace(go.Scattergeo(locationmode = \"USA-states\",locations =july_cases['state'].tolist()))\n",
    "    return fig"
   ]
  },
  {
   "cell_type": "code",
   "execution_count": 5,
   "id": "corresponding-quebec",
   "metadata": {},
   "outputs": [
    {
     "output_type": "display_data",
     "data": {
      "application/vnd.plotly.v1+json": {
       "config": {
        "plotlyServerURL": "https://plot.ly"
       },
       "data": [
        {
         "coloraxis": "coloraxis",
         "geo": "geo",
         "hovertemplate": "locations=%{location}<br>color=%{z}<extra></extra>",
         "locationmode": "USA-states",
         "locations": [
          "AK",
          "AL",
          "AR",
          "AZ",
          "CA",
          "CO",
          "CT",
          "DC",
          "DE",
          "FL",
          "GA",
          "HI",
          "IA",
          "ID",
          "IL",
          "IN",
          "KS",
          "KY",
          "LA",
          "MA",
          "MD",
          "ME",
          "MI",
          "MN",
          "MO",
          "MS",
          "MT",
          "NC",
          "ND",
          "NE",
          "NH",
          "NJ",
          "NM",
          "NV",
          "NY",
          "OH",
          "OK",
          "OR",
          "PA",
          "RI",
          "SC",
          "SD",
          "TN",
          "TX",
          "UT",
          "VA",
          "VT",
          "WA",
          "WI",
          "WV",
          "WY"
         ],
         "name": "",
         "type": "choropleth",
         "z": [
          14.102880513339999,
          145.09384556179,
          91.44525644322,
          123.65362149777,
          125.95986378657999,
          226.43938335167002,
          601.09190198353,
          665.95013203692,
          564.7398443501701,
          101.52434408132001,
          205.66615729397,
          9.433357902302797,
          373.11340258448,
          49.65203670259999,
          507.72775934222,
          261.89957437956,
          207.52153954741001,
          112.61296544044001,
          256.8896248008,
          783.42267024371,
          437.40250662036,
          62.088876004549995,
          234.32572205745998,
          256.63055839066004,
          91.91290489177001,
          247.64526055321,
          5.930500185916474,
          110.58763706684,
          179.71863376999,
          425.2390025647,
          168.01109949589,
          830.67670050693,
          195.47319211157998,
          112.41131666574,
          720.71176805037,
          163.19855130809,
          70.45255750645,
          43.71571138371,
          267.75075622352,
          835.60717477762,
          91.18576306217,
          317.82914982969,
          160.64968884831,
          101.82969073938999,
          137.19885925965,
          254.08312235072998,
          26.983916627680003,
          101.73057428407999,
          148.32543456961,
          43.58101971833,
          55.042346257889996
         ]
        },
        {
         "hovertext": "1369.3179578548704",
         "line": {
          "color": "cyan",
          "width": 0.35037225105857683
         },
         "locationmode": "USA-states",
         "locations": [
          "AK",
          "CA"
         ],
         "mode": "lines",
         "type": "scattergeo"
        },
        {
         "hovertext": "1370.2269485930628",
         "line": {
          "color": "cyan",
          "width": 0.3506048377483993
         },
         "locationmode": "USA-states",
         "locations": [
          "AL",
          "CA"
         ],
         "mode": "lines",
         "type": "scattergeo"
        },
        {
         "hovertext": "1184.827171493842",
         "line": {
          "color": "cyan",
          "width": 0.3031659380572165
         },
         "locationmode": "USA-states",
         "locations": [
          "AR",
          "CA"
         ],
         "mode": "lines",
         "type": "scattergeo"
        },
        {
         "hovertext": "13168.727346652146",
         "line": {
          "color": "cyan",
          "width": 3.369529054633322
         },
         "locationmode": "USA-states",
         "locations": [
          "AZ",
          "CA"
         ],
         "mode": "lines",
         "type": "scattergeo"
        },
        {
         "hovertext": "39081.80381630569",
         "line": {
          "color": "cyan",
          "width": 10
         },
         "locationmode": "USA-states",
         "locations": [
          "CA",
          "CA"
         ],
         "mode": "lines",
         "type": "scattergeo"
        },
        {
         "hovertext": "13581.39849046273",
         "line": {
          "color": "cyan",
          "width": 3.475120686419368
         },
         "locationmode": "USA-states",
         "locations": [
          "CO",
          "CA"
         ],
         "mode": "lines",
         "type": "scattergeo"
        },
        {
         "hovertext": "1059.123196337223",
         "line": {
          "color": "cyan",
          "width": 0.2710016153080775
         },
         "locationmode": "USA-states",
         "locations": [
          "CT",
          "CA"
         ],
         "mode": "lines",
         "type": "scattergeo"
        },
        {
         "hovertext": "17257.33599964535",
         "line": {
          "color": "cyan",
          "width": 4.4156958774879405
         },
         "locationmode": "USA-states",
         "locations": [
          "FL",
          "CA"
         ],
         "mode": "lines",
         "type": "scattergeo"
        },
        {
         "hovertext": "9306.671778694385",
         "line": {
          "color": "cyan",
          "width": 2.381331174589096
         },
         "locationmode": "USA-states",
         "locations": [
          "GA",
          "CA"
         ],
         "mode": "lines",
         "type": "scattergeo"
        },
        {
         "hovertext": "3847.237479121758",
         "line": {
          "color": "cyan",
          "width": 0.9844063230051361
         },
         "locationmode": "USA-states",
         "locations": [
          "HI",
          "CA"
         ],
         "mode": "lines",
         "type": "scattergeo"
        },
        {
         "hovertext": "838.4622930006549",
         "line": {
          "color": "cyan",
          "width": 0.21454032596387787
         },
         "locationmode": "USA-states",
         "locations": [
          "IA",
          "CA"
         ],
         "mode": "lines",
         "type": "scattergeo"
        },
        {
         "hovertext": "3040.1478450070904",
         "line": {
          "color": "cyan",
          "width": 0.7778934307373707
         },
         "locationmode": "USA-states",
         "locations": [
          "ID",
          "CA"
         ],
         "mode": "lines",
         "type": "scattergeo"
        },
        {
         "hovertext": "13457.83249380426",
         "line": {
          "color": "cyan",
          "width": 3.443503415824781
         },
         "locationmode": "USA-states",
         "locations": [
          "IL",
          "CA"
         ],
         "mode": "lines",
         "type": "scattergeo"
        },
        {
         "hovertext": "2379.14075541841",
         "line": {
          "color": "cyan",
          "width": 0.6087591981682755
         },
         "locationmode": "USA-states",
         "locations": [
          "IN",
          "CA"
         ],
         "mode": "lines",
         "type": "scattergeo"
        },
        {
         "hovertext": "633.9860568103669",
         "line": {
          "color": "cyan",
          "width": 0.16222026490646665
         },
         "locationmode": "USA-states",
         "locations": [
          "KS",
          "CA"
         ],
         "mode": "lines",
         "type": "scattergeo"
        },
        {
         "hovertext": "2231.66401476872",
         "line": {
          "color": "cyan",
          "width": 0.5710238005538593
         },
         "locationmode": "USA-states",
         "locations": [
          "KY",
          "CA"
         ],
         "mode": "lines",
         "type": "scattergeo"
        },
        {
         "hovertext": "2957.203696474087",
         "line": {
          "color": "cyan",
          "width": 0.7566702167519411
         },
         "locationmode": "USA-states",
         "locations": [
          "LA",
          "CA"
         ],
         "mode": "lines",
         "type": "scattergeo"
        },
        {
         "hovertext": "4738.463097622661",
         "line": {
          "color": "cyan",
          "width": 1.2124473885326863
         },
         "locationmode": "USA-states",
         "locations": [
          "MA",
          "CA"
         ],
         "mode": "lines",
         "type": "scattergeo"
        },
        {
         "hovertext": "2926.428604634604",
         "line": {
          "color": "cyan",
          "width": 0.7487956846591715
         },
         "locationmode": "USA-states",
         "locations": [
          "MD",
          "CA"
         ],
         "mode": "lines",
         "type": "scattergeo"
        },
        {
         "hovertext": "282.1367411924942",
         "line": {
          "color": "cyan",
          "width": 0.07219133039984742
         },
         "locationmode": "USA-states",
         "locations": [
          "ME",
          "CA"
         ],
         "mode": "lines",
         "type": "scattergeo"
        },
        {
         "hovertext": "4818.18903203395",
         "line": {
          "color": "cyan",
          "width": 1.2328471466364885
         },
         "locationmode": "USA-states",
         "locations": [
          "MI",
          "CA"
         ],
         "mode": "lines",
         "type": "scattergeo"
        },
        {
         "hovertext": "4734.410240193988",
         "line": {
          "color": "cyan",
          "width": 1.2114103695026226
         },
         "locationmode": "USA-states",
         "locations": [
          "MN",
          "CA"
         ],
         "mode": "lines",
         "type": "scattergeo"
        },
        {
         "hovertext": "6151.489996540956",
         "line": {
          "color": "cyan",
          "width": 1.574003601638887
         },
         "locationmode": "USA-states",
         "locations": [
          "MO",
          "CA"
         ],
         "mode": "lines",
         "type": "scattergeo"
        },
        {
         "hovertext": "545.1531384079065",
         "line": {
          "color": "cyan",
          "width": 0.1394902704517589
         },
         "locationmode": "USA-states",
         "locations": [
          "MS",
          "CA"
         ],
         "mode": "lines",
         "type": "scattergeo"
        },
        {
         "hovertext": "1719.7547402460414",
         "line": {
          "color": "cyan",
          "width": 0.4400397556697539
         },
         "locationmode": "USA-states",
         "locations": [
          "MT",
          "CA"
         ],
         "mode": "lines",
         "type": "scattergeo"
        },
        {
         "hovertext": "6561.044683248131",
         "line": {
          "color": "cyan",
          "width": 1.6787978144731217
         },
         "locationmode": "USA-states",
         "locations": [
          "NC",
          "CA"
         ],
         "mode": "lines",
         "type": "scattergeo"
        },
        {
         "hovertext": "486.55510194614254",
         "line": {
          "color": "cyan",
          "width": 0.12449658266365439
         },
         "locationmode": "USA-states",
         "locations": [
          "ND",
          "CA"
         ],
         "mode": "lines",
         "type": "scattergeo"
        },
        {
         "hovertext": "1228.9678982615785",
         "line": {
          "color": "cyan",
          "width": 0.31446038264713594
         },
         "locationmode": "USA-states",
         "locations": [
          "NE",
          "CA"
         ],
         "mode": "lines",
         "type": "scattergeo"
        },
        {
         "hovertext": "131.68398399151437",
         "line": {
          "color": "cyan",
          "width": 0.03369444885667566
         },
         "locationmode": "USA-states",
         "locations": [
          "NH",
          "CA"
         ],
         "mode": "lines",
         "type": "scattergeo"
        },
        {
         "hovertext": "5286.631429375942",
         "line": {
          "color": "cyan",
          "width": 1.3527091672186984
         },
         "locationmode": "USA-states",
         "locations": [
          "NJ",
          "CA"
         ],
         "mode": "lines",
         "type": "scattergeo"
        },
        {
         "hovertext": "1328.9316641035462",
         "line": {
          "color": "cyan",
          "width": 0.3400384665840551
         },
         "locationmode": "USA-states",
         "locations": [
          "NM",
          "CA"
         ],
         "mode": "lines",
         "type": "scattergeo"
        },
        {
         "hovertext": "12337.27393466021",
         "line": {
          "color": "cyan",
          "width": 3.1567821159556764
         },
         "locationmode": "USA-states",
         "locations": [
          "NV",
          "CA"
         ],
         "mode": "lines",
         "type": "scattergeo"
        },
        {
         "hovertext": "10115.240843649886",
         "line": {
          "color": "cyan",
          "width": 2.5882226140825186
         },
         "locationmode": "USA-states",
         "locations": [
          "NY",
          "CA"
         ],
         "mode": "lines",
         "type": "scattergeo"
        },
        {
         "hovertext": "3626.721615844376",
         "line": {
          "color": "cyan",
          "width": 0.9279821455762073
         },
         "locationmode": "USA-states",
         "locations": [
          "OH",
          "CA"
         ],
         "mode": "lines",
         "type": "scattergeo"
        },
        {
         "hovertext": "2416.816968210496",
         "line": {
          "color": "cyan",
          "width": 0.6183995445988479
         },
         "locationmode": "USA-states",
         "locations": [
          "OK",
          "CA"
         ],
         "mode": "lines",
         "type": "scattergeo"
        },
        {
         "hovertext": "9716.227971160244",
         "line": {
          "color": "cyan",
          "width": 2.4861257727071555
         },
         "locationmode": "USA-states",
         "locations": [
          "OR",
          "CA"
         ],
         "mode": "lines",
         "type": "scattergeo"
        },
        {
         "hovertext": "5394.941863043432",
         "line": {
          "color": "cyan",
          "width": 1.3804229427078176
         },
         "locationmode": "USA-states",
         "locations": [
          "PA",
          "CA"
         ],
         "mode": "lines",
         "type": "scattergeo"
        },
        {
         "hovertext": "322.09839219273147",
         "line": {
          "color": "cyan",
          "width": 0.08241646002489417
         },
         "locationmode": "USA-states",
         "locations": [
          "PR",
          "CA"
         ],
         "mode": "lines",
         "type": "scattergeo"
        },
        {
         "hovertext": "302.8433616018666",
         "line": {
          "color": "cyan",
          "width": 0.07748960693454851
         },
         "locationmode": "USA-states",
         "locations": [
          "RI",
          "CA"
         ],
         "mode": "lines",
         "type": "scattergeo"
        },
        {
         "hovertext": "1744.4466983926725",
         "line": {
          "color": "cyan",
          "width": 0.4463577747311795
         },
         "locationmode": "USA-states",
         "locations": [
          "SC",
          "CA"
         ],
         "mode": "lines",
         "type": "scattergeo"
        },
        {
         "hovertext": "529.3779666754479",
         "line": {
          "color": "cyan",
          "width": 0.13545382121144087
         },
         "locationmode": "USA-states",
         "locations": [
          "SD",
          "CA"
         ],
         "mode": "lines",
         "type": "scattergeo"
        },
        {
         "hovertext": "6143.357741500619",
         "line": {
          "color": "cyan",
          "width": 1.5719227726478404
         },
         "locationmode": "USA-states",
         "locations": [
          "TN",
          "CA"
         ],
         "mode": "lines",
         "type": "scattergeo"
        },
        {
         "hovertext": "116.15602129866924",
         "line": {
          "color": "cyan",
          "width": 0.029721253871656427
         },
         "locationmode": "USA-states",
         "locations": [
          "TT",
          "CA"
         ],
         "mode": "lines",
         "type": "scattergeo"
        },
        {
         "hovertext": "30672.5550626109",
         "line": {
          "color": "cyan",
          "width": 7.8482956433586395
         },
         "locationmode": "USA-states",
         "locations": [
          "TX",
          "CA"
         ],
         "mode": "lines",
         "type": "scattergeo"
        },
        {
         "hovertext": "6463.616156068042",
         "line": {
          "color": "cyan",
          "width": 1.6538684310603122
         },
         "locationmode": "USA-states",
         "locations": [
          "UT",
          "CA"
         ],
         "mode": "lines",
         "type": "scattergeo"
        },
        {
         "hovertext": "8858.38283879512",
         "line": {
          "color": "cyan",
          "width": 2.2666258907679255
         },
         "locationmode": "USA-states",
         "locations": [
          "VA",
          "CA"
         ],
         "mode": "lines",
         "type": "scattergeo"
        },
        {
         "hovertext": "121.7362028889614",
         "line": {
          "color": "cyan",
          "width": 0.031149074761531524
         },
         "locationmode": "USA-states",
         "locations": [
          "VI",
          "CA"
         ],
         "mode": "lines",
         "type": "scattergeo"
        },
        {
         "hovertext": "152.6585062762193",
         "line": {
          "color": "cyan",
          "width": 0.03906127439607258
         },
         "locationmode": "USA-states",
         "locations": [
          "VT",
          "CA"
         ],
         "mode": "lines",
         "type": "scattergeo"
        },
        {
         "hovertext": "17093.041305930252",
         "line": {
          "color": "cyan",
          "width": 4.373657210468545
         },
         "locationmode": "USA-states",
         "locations": [
          "WA",
          "CA"
         ],
         "mode": "lines",
         "type": "scattergeo"
        },
        {
         "hovertext": "1699.7910784882863",
         "line": {
          "color": "cyan",
          "width": 0.4349315826049719
         },
         "locationmode": "USA-states",
         "locations": [
          "WI",
          "CA"
         ],
         "mode": "lines",
         "type": "scattergeo"
        },
        {
         "hovertext": "118.30515594145284",
         "line": {
          "color": "cyan",
          "width": 0.03027116058857386
         },
         "locationmode": "USA-states",
         "locations": [
          "WV",
          "CA"
         ],
         "mode": "lines",
         "type": "scattergeo"
        },
        {
         "hovertext": "450.1791990272442",
         "line": {
          "color": "cyan",
          "width": 0.11518895114033109
         },
         "locationmode": "USA-states",
         "locations": [
          "WY",
          "CA"
         ],
         "mode": "lines",
         "type": "scattergeo"
        }
       ],
       "layout": {
        "coloraxis": {
         "colorbar": {
          "title": {
           "text": "color"
          }
         },
         "colorscale": [
          [
           0,
           "#000004"
          ],
          [
           0.1111111111111111,
           "#180f3d"
          ],
          [
           0.2222222222222222,
           "#440f76"
          ],
          [
           0.3333333333333333,
           "#721f81"
          ],
          [
           0.4444444444444444,
           "#9e2f7f"
          ],
          [
           0.5555555555555556,
           "#cd4071"
          ],
          [
           0.6666666666666666,
           "#f1605d"
          ],
          [
           0.7777777777777778,
           "#fd9668"
          ],
          [
           0.8888888888888888,
           "#feca8d"
          ],
          [
           1,
           "#fcfdbf"
          ]
         ]
        },
        "geo": {
         "center": {},
         "domain": {
          "x": [
           0,
           1
          ],
          "y": [
           0,
           1
          ]
         },
         "scope": "usa"
        },
        "legend": {
         "tracegroupgap": 0
        },
        "margin": {
         "t": 60
        },
        "showlegend": false,
        "template": {
         "data": {
          "bar": [
           {
            "error_x": {
             "color": "#2a3f5f"
            },
            "error_y": {
             "color": "#2a3f5f"
            },
            "marker": {
             "line": {
              "color": "#E5ECF6",
              "width": 0.5
             }
            },
            "type": "bar"
           }
          ],
          "barpolar": [
           {
            "marker": {
             "line": {
              "color": "#E5ECF6",
              "width": 0.5
             }
            },
            "type": "barpolar"
           }
          ],
          "carpet": [
           {
            "aaxis": {
             "endlinecolor": "#2a3f5f",
             "gridcolor": "white",
             "linecolor": "white",
             "minorgridcolor": "white",
             "startlinecolor": "#2a3f5f"
            },
            "baxis": {
             "endlinecolor": "#2a3f5f",
             "gridcolor": "white",
             "linecolor": "white",
             "minorgridcolor": "white",
             "startlinecolor": "#2a3f5f"
            },
            "type": "carpet"
           }
          ],
          "choropleth": [
           {
            "colorbar": {
             "outlinewidth": 0,
             "ticks": ""
            },
            "type": "choropleth"
           }
          ],
          "contour": [
           {
            "colorbar": {
             "outlinewidth": 0,
             "ticks": ""
            },
            "colorscale": [
             [
              0,
              "#0d0887"
             ],
             [
              0.1111111111111111,
              "#46039f"
             ],
             [
              0.2222222222222222,
              "#7201a8"
             ],
             [
              0.3333333333333333,
              "#9c179e"
             ],
             [
              0.4444444444444444,
              "#bd3786"
             ],
             [
              0.5555555555555556,
              "#d8576b"
             ],
             [
              0.6666666666666666,
              "#ed7953"
             ],
             [
              0.7777777777777778,
              "#fb9f3a"
             ],
             [
              0.8888888888888888,
              "#fdca26"
             ],
             [
              1,
              "#f0f921"
             ]
            ],
            "type": "contour"
           }
          ],
          "contourcarpet": [
           {
            "colorbar": {
             "outlinewidth": 0,
             "ticks": ""
            },
            "type": "contourcarpet"
           }
          ],
          "heatmap": [
           {
            "colorbar": {
             "outlinewidth": 0,
             "ticks": ""
            },
            "colorscale": [
             [
              0,
              "#0d0887"
             ],
             [
              0.1111111111111111,
              "#46039f"
             ],
             [
              0.2222222222222222,
              "#7201a8"
             ],
             [
              0.3333333333333333,
              "#9c179e"
             ],
             [
              0.4444444444444444,
              "#bd3786"
             ],
             [
              0.5555555555555556,
              "#d8576b"
             ],
             [
              0.6666666666666666,
              "#ed7953"
             ],
             [
              0.7777777777777778,
              "#fb9f3a"
             ],
             [
              0.8888888888888888,
              "#fdca26"
             ],
             [
              1,
              "#f0f921"
             ]
            ],
            "type": "heatmap"
           }
          ],
          "heatmapgl": [
           {
            "colorbar": {
             "outlinewidth": 0,
             "ticks": ""
            },
            "colorscale": [
             [
              0,
              "#0d0887"
             ],
             [
              0.1111111111111111,
              "#46039f"
             ],
             [
              0.2222222222222222,
              "#7201a8"
             ],
             [
              0.3333333333333333,
              "#9c179e"
             ],
             [
              0.4444444444444444,
              "#bd3786"
             ],
             [
              0.5555555555555556,
              "#d8576b"
             ],
             [
              0.6666666666666666,
              "#ed7953"
             ],
             [
              0.7777777777777778,
              "#fb9f3a"
             ],
             [
              0.8888888888888888,
              "#fdca26"
             ],
             [
              1,
              "#f0f921"
             ]
            ],
            "type": "heatmapgl"
           }
          ],
          "histogram": [
           {
            "marker": {
             "colorbar": {
              "outlinewidth": 0,
              "ticks": ""
             }
            },
            "type": "histogram"
           }
          ],
          "histogram2d": [
           {
            "colorbar": {
             "outlinewidth": 0,
             "ticks": ""
            },
            "colorscale": [
             [
              0,
              "#0d0887"
             ],
             [
              0.1111111111111111,
              "#46039f"
             ],
             [
              0.2222222222222222,
              "#7201a8"
             ],
             [
              0.3333333333333333,
              "#9c179e"
             ],
             [
              0.4444444444444444,
              "#bd3786"
             ],
             [
              0.5555555555555556,
              "#d8576b"
             ],
             [
              0.6666666666666666,
              "#ed7953"
             ],
             [
              0.7777777777777778,
              "#fb9f3a"
             ],
             [
              0.8888888888888888,
              "#fdca26"
             ],
             [
              1,
              "#f0f921"
             ]
            ],
            "type": "histogram2d"
           }
          ],
          "histogram2dcontour": [
           {
            "colorbar": {
             "outlinewidth": 0,
             "ticks": ""
            },
            "colorscale": [
             [
              0,
              "#0d0887"
             ],
             [
              0.1111111111111111,
              "#46039f"
             ],
             [
              0.2222222222222222,
              "#7201a8"
             ],
             [
              0.3333333333333333,
              "#9c179e"
             ],
             [
              0.4444444444444444,
              "#bd3786"
             ],
             [
              0.5555555555555556,
              "#d8576b"
             ],
             [
              0.6666666666666666,
              "#ed7953"
             ],
             [
              0.7777777777777778,
              "#fb9f3a"
             ],
             [
              0.8888888888888888,
              "#fdca26"
             ],
             [
              1,
              "#f0f921"
             ]
            ],
            "type": "histogram2dcontour"
           }
          ],
          "mesh3d": [
           {
            "colorbar": {
             "outlinewidth": 0,
             "ticks": ""
            },
            "type": "mesh3d"
           }
          ],
          "parcoords": [
           {
            "line": {
             "colorbar": {
              "outlinewidth": 0,
              "ticks": ""
             }
            },
            "type": "parcoords"
           }
          ],
          "pie": [
           {
            "automargin": true,
            "type": "pie"
           }
          ],
          "scatter": [
           {
            "marker": {
             "colorbar": {
              "outlinewidth": 0,
              "ticks": ""
             }
            },
            "type": "scatter"
           }
          ],
          "scatter3d": [
           {
            "line": {
             "colorbar": {
              "outlinewidth": 0,
              "ticks": ""
             }
            },
            "marker": {
             "colorbar": {
              "outlinewidth": 0,
              "ticks": ""
             }
            },
            "type": "scatter3d"
           }
          ],
          "scattercarpet": [
           {
            "marker": {
             "colorbar": {
              "outlinewidth": 0,
              "ticks": ""
             }
            },
            "type": "scattercarpet"
           }
          ],
          "scattergeo": [
           {
            "marker": {
             "colorbar": {
              "outlinewidth": 0,
              "ticks": ""
             }
            },
            "type": "scattergeo"
           }
          ],
          "scattergl": [
           {
            "marker": {
             "colorbar": {
              "outlinewidth": 0,
              "ticks": ""
             }
            },
            "type": "scattergl"
           }
          ],
          "scattermapbox": [
           {
            "marker": {
             "colorbar": {
              "outlinewidth": 0,
              "ticks": ""
             }
            },
            "type": "scattermapbox"
           }
          ],
          "scatterpolar": [
           {
            "marker": {
             "colorbar": {
              "outlinewidth": 0,
              "ticks": ""
             }
            },
            "type": "scatterpolar"
           }
          ],
          "scatterpolargl": [
           {
            "marker": {
             "colorbar": {
              "outlinewidth": 0,
              "ticks": ""
             }
            },
            "type": "scatterpolargl"
           }
          ],
          "scatterternary": [
           {
            "marker": {
             "colorbar": {
              "outlinewidth": 0,
              "ticks": ""
             }
            },
            "type": "scatterternary"
           }
          ],
          "surface": [
           {
            "colorbar": {
             "outlinewidth": 0,
             "ticks": ""
            },
            "colorscale": [
             [
              0,
              "#0d0887"
             ],
             [
              0.1111111111111111,
              "#46039f"
             ],
             [
              0.2222222222222222,
              "#7201a8"
             ],
             [
              0.3333333333333333,
              "#9c179e"
             ],
             [
              0.4444444444444444,
              "#bd3786"
             ],
             [
              0.5555555555555556,
              "#d8576b"
             ],
             [
              0.6666666666666666,
              "#ed7953"
             ],
             [
              0.7777777777777778,
              "#fb9f3a"
             ],
             [
              0.8888888888888888,
              "#fdca26"
             ],
             [
              1,
              "#f0f921"
             ]
            ],
            "type": "surface"
           }
          ],
          "table": [
           {
            "cells": {
             "fill": {
              "color": "#EBF0F8"
             },
             "line": {
              "color": "white"
             }
            },
            "header": {
             "fill": {
              "color": "#C8D4E3"
             },
             "line": {
              "color": "white"
             }
            },
            "type": "table"
           }
          ]
         },
         "layout": {
          "annotationdefaults": {
           "arrowcolor": "#2a3f5f",
           "arrowhead": 0,
           "arrowwidth": 1
          },
          "autotypenumbers": "strict",
          "coloraxis": {
           "colorbar": {
            "outlinewidth": 0,
            "ticks": ""
           }
          },
          "colorscale": {
           "diverging": [
            [
             0,
             "#8e0152"
            ],
            [
             0.1,
             "#c51b7d"
            ],
            [
             0.2,
             "#de77ae"
            ],
            [
             0.3,
             "#f1b6da"
            ],
            [
             0.4,
             "#fde0ef"
            ],
            [
             0.5,
             "#f7f7f7"
            ],
            [
             0.6,
             "#e6f5d0"
            ],
            [
             0.7,
             "#b8e186"
            ],
            [
             0.8,
             "#7fbc41"
            ],
            [
             0.9,
             "#4d9221"
            ],
            [
             1,
             "#276419"
            ]
           ],
           "sequential": [
            [
             0,
             "#0d0887"
            ],
            [
             0.1111111111111111,
             "#46039f"
            ],
            [
             0.2222222222222222,
             "#7201a8"
            ],
            [
             0.3333333333333333,
             "#9c179e"
            ],
            [
             0.4444444444444444,
             "#bd3786"
            ],
            [
             0.5555555555555556,
             "#d8576b"
            ],
            [
             0.6666666666666666,
             "#ed7953"
            ],
            [
             0.7777777777777778,
             "#fb9f3a"
            ],
            [
             0.8888888888888888,
             "#fdca26"
            ],
            [
             1,
             "#f0f921"
            ]
           ],
           "sequentialminus": [
            [
             0,
             "#0d0887"
            ],
            [
             0.1111111111111111,
             "#46039f"
            ],
            [
             0.2222222222222222,
             "#7201a8"
            ],
            [
             0.3333333333333333,
             "#9c179e"
            ],
            [
             0.4444444444444444,
             "#bd3786"
            ],
            [
             0.5555555555555556,
             "#d8576b"
            ],
            [
             0.6666666666666666,
             "#ed7953"
            ],
            [
             0.7777777777777778,
             "#fb9f3a"
            ],
            [
             0.8888888888888888,
             "#fdca26"
            ],
            [
             1,
             "#f0f921"
            ]
           ]
          },
          "colorway": [
           "#636efa",
           "#EF553B",
           "#00cc96",
           "#ab63fa",
           "#FFA15A",
           "#19d3f3",
           "#FF6692",
           "#B6E880",
           "#FF97FF",
           "#FECB52"
          ],
          "font": {
           "color": "#2a3f5f"
          },
          "geo": {
           "bgcolor": "white",
           "lakecolor": "white",
           "landcolor": "#E5ECF6",
           "showlakes": true,
           "showland": true,
           "subunitcolor": "white"
          },
          "hoverlabel": {
           "align": "left"
          },
          "hovermode": "closest",
          "mapbox": {
           "style": "light"
          },
          "paper_bgcolor": "white",
          "plot_bgcolor": "#E5ECF6",
          "polar": {
           "angularaxis": {
            "gridcolor": "white",
            "linecolor": "white",
            "ticks": ""
           },
           "bgcolor": "#E5ECF6",
           "radialaxis": {
            "gridcolor": "white",
            "linecolor": "white",
            "ticks": ""
           }
          },
          "scene": {
           "xaxis": {
            "backgroundcolor": "#E5ECF6",
            "gridcolor": "white",
            "gridwidth": 2,
            "linecolor": "white",
            "showbackground": true,
            "ticks": "",
            "zerolinecolor": "white"
           },
           "yaxis": {
            "backgroundcolor": "#E5ECF6",
            "gridcolor": "white",
            "gridwidth": 2,
            "linecolor": "white",
            "showbackground": true,
            "ticks": "",
            "zerolinecolor": "white"
           },
           "zaxis": {
            "backgroundcolor": "#E5ECF6",
            "gridcolor": "white",
            "gridwidth": 2,
            "linecolor": "white",
            "showbackground": true,
            "ticks": "",
            "zerolinecolor": "white"
           }
          },
          "shapedefaults": {
           "line": {
            "color": "#2a3f5f"
           }
          },
          "ternary": {
           "aaxis": {
            "gridcolor": "white",
            "linecolor": "white",
            "ticks": ""
           },
           "baxis": {
            "gridcolor": "white",
            "linecolor": "white",
            "ticks": ""
           },
           "bgcolor": "#E5ECF6",
           "caxis": {
            "gridcolor": "white",
            "linecolor": "white",
            "ticks": ""
           }
          },
          "title": {
           "x": 0.05
          },
          "xaxis": {
           "automargin": true,
           "gridcolor": "white",
           "linecolor": "white",
           "ticks": "",
           "title": {
            "standoff": 15
           },
           "zerolinecolor": "white",
           "zerolinewidth": 2
          },
          "yaxis": {
           "automargin": true,
           "gridcolor": "white",
           "linecolor": "white",
           "ticks": "",
           "title": {
            "standoff": 15
           },
           "zerolinecolor": "white",
           "zerolinewidth": 2
          }
         }
        }
       }
      }
     },
     "metadata": {}
    }
   ],
   "source": [
    "draw_map(\"CA\", 4)"
   ]
  },
  {
   "cell_type": "code",
   "execution_count": null,
   "id": "romantic-biotechnology",
   "metadata": {},
   "outputs": [],
   "source": []
  }
 ],
 "metadata": {
  "kernelspec": {
   "name": "python3",
   "display_name": "Python 3.7.9 64-bit ('cs1951a': conda)",
   "metadata": {
    "interpreter": {
     "hash": "13d9177f62ed0edee4d7778e62d2f9507cc6c2b253c6aa01772e3ebdc0b09395"
    }
   }
  },
  "language_info": {
   "codemirror_mode": {
    "name": "ipython",
    "version": 3
   },
   "file_extension": ".py",
   "mimetype": "text/x-python",
   "name": "python",
   "nbconvert_exporter": "python",
   "pygments_lexer": "ipython3",
   "version": "3.7.9"
  }
 },
 "nbformat": 4,
 "nbformat_minor": 5
}