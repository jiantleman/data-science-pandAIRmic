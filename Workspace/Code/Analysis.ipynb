{
 "cells": [
  {
   "cell_type": "code",
   "execution_count": 285,
   "metadata": {},
   "outputs": [],
   "source": [
    "import sqlite3\n",
    "import pandas as pd"
   ]
  },
  {
   "cell_type": "code",
   "execution_count": 286,
   "metadata": {},
   "outputs": [
    {
     "output_type": "stream",
     "name": "stdout",
     "text": [
      "date                        object\nstate                       object\npositiveIncrease             int64\ntotalTestResultsIncrease     int64\ndtype: object\n(18223, 4)\n"
     ]
    },
    {
     "output_type": "execute_result",
     "data": {
      "text/plain": [
       "                  date state  positiveIncrease  totalTestResultsIncrease\n",
       "0  2021-02-20 00:00:00    AK                 0                         0\n",
       "1  2021-02-20 00:00:00    AL               774                      5436\n",
       "2  2021-02-20 00:00:00    AR               517                      3060\n",
       "3  2021-02-20 00:00:00    AZ              2047                     45153\n",
       "4  2021-02-20 00:00:00    CA              6668                    192222"
      ],
      "text/html": "<div>\n<style scoped>\n    .dataframe tbody tr th:only-of-type {\n        vertical-align: middle;\n    }\n\n    .dataframe tbody tr th {\n        vertical-align: top;\n    }\n\n    .dataframe thead th {\n        text-align: right;\n    }\n</style>\n<table border=\"1\" class=\"dataframe\">\n  <thead>\n    <tr style=\"text-align: right;\">\n      <th></th>\n      <th>date</th>\n      <th>state</th>\n      <th>positiveIncrease</th>\n      <th>totalTestResultsIncrease</th>\n    </tr>\n  </thead>\n  <tbody>\n    <tr>\n      <th>0</th>\n      <td>2021-02-20 00:00:00</td>\n      <td>AK</td>\n      <td>0</td>\n      <td>0</td>\n    </tr>\n    <tr>\n      <th>1</th>\n      <td>2021-02-20 00:00:00</td>\n      <td>AL</td>\n      <td>774</td>\n      <td>5436</td>\n    </tr>\n    <tr>\n      <th>2</th>\n      <td>2021-02-20 00:00:00</td>\n      <td>AR</td>\n      <td>517</td>\n      <td>3060</td>\n    </tr>\n    <tr>\n      <th>3</th>\n      <td>2021-02-20 00:00:00</td>\n      <td>AZ</td>\n      <td>2047</td>\n      <td>45153</td>\n    </tr>\n    <tr>\n      <th>4</th>\n      <td>2021-02-20 00:00:00</td>\n      <td>CA</td>\n      <td>6668</td>\n      <td>192222</td>\n    </tr>\n  </tbody>\n</table>\n</div>"
     },
     "metadata": {},
     "execution_count": 286
    }
   ],
   "source": [
    "# Import covid table as dataframe\n",
    "con = sqlite3.connect(\"../Data/data.db\")\n",
    "covid_df = pd.read_sql_query(\"SELECT * FROM covid\", con)\n",
    "print(covid_df.dtypes)\n",
    "print(covid_df.shape)\n",
    "covid_df.head()"
   ]
  },
  {
   "cell_type": "code",
   "execution_count": 287,
   "metadata": {},
   "outputs": [
    {
     "output_type": "stream",
     "name": "stdout",
     "text": [
      "date                        datetime64[ns]\nstate                               object\npositiveIncrease                     int64\ntotalTestResultsIncrease             int64\ndtype: object\n"
     ]
    },
    {
     "output_type": "execute_result",
     "data": {
      "text/plain": [
       "        date state  positiveIncrease  totalTestResultsIncrease\n",
       "0 2021-02-20    AK                 0                         0\n",
       "1 2021-02-20    AL               774                      5436\n",
       "2 2021-02-20    AR               517                      3060\n",
       "3 2021-02-20    AZ              2047                     45153\n",
       "4 2021-02-20    CA              6668                    192222"
      ],
      "text/html": "<div>\n<style scoped>\n    .dataframe tbody tr th:only-of-type {\n        vertical-align: middle;\n    }\n\n    .dataframe tbody tr th {\n        vertical-align: top;\n    }\n\n    .dataframe thead th {\n        text-align: right;\n    }\n</style>\n<table border=\"1\" class=\"dataframe\">\n  <thead>\n    <tr style=\"text-align: right;\">\n      <th></th>\n      <th>date</th>\n      <th>state</th>\n      <th>positiveIncrease</th>\n      <th>totalTestResultsIncrease</th>\n    </tr>\n  </thead>\n  <tbody>\n    <tr>\n      <th>0</th>\n      <td>2021-02-20</td>\n      <td>AK</td>\n      <td>0</td>\n      <td>0</td>\n    </tr>\n    <tr>\n      <th>1</th>\n      <td>2021-02-20</td>\n      <td>AL</td>\n      <td>774</td>\n      <td>5436</td>\n    </tr>\n    <tr>\n      <th>2</th>\n      <td>2021-02-20</td>\n      <td>AR</td>\n      <td>517</td>\n      <td>3060</td>\n    </tr>\n    <tr>\n      <th>3</th>\n      <td>2021-02-20</td>\n      <td>AZ</td>\n      <td>2047</td>\n      <td>45153</td>\n    </tr>\n    <tr>\n      <th>4</th>\n      <td>2021-02-20</td>\n      <td>CA</td>\n      <td>6668</td>\n      <td>192222</td>\n    </tr>\n  </tbody>\n</table>\n</div>"
     },
     "metadata": {},
     "execution_count": 287
    }
   ],
   "source": [
    "# Change date to datetime\n",
    "covid_df['date'] = pd.to_datetime(covid_df['date'])\n",
    "print(covid_df.dtypes)\n",
    "covid_df.head()"
   ]
  },
  {
   "cell_type": "code",
   "execution_count": 288,
   "metadata": {
    "scrolled": true
   },
   "outputs": [
    {
     "output_type": "stream",
     "name": "stdout",
     "text": [
      "(11546, 5)\n"
     ]
    },
    {
     "output_type": "execute_result",
     "data": {
      "text/plain": [
       "           date state  positiveIncrease  totalTestResultsIncrease  month\n",
       "6579 2020-10-14    AK               155                      2388    9.0\n",
       "6580 2020-10-14    AL               784                      5014    9.0\n",
       "6581 2020-10-14    AR              1079                     10677    9.0\n",
       "6582 2020-10-14    AZ               901                     22286    9.0\n",
       "6583 2020-10-14    CA              2666                     91770    9.0"
      ],
      "text/html": "<div>\n<style scoped>\n    .dataframe tbody tr th:only-of-type {\n        vertical-align: middle;\n    }\n\n    .dataframe tbody tr th {\n        vertical-align: top;\n    }\n\n    .dataframe thead th {\n        text-align: right;\n    }\n</style>\n<table border=\"1\" class=\"dataframe\">\n  <thead>\n    <tr style=\"text-align: right;\">\n      <th></th>\n      <th>date</th>\n      <th>state</th>\n      <th>positiveIncrease</th>\n      <th>totalTestResultsIncrease</th>\n      <th>month</th>\n    </tr>\n  </thead>\n  <tbody>\n    <tr>\n      <th>6579</th>\n      <td>2020-10-14</td>\n      <td>AK</td>\n      <td>155</td>\n      <td>2388</td>\n      <td>9.0</td>\n    </tr>\n    <tr>\n      <th>6580</th>\n      <td>2020-10-14</td>\n      <td>AL</td>\n      <td>784</td>\n      <td>5014</td>\n      <td>9.0</td>\n    </tr>\n    <tr>\n      <th>6581</th>\n      <td>2020-10-14</td>\n      <td>AR</td>\n      <td>1079</td>\n      <td>10677</td>\n      <td>9.0</td>\n    </tr>\n    <tr>\n      <th>6582</th>\n      <td>2020-10-14</td>\n      <td>AZ</td>\n      <td>901</td>\n      <td>22286</td>\n      <td>9.0</td>\n    </tr>\n    <tr>\n      <th>6583</th>\n      <td>2020-10-14</td>\n      <td>CA</td>\n      <td>2666</td>\n      <td>91770</td>\n      <td>9.0</td>\n    </tr>\n  </tbody>\n</table>\n</div>"
     },
     "metadata": {},
     "execution_count": 288
    }
   ],
   "source": [
    "# Define cutoff dates and encoding\n",
    "months = [2,3,4,5,6,7,8,9]\n",
    "start = [pd.Timestamp(\"2-15-2020\"),\n",
    "         pd.Timestamp(\"3-15-2020\"),\n",
    "         pd.Timestamp(\"4-15-2020\"),\n",
    "         pd.Timestamp(\"5-15-2020\"),\n",
    "         pd.Timestamp(\"6-15-2020\"),\n",
    "         pd.Timestamp(\"7-15-2020\"),\n",
    "         pd.Timestamp(\"8-15-2020\"),\n",
    "         pd.Timestamp(\"9-15-2020\")]\n",
    "end = [pd.Timestamp(\"3-15-2020\"),\n",
    "       pd.Timestamp(\"4-15-2020\"),\n",
    "       pd.Timestamp(\"5-15-2020\"),\n",
    "       pd.Timestamp(\"6-15-2020\"),\n",
    "       pd.Timestamp(\"7-15-2020\"),\n",
    "       pd.Timestamp(\"8-15-2020\"),\n",
    "       pd.Timestamp(\"9-15-2020\"),\n",
    "       pd.Timestamp(\"10-15-2020\")]\n",
    "\n",
    "# Include new month column\n",
    "for i in range(len(months)):\n",
    "    covid_df.loc[(covid_df['date']>=start[i]) & (covid_df['date']<end[i]), \"month\"] = months[i]\n",
    "\n",
    "# Drop rows outside of daterange\n",
    "covid_df = covid_df.dropna()\n",
    "print(covid_df.shape)\n",
    "\n",
    "covid_df.head()"
   ]
  },
  {
   "cell_type": "code",
   "execution_count": 289,
   "metadata": {},
   "outputs": [
    {
     "output_type": "stream",
     "name": "stdout",
     "text": [
      "(408, 4)\n"
     ]
    },
    {
     "output_type": "execute_result",
     "data": {
      "text/plain": [
       "  state  month  positiveIncrease  totalTestResultsIncrease\n",
       "0    AK    2.0                 0                       136\n",
       "1    AK    3.0               285                      8204\n",
       "2    AK    4.0               104                     23414\n",
       "3    AK    5.0               276                     41705\n",
       "4    AK    6.0               915                     76006"
      ],
      "text/html": "<div>\n<style scoped>\n    .dataframe tbody tr th:only-of-type {\n        vertical-align: middle;\n    }\n\n    .dataframe tbody tr th {\n        vertical-align: top;\n    }\n\n    .dataframe thead th {\n        text-align: right;\n    }\n</style>\n<table border=\"1\" class=\"dataframe\">\n  <thead>\n    <tr style=\"text-align: right;\">\n      <th></th>\n      <th>state</th>\n      <th>month</th>\n      <th>positiveIncrease</th>\n      <th>totalTestResultsIncrease</th>\n    </tr>\n  </thead>\n  <tbody>\n    <tr>\n      <th>0</th>\n      <td>AK</td>\n      <td>2.0</td>\n      <td>0</td>\n      <td>136</td>\n    </tr>\n    <tr>\n      <th>1</th>\n      <td>AK</td>\n      <td>3.0</td>\n      <td>285</td>\n      <td>8204</td>\n    </tr>\n    <tr>\n      <th>2</th>\n      <td>AK</td>\n      <td>4.0</td>\n      <td>104</td>\n      <td>23414</td>\n    </tr>\n    <tr>\n      <th>3</th>\n      <td>AK</td>\n      <td>5.0</td>\n      <td>276</td>\n      <td>41705</td>\n    </tr>\n    <tr>\n      <th>4</th>\n      <td>AK</td>\n      <td>6.0</td>\n      <td>915</td>\n      <td>76006</td>\n    </tr>\n  </tbody>\n</table>\n</div>"
     },
     "metadata": {},
     "execution_count": 289
    }
   ],
   "source": [
    "# Groupby state and month and sum\n",
    "covid_df = covid_df.groupby(['state','month']).sum()\n",
    "covid_df = covid_df.reset_index()\n",
    "print(covid_df.shape)\n",
    "covid_df.head()"
   ]
  },
  {
   "cell_type": "code",
   "execution_count": 290,
   "metadata": {},
   "outputs": [
    {
     "output_type": "stream",
     "name": "stdout",
     "text": [
      "(355, 5)\n"
     ]
    },
    {
     "output_type": "execute_result",
     "data": {
      "text/plain": [
       "  state  month  positiveIncrease  totalTestResultsIncrease    change\n",
       "2    AK    4.0               104                     23414 -0.635088\n",
       "3    AK    5.0               276                     41705  1.653846\n",
       "4    AK    6.0               915                     76006  2.315217\n",
       "5    AK    7.0              2498                    146456  1.730055\n",
       "6    AK    8.0              2272                    107484 -0.090472"
      ],
      "text/html": "<div>\n<style scoped>\n    .dataframe tbody tr th:only-of-type {\n        vertical-align: middle;\n    }\n\n    .dataframe tbody tr th {\n        vertical-align: top;\n    }\n\n    .dataframe thead th {\n        text-align: right;\n    }\n</style>\n<table border=\"1\" class=\"dataframe\">\n  <thead>\n    <tr style=\"text-align: right;\">\n      <th></th>\n      <th>state</th>\n      <th>month</th>\n      <th>positiveIncrease</th>\n      <th>totalTestResultsIncrease</th>\n      <th>change</th>\n    </tr>\n  </thead>\n  <tbody>\n    <tr>\n      <th>2</th>\n      <td>AK</td>\n      <td>4.0</td>\n      <td>104</td>\n      <td>23414</td>\n      <td>-0.635088</td>\n    </tr>\n    <tr>\n      <th>3</th>\n      <td>AK</td>\n      <td>5.0</td>\n      <td>276</td>\n      <td>41705</td>\n      <td>1.653846</td>\n    </tr>\n    <tr>\n      <th>4</th>\n      <td>AK</td>\n      <td>6.0</td>\n      <td>915</td>\n      <td>76006</td>\n      <td>2.315217</td>\n    </tr>\n    <tr>\n      <th>5</th>\n      <td>AK</td>\n      <td>7.0</td>\n      <td>2498</td>\n      <td>146456</td>\n      <td>1.730055</td>\n    </tr>\n    <tr>\n      <th>6</th>\n      <td>AK</td>\n      <td>8.0</td>\n      <td>2272</td>\n      <td>107484</td>\n      <td>-0.090472</td>\n    </tr>\n  </tbody>\n</table>\n</div>"
     },
     "metadata": {},
     "execution_count": 290
    }
   ],
   "source": [
    "# Calculate change in infections by state and month\n",
    "months = [3,4,5,6,7,8,9]\n",
    "states = covid_df['state'].unique()\n",
    "\n",
    "for month in months:\n",
    "    for state in states:\n",
    "        curr_month = covid_df[(covid_df['month'] == month) & (covid_df['state'] == state)].positiveIncrease.item()\n",
    "        prev_month = covid_df[(covid_df['month'] == month-1) & (covid_df['state'] == state)].positiveIncrease.item()\n",
    "        if prev_month != 0:\n",
    "            covid_df.loc[(covid_df['month'] == month) & (covid_df['state'] == state), 'change'] = \\\n",
    "            (curr_month-prev_month)/prev_month\n",
    "\n",
    "# Drop na - data for month 2, and month 3 where month 2 positiveIncrease is 0\n",
    "covid_df = covid_df.dropna()\n",
    "print(covid_df.shape)\n",
    "covid_df.head()"
   ]
  },
  {
   "cell_type": "code",
   "execution_count": 291,
   "metadata": {},
   "outputs": [
    {
     "output_type": "execute_result",
     "data": {
      "text/plain": [
       "  state  population\n",
       "0    AL     4887871\n",
       "1    AK      737438\n",
       "2    AZ     7171646\n",
       "3    AR     3013825\n",
       "4    CA    39557045"
      ],
      "text/html": "<div>\n<style scoped>\n    .dataframe tbody tr th:only-of-type {\n        vertical-align: middle;\n    }\n\n    .dataframe tbody tr th {\n        vertical-align: top;\n    }\n\n    .dataframe thead th {\n        text-align: right;\n    }\n</style>\n<table border=\"1\" class=\"dataframe\">\n  <thead>\n    <tr style=\"text-align: right;\">\n      <th></th>\n      <th>state</th>\n      <th>population</th>\n    </tr>\n  </thead>\n  <tbody>\n    <tr>\n      <th>0</th>\n      <td>AL</td>\n      <td>4887871</td>\n    </tr>\n    <tr>\n      <th>1</th>\n      <td>AK</td>\n      <td>737438</td>\n    </tr>\n    <tr>\n      <th>2</th>\n      <td>AZ</td>\n      <td>7171646</td>\n    </tr>\n    <tr>\n      <th>3</th>\n      <td>AR</td>\n      <td>3013825</td>\n    </tr>\n    <tr>\n      <th>4</th>\n      <td>CA</td>\n      <td>39557045</td>\n    </tr>\n  </tbody>\n</table>\n</div>"
     },
     "metadata": {},
     "execution_count": 291
    }
   ],
   "source": [
    "# Get population of states\n",
    "pop_df = pd.read_sql_query(\"SELECT state, population FROM policy\", con)\n",
    "pop_df.head()"
   ]
  },
  {
   "cell_type": "code",
   "execution_count": 292,
   "metadata": {},
   "outputs": [
    {
     "output_type": "execute_result",
     "data": {
      "text/plain": [
       "  state  month  positiveIncrease  totalTestResultsIncrease    change  \\\n",
       "0    AK    4.0               104                     23414 -0.635088   \n",
       "1    AK    5.0               276                     41705  1.653846   \n",
       "2    AK    6.0               915                     76006  2.315217   \n",
       "3    AK    7.0              2498                    146456  1.730055   \n",
       "4    AK    8.0              2272                    107484 -0.090472   \n",
       "\n",
       "   population  \n",
       "0      737438  \n",
       "1      737438  \n",
       "2      737438  \n",
       "3      737438  \n",
       "4      737438  "
      ],
      "text/html": "<div>\n<style scoped>\n    .dataframe tbody tr th:only-of-type {\n        vertical-align: middle;\n    }\n\n    .dataframe tbody tr th {\n        vertical-align: top;\n    }\n\n    .dataframe thead th {\n        text-align: right;\n    }\n</style>\n<table border=\"1\" class=\"dataframe\">\n  <thead>\n    <tr style=\"text-align: right;\">\n      <th></th>\n      <th>state</th>\n      <th>month</th>\n      <th>positiveIncrease</th>\n      <th>totalTestResultsIncrease</th>\n      <th>change</th>\n      <th>population</th>\n    </tr>\n  </thead>\n  <tbody>\n    <tr>\n      <th>0</th>\n      <td>AK</td>\n      <td>4.0</td>\n      <td>104</td>\n      <td>23414</td>\n      <td>-0.635088</td>\n      <td>737438</td>\n    </tr>\n    <tr>\n      <th>1</th>\n      <td>AK</td>\n      <td>5.0</td>\n      <td>276</td>\n      <td>41705</td>\n      <td>1.653846</td>\n      <td>737438</td>\n    </tr>\n    <tr>\n      <th>2</th>\n      <td>AK</td>\n      <td>6.0</td>\n      <td>915</td>\n      <td>76006</td>\n      <td>2.315217</td>\n      <td>737438</td>\n    </tr>\n    <tr>\n      <th>3</th>\n      <td>AK</td>\n      <td>7.0</td>\n      <td>2498</td>\n      <td>146456</td>\n      <td>1.730055</td>\n      <td>737438</td>\n    </tr>\n    <tr>\n      <th>4</th>\n      <td>AK</td>\n      <td>8.0</td>\n      <td>2272</td>\n      <td>107484</td>\n      <td>-0.090472</td>\n      <td>737438</td>\n    </tr>\n  </tbody>\n</table>\n</div>"
     },
     "metadata": {},
     "execution_count": 292
    }
   ],
   "source": [
    "# Merge tables\n",
    "covid_df = pd.merge(covid_df, pop_df, on='state')\n",
    "covid_df.head()"
   ]
  },
  {
   "cell_type": "code",
   "execution_count": 293,
   "metadata": {},
   "outputs": [
    {
     "output_type": "stream",
     "name": "stdout",
     "text": [
      "(355, 7)\nstate                        object\nmonth                         int64\npositiveIncrease              int64\ntotalTestResultsIncrease      int64\nchange                      float64\npopulation                    int64\nper_capita                  float64\ndtype: object\n"
     ]
    },
    {
     "output_type": "execute_result",
     "data": {
      "text/plain": [
       "  state  month  positiveIncrease  totalTestResultsIncrease    change  \\\n",
       "0    AK      4               104                     23414 -0.635088   \n",
       "1    AK      5               276                     41705  1.653846   \n",
       "2    AK      6               915                     76006  2.315217   \n",
       "3    AK      7              2498                    146456  1.730055   \n",
       "4    AK      8              2272                    107484 -0.090472   \n",
       "\n",
       "   population  per_capita  \n",
       "0      737438    0.000141  \n",
       "1      737438    0.000374  \n",
       "2      737438    0.001241  \n",
       "3      737438    0.003387  \n",
       "4      737438    0.003081  "
      ],
      "text/html": "<div>\n<style scoped>\n    .dataframe tbody tr th:only-of-type {\n        vertical-align: middle;\n    }\n\n    .dataframe tbody tr th {\n        vertical-align: top;\n    }\n\n    .dataframe thead th {\n        text-align: right;\n    }\n</style>\n<table border=\"1\" class=\"dataframe\">\n  <thead>\n    <tr style=\"text-align: right;\">\n      <th></th>\n      <th>state</th>\n      <th>month</th>\n      <th>positiveIncrease</th>\n      <th>totalTestResultsIncrease</th>\n      <th>change</th>\n      <th>population</th>\n      <th>per_capita</th>\n    </tr>\n  </thead>\n  <tbody>\n    <tr>\n      <th>0</th>\n      <td>AK</td>\n      <td>4</td>\n      <td>104</td>\n      <td>23414</td>\n      <td>-0.635088</td>\n      <td>737438</td>\n      <td>0.000141</td>\n    </tr>\n    <tr>\n      <th>1</th>\n      <td>AK</td>\n      <td>5</td>\n      <td>276</td>\n      <td>41705</td>\n      <td>1.653846</td>\n      <td>737438</td>\n      <td>0.000374</td>\n    </tr>\n    <tr>\n      <th>2</th>\n      <td>AK</td>\n      <td>6</td>\n      <td>915</td>\n      <td>76006</td>\n      <td>2.315217</td>\n      <td>737438</td>\n      <td>0.001241</td>\n    </tr>\n    <tr>\n      <th>3</th>\n      <td>AK</td>\n      <td>7</td>\n      <td>2498</td>\n      <td>146456</td>\n      <td>1.730055</td>\n      <td>737438</td>\n      <td>0.003387</td>\n    </tr>\n    <tr>\n      <th>4</th>\n      <td>AK</td>\n      <td>8</td>\n      <td>2272</td>\n      <td>107484</td>\n      <td>-0.090472</td>\n      <td>737438</td>\n      <td>0.003081</td>\n    </tr>\n  </tbody>\n</table>\n</div>"
     },
     "metadata": {},
     "execution_count": 293
    }
   ],
   "source": [
    "# Calculate new cases per capita\n",
    "covid_df['per_capita'] = covid_df['positiveIncrease']/covid_df['population']\n",
    "covid_df = covid_df.astype({'month':'int64'})\n",
    "print(covid_df.shape)\n",
    "print(covid_df.dtypes)\n",
    "covid_df.head()"
   ]
  },
  {
   "cell_type": "code",
   "execution_count": 294,
   "metadata": {},
   "outputs": [
    {
     "output_type": "execute_result",
     "data": {
      "text/plain": [
       "  state   state_of_emergency         stay_at_home     stay_at_home_end  \\\n",
       "0    AL  2020-03-13 00:00:00  2020-04-04 00:00:00  2020-04-30 00:00:00   \n",
       "1    AK  2020-03-11 00:00:00  2020-03-28 00:00:00  2020-04-24 00:00:00   \n",
       "2    AZ  2020-03-11 00:00:00  2020-03-31 00:00:00  2020-05-16 00:00:00   \n",
       "3    AR  2020-03-11 00:00:00                 None                 None   \n",
       "4    CA  2020-03-04 00:00:00  2020-03-19 00:00:00                 None   \n",
       "\n",
       "      business_closure business_closure_end     facemask_mandate  \\\n",
       "0  2020-03-28 00:00:00  2020-04-30 00:00:00  2020-07-16 00:00:00   \n",
       "1  2020-03-24 00:00:00  2020-04-24 00:00:00  2020-04-24 00:00:00   \n",
       "2  2020-03-31 00:00:00  2020-05-08 00:00:00                 None   \n",
       "3  2020-04-06 00:00:00  2020-05-04 00:00:00  2020-07-20 00:00:00   \n",
       "4  2020-03-19 00:00:00  2020-05-08 00:00:00  2020-06-18 00:00:00   \n",
       "\n",
       "  facemask_mandate_end    quaratine_mandate quaratine_mandate_end  \n",
       "0                 None                 None                  None  \n",
       "1  2020-05-22 00:00:00  2020-03-25 00:00:00   2021-02-14 00:00:00  \n",
       "2                 None                 None   2020-05-12 00:00:00  \n",
       "3                 None                 None   2020-06-15 00:00:00  \n",
       "4                 None                 None                  None  "
      ],
      "text/html": "<div>\n<style scoped>\n    .dataframe tbody tr th:only-of-type {\n        vertical-align: middle;\n    }\n\n    .dataframe tbody tr th {\n        vertical-align: top;\n    }\n\n    .dataframe thead th {\n        text-align: right;\n    }\n</style>\n<table border=\"1\" class=\"dataframe\">\n  <thead>\n    <tr style=\"text-align: right;\">\n      <th></th>\n      <th>state</th>\n      <th>state_of_emergency</th>\n      <th>stay_at_home</th>\n      <th>stay_at_home_end</th>\n      <th>business_closure</th>\n      <th>business_closure_end</th>\n      <th>facemask_mandate</th>\n      <th>facemask_mandate_end</th>\n      <th>quaratine_mandate</th>\n      <th>quaratine_mandate_end</th>\n    </tr>\n  </thead>\n  <tbody>\n    <tr>\n      <th>0</th>\n      <td>AL</td>\n      <td>2020-03-13 00:00:00</td>\n      <td>2020-04-04 00:00:00</td>\n      <td>2020-04-30 00:00:00</td>\n      <td>2020-03-28 00:00:00</td>\n      <td>2020-04-30 00:00:00</td>\n      <td>2020-07-16 00:00:00</td>\n      <td>None</td>\n      <td>None</td>\n      <td>None</td>\n    </tr>\n    <tr>\n      <th>1</th>\n      <td>AK</td>\n      <td>2020-03-11 00:00:00</td>\n      <td>2020-03-28 00:00:00</td>\n      <td>2020-04-24 00:00:00</td>\n      <td>2020-03-24 00:00:00</td>\n      <td>2020-04-24 00:00:00</td>\n      <td>2020-04-24 00:00:00</td>\n      <td>2020-05-22 00:00:00</td>\n      <td>2020-03-25 00:00:00</td>\n      <td>2021-02-14 00:00:00</td>\n    </tr>\n    <tr>\n      <th>2</th>\n      <td>AZ</td>\n      <td>2020-03-11 00:00:00</td>\n      <td>2020-03-31 00:00:00</td>\n      <td>2020-05-16 00:00:00</td>\n      <td>2020-03-31 00:00:00</td>\n      <td>2020-05-08 00:00:00</td>\n      <td>None</td>\n      <td>None</td>\n      <td>None</td>\n      <td>2020-05-12 00:00:00</td>\n    </tr>\n    <tr>\n      <th>3</th>\n      <td>AR</td>\n      <td>2020-03-11 00:00:00</td>\n      <td>None</td>\n      <td>None</td>\n      <td>2020-04-06 00:00:00</td>\n      <td>2020-05-04 00:00:00</td>\n      <td>2020-07-20 00:00:00</td>\n      <td>None</td>\n      <td>None</td>\n      <td>2020-06-15 00:00:00</td>\n    </tr>\n    <tr>\n      <th>4</th>\n      <td>CA</td>\n      <td>2020-03-04 00:00:00</td>\n      <td>2020-03-19 00:00:00</td>\n      <td>None</td>\n      <td>2020-03-19 00:00:00</td>\n      <td>2020-05-08 00:00:00</td>\n      <td>2020-06-18 00:00:00</td>\n      <td>None</td>\n      <td>None</td>\n      <td>None</td>\n    </tr>\n  </tbody>\n</table>\n</div>"
     },
     "metadata": {},
     "execution_count": 294
    }
   ],
   "source": [
    "policy_df = pd.read_sql_query(\"SELECT * FROM policy\", con)\n",
    "# drop pop density and population columns \n",
    "policy_df = policy_df.drop(columns=['pop_density', 'population'])\n",
    "policy_df.head()"
   ]
  },
  {
   "cell_type": "code",
   "execution_count": 295,
   "metadata": {},
   "outputs": [
    {
     "output_type": "execute_result",
     "data": {
      "text/plain": [
       "  state  state_of_emergency  stay_at_home  stay_at_home_end  business_closure  \\\n",
       "0    AL                   3           4.0               4.0               3.0   \n",
       "1    AK                   3           3.0               4.0               3.0   \n",
       "2    AZ                   3           3.0               5.0               3.0   \n",
       "3    AR                   3           NaN               NaN               4.0   \n",
       "4    CA                   3           3.0               NaN               3.0   \n",
       "\n",
       "   business_closure_end  facemask_mandate  facemask_mandate_end  \\\n",
       "0                   4.0               7.0                   NaN   \n",
       "1                   4.0               4.0                   5.0   \n",
       "2                   5.0               NaN                   NaN   \n",
       "3                   5.0               7.0                   NaN   \n",
       "4                   5.0               6.0                   NaN   \n",
       "\n",
       "   quaratine_mandate  quaratine_mandate_end  \n",
       "0                NaN                    NaN  \n",
       "1                3.0                    2.0  \n",
       "2                NaN                    5.0  \n",
       "3                NaN                    6.0  \n",
       "4                NaN                    NaN  "
      ],
      "text/html": "<div>\n<style scoped>\n    .dataframe tbody tr th:only-of-type {\n        vertical-align: middle;\n    }\n\n    .dataframe tbody tr th {\n        vertical-align: top;\n    }\n\n    .dataframe thead th {\n        text-align: right;\n    }\n</style>\n<table border=\"1\" class=\"dataframe\">\n  <thead>\n    <tr style=\"text-align: right;\">\n      <th></th>\n      <th>state</th>\n      <th>state_of_emergency</th>\n      <th>stay_at_home</th>\n      <th>stay_at_home_end</th>\n      <th>business_closure</th>\n      <th>business_closure_end</th>\n      <th>facemask_mandate</th>\n      <th>facemask_mandate_end</th>\n      <th>quaratine_mandate</th>\n      <th>quaratine_mandate_end</th>\n    </tr>\n  </thead>\n  <tbody>\n    <tr>\n      <th>0</th>\n      <td>AL</td>\n      <td>3</td>\n      <td>4.0</td>\n      <td>4.0</td>\n      <td>3.0</td>\n      <td>4.0</td>\n      <td>7.0</td>\n      <td>NaN</td>\n      <td>NaN</td>\n      <td>NaN</td>\n    </tr>\n    <tr>\n      <th>1</th>\n      <td>AK</td>\n      <td>3</td>\n      <td>3.0</td>\n      <td>4.0</td>\n      <td>3.0</td>\n      <td>4.0</td>\n      <td>4.0</td>\n      <td>5.0</td>\n      <td>3.0</td>\n      <td>2.0</td>\n    </tr>\n    <tr>\n      <th>2</th>\n      <td>AZ</td>\n      <td>3</td>\n      <td>3.0</td>\n      <td>5.0</td>\n      <td>3.0</td>\n      <td>5.0</td>\n      <td>NaN</td>\n      <td>NaN</td>\n      <td>NaN</td>\n      <td>5.0</td>\n    </tr>\n    <tr>\n      <th>3</th>\n      <td>AR</td>\n      <td>3</td>\n      <td>NaN</td>\n      <td>NaN</td>\n      <td>4.0</td>\n      <td>5.0</td>\n      <td>7.0</td>\n      <td>NaN</td>\n      <td>NaN</td>\n      <td>6.0</td>\n    </tr>\n    <tr>\n      <th>4</th>\n      <td>CA</td>\n      <td>3</td>\n      <td>3.0</td>\n      <td>NaN</td>\n      <td>3.0</td>\n      <td>5.0</td>\n      <td>6.0</td>\n      <td>NaN</td>\n      <td>NaN</td>\n      <td>NaN</td>\n    </tr>\n  </tbody>\n</table>\n</div>"
     },
     "metadata": {},
     "execution_count": 295
    }
   ],
   "source": [
    "# change columns to Datetime object\n",
    "# convert date to only the month value\n",
    "for i in range(1, policy_df.shape[1]):\n",
    "    policy_df.iloc[:, i] = pd.to_datetime(policy_df.iloc[:, i], errors=\"coerce\")\n",
    "    policy_df.iloc[:, i] = policy_df.iloc[:, i].dt.month\n",
    "policy_df.head()"
   ]
  },
  {
   "cell_type": "code",
   "execution_count": 296,
   "metadata": {},
   "outputs": [
    {
     "output_type": "execute_result",
     "data": {
      "text/plain": [
       "  state  state_of_emergency_3  state_of_emergency_4  state_of_emergency_5  \\\n",
       "0    AL                     1                     0                     0   \n",
       "1    AK                     1                     0                     0   \n",
       "2    AZ                     1                     0                     0   \n",
       "3    AR                     1                     0                     0   \n",
       "4    CA                     1                     0                     0   \n",
       "\n",
       "   state_of_emergency_6  state_of_emergency_7  state_of_emergency_8  \\\n",
       "0                     0                     0                     0   \n",
       "1                     0                     0                     0   \n",
       "2                     0                     0                     0   \n",
       "3                     0                     0                     0   \n",
       "4                     0                     0                     0   \n",
       "\n",
       "   state_of_emergency_9  stay_at_home_3  stay_at_home_4  ...  \\\n",
       "0                     0               0               1  ...   \n",
       "1                     0               1               0  ...   \n",
       "2                     0               1               0  ...   \n",
       "3                     0               0               0  ...   \n",
       "4                     0               1               0  ...   \n",
       "\n",
       "   quaratine_mandate_7  quaratine_mandate_8  quaratine_mandate_9  \\\n",
       "0                    0                    0                    0   \n",
       "1                    0                    0                    0   \n",
       "2                    0                    0                    0   \n",
       "3                    0                    0                    0   \n",
       "4                    0                    0                    0   \n",
       "\n",
       "   quaratine_mandate_end_3  quaratine_mandate_end_4  quaratine_mandate_end_5  \\\n",
       "0                        0                        0                        0   \n",
       "1                        0                        0                        0   \n",
       "2                        0                        0                        1   \n",
       "3                        0                        0                        0   \n",
       "4                        0                        0                        0   \n",
       "\n",
       "   quaratine_mandate_end_6  quaratine_mandate_end_7  quaratine_mandate_end_8  \\\n",
       "0                        0                        0                        0   \n",
       "1                        0                        0                        0   \n",
       "2                        0                        0                        0   \n",
       "3                        1                        0                        0   \n",
       "4                        0                        0                        0   \n",
       "\n",
       "   quaratine_mandate_end_9  \n",
       "0                        0  \n",
       "1                        0  \n",
       "2                        0  \n",
       "3                        0  \n",
       "4                        0  \n",
       "\n",
       "[5 rows x 64 columns]"
      ],
      "text/html": "<div>\n<style scoped>\n    .dataframe tbody tr th:only-of-type {\n        vertical-align: middle;\n    }\n\n    .dataframe tbody tr th {\n        vertical-align: top;\n    }\n\n    .dataframe thead th {\n        text-align: right;\n    }\n</style>\n<table border=\"1\" class=\"dataframe\">\n  <thead>\n    <tr style=\"text-align: right;\">\n      <th></th>\n      <th>state</th>\n      <th>state_of_emergency_3</th>\n      <th>state_of_emergency_4</th>\n      <th>state_of_emergency_5</th>\n      <th>state_of_emergency_6</th>\n      <th>state_of_emergency_7</th>\n      <th>state_of_emergency_8</th>\n      <th>state_of_emergency_9</th>\n      <th>stay_at_home_3</th>\n      <th>stay_at_home_4</th>\n      <th>...</th>\n      <th>quaratine_mandate_7</th>\n      <th>quaratine_mandate_8</th>\n      <th>quaratine_mandate_9</th>\n      <th>quaratine_mandate_end_3</th>\n      <th>quaratine_mandate_end_4</th>\n      <th>quaratine_mandate_end_5</th>\n      <th>quaratine_mandate_end_6</th>\n      <th>quaratine_mandate_end_7</th>\n      <th>quaratine_mandate_end_8</th>\n      <th>quaratine_mandate_end_9</th>\n    </tr>\n  </thead>\n  <tbody>\n    <tr>\n      <th>0</th>\n      <td>AL</td>\n      <td>1</td>\n      <td>0</td>\n      <td>0</td>\n      <td>0</td>\n      <td>0</td>\n      <td>0</td>\n      <td>0</td>\n      <td>0</td>\n      <td>1</td>\n      <td>...</td>\n      <td>0</td>\n      <td>0</td>\n      <td>0</td>\n      <td>0</td>\n      <td>0</td>\n      <td>0</td>\n      <td>0</td>\n      <td>0</td>\n      <td>0</td>\n      <td>0</td>\n    </tr>\n    <tr>\n      <th>1</th>\n      <td>AK</td>\n      <td>1</td>\n      <td>0</td>\n      <td>0</td>\n      <td>0</td>\n      <td>0</td>\n      <td>0</td>\n      <td>0</td>\n      <td>1</td>\n      <td>0</td>\n      <td>...</td>\n      <td>0</td>\n      <td>0</td>\n      <td>0</td>\n      <td>0</td>\n      <td>0</td>\n      <td>0</td>\n      <td>0</td>\n      <td>0</td>\n      <td>0</td>\n      <td>0</td>\n    </tr>\n    <tr>\n      <th>2</th>\n      <td>AZ</td>\n      <td>1</td>\n      <td>0</td>\n      <td>0</td>\n      <td>0</td>\n      <td>0</td>\n      <td>0</td>\n      <td>0</td>\n      <td>1</td>\n      <td>0</td>\n      <td>...</td>\n      <td>0</td>\n      <td>0</td>\n      <td>0</td>\n      <td>0</td>\n      <td>0</td>\n      <td>1</td>\n      <td>0</td>\n      <td>0</td>\n      <td>0</td>\n      <td>0</td>\n    </tr>\n    <tr>\n      <th>3</th>\n      <td>AR</td>\n      <td>1</td>\n      <td>0</td>\n      <td>0</td>\n      <td>0</td>\n      <td>0</td>\n      <td>0</td>\n      <td>0</td>\n      <td>0</td>\n      <td>0</td>\n      <td>...</td>\n      <td>0</td>\n      <td>0</td>\n      <td>0</td>\n      <td>0</td>\n      <td>0</td>\n      <td>0</td>\n      <td>1</td>\n      <td>0</td>\n      <td>0</td>\n      <td>0</td>\n    </tr>\n    <tr>\n      <th>4</th>\n      <td>CA</td>\n      <td>1</td>\n      <td>0</td>\n      <td>0</td>\n      <td>0</td>\n      <td>0</td>\n      <td>0</td>\n      <td>0</td>\n      <td>1</td>\n      <td>0</td>\n      <td>...</td>\n      <td>0</td>\n      <td>0</td>\n      <td>0</td>\n      <td>0</td>\n      <td>0</td>\n      <td>0</td>\n      <td>0</td>\n      <td>0</td>\n      <td>0</td>\n      <td>0</td>\n    </tr>\n  </tbody>\n</table>\n<p>5 rows × 64 columns</p>\n</div>"
     },
     "metadata": {},
     "execution_count": 296
    }
   ],
   "source": [
    "# create dummy variables \n",
    "policy_df = policy_df.fillna(0)\n",
    "dates = list(policy_df.columns)\n",
    "dates.pop(0)\n",
    "policy_df[dates] = policy_df[dates].astype(int)\n",
    "\n",
    "cats = [\"state\"]\n",
    "for date in dates:\n",
    "    for i in range(3,10):\n",
    "        cats.append(date+\"_{i}\".format(i=i))\n",
    "\n",
    "\n",
    "    \n",
    "dummy_df = pd.get_dummies(policy_df, columns=dates)\n",
    "dummy_df = dummy_df.T.reindex(cats).T.fillna(0)\n",
    "\n",
    "dummy_df.head()\n"
   ]
  },
  {
   "cell_type": "code",
   "execution_count": 297,
   "metadata": {},
   "outputs": [
    {
     "output_type": "stream",
     "name": "stdout",
     "text": [
      "(357, 9)\n"
     ]
    },
    {
     "output_type": "execute_result",
     "data": {
      "text/plain": [
       "       state_of_emergency  stay_at_home  stay_at_home_end  business_closure  \\\n",
       "state                                                                         \n",
       "AK                      0             0                 0                 0   \n",
       "AK                      1             1                 0                 1   \n",
       "AK                      0             0                 0                 0   \n",
       "AK                      0             0                 0                 0   \n",
       "AK                      0             0                 0                 0   \n",
       "\n",
       "       business_closure_end  facemask_mandate  facemask_mandate_end  \\\n",
       "state                                                                 \n",
       "AK                        0                 0                     0   \n",
       "AK                        0                 0                     0   \n",
       "AK                        0                 0                     0   \n",
       "AK                        0                 0                     0   \n",
       "AK                        0                 0                     0   \n",
       "\n",
       "       quaratine_mandate  quaratine_mandate_end  \n",
       "state                                            \n",
       "AK                     0                      0  \n",
       "AK                     1                      0  \n",
       "AK                     0                      0  \n",
       "AK                     0                      0  \n",
       "AK                     0                      0  "
      ],
      "text/html": "<div>\n<style scoped>\n    .dataframe tbody tr th:only-of-type {\n        vertical-align: middle;\n    }\n\n    .dataframe tbody tr th {\n        vertical-align: top;\n    }\n\n    .dataframe thead th {\n        text-align: right;\n    }\n</style>\n<table border=\"1\" class=\"dataframe\">\n  <thead>\n    <tr style=\"text-align: right;\">\n      <th></th>\n      <th>state_of_emergency</th>\n      <th>stay_at_home</th>\n      <th>stay_at_home_end</th>\n      <th>business_closure</th>\n      <th>business_closure_end</th>\n      <th>facemask_mandate</th>\n      <th>facemask_mandate_end</th>\n      <th>quaratine_mandate</th>\n      <th>quaratine_mandate_end</th>\n    </tr>\n    <tr>\n      <th>state</th>\n      <th></th>\n      <th></th>\n      <th></th>\n      <th></th>\n      <th></th>\n      <th></th>\n      <th></th>\n      <th></th>\n      <th></th>\n    </tr>\n  </thead>\n  <tbody>\n    <tr>\n      <th>AK</th>\n      <td>0</td>\n      <td>0</td>\n      <td>0</td>\n      <td>0</td>\n      <td>0</td>\n      <td>0</td>\n      <td>0</td>\n      <td>0</td>\n      <td>0</td>\n    </tr>\n    <tr>\n      <th>AK</th>\n      <td>1</td>\n      <td>1</td>\n      <td>0</td>\n      <td>1</td>\n      <td>0</td>\n      <td>0</td>\n      <td>0</td>\n      <td>1</td>\n      <td>0</td>\n    </tr>\n    <tr>\n      <th>AK</th>\n      <td>0</td>\n      <td>0</td>\n      <td>0</td>\n      <td>0</td>\n      <td>0</td>\n      <td>0</td>\n      <td>0</td>\n      <td>0</td>\n      <td>0</td>\n    </tr>\n    <tr>\n      <th>AK</th>\n      <td>0</td>\n      <td>0</td>\n      <td>0</td>\n      <td>0</td>\n      <td>0</td>\n      <td>0</td>\n      <td>0</td>\n      <td>0</td>\n      <td>0</td>\n    </tr>\n    <tr>\n      <th>AK</th>\n      <td>0</td>\n      <td>0</td>\n      <td>0</td>\n      <td>0</td>\n      <td>0</td>\n      <td>0</td>\n      <td>0</td>\n      <td>0</td>\n      <td>0</td>\n    </tr>\n  </tbody>\n</table>\n</div>"
     },
     "metadata": {},
     "execution_count": 297
    }
   ],
   "source": [
    "# convert to panel data\n",
    "dummy_df = (pd.wide_to_long(dummy_df, stubnames=dates, j='month', i='state', sep='_')\n",
    "         .reset_index(level=1, drop=True)\n",
    "         .sort_index())\n",
    "\n",
    "print(dummy_df.shape)\n",
    "dummy_df.head()"
   ]
  },
  {
   "cell_type": "code",
   "execution_count": 298,
   "metadata": {},
   "outputs": [
    {
     "output_type": "stream",
     "name": "stdout",
     "text": [
      "(357, 10)\n"
     ]
    },
    {
     "output_type": "execute_result",
     "data": {
      "text/plain": [
       "       month  state_of_emergency  stay_at_home  stay_at_home_end  \\\n",
       "state                                                              \n",
       "AK         3                   0             0                 0   \n",
       "AK         4                   1             1                 0   \n",
       "AK         5                   0             0                 0   \n",
       "AK         6                   0             0                 0   \n",
       "AK         7                   0             0                 0   \n",
       "\n",
       "       business_closure  business_closure_end  facemask_mandate  \\\n",
       "state                                                             \n",
       "AK                    0                     0                 0   \n",
       "AK                    1                     0                 0   \n",
       "AK                    0                     0                 0   \n",
       "AK                    0                     0                 0   \n",
       "AK                    0                     0                 0   \n",
       "\n",
       "       facemask_mandate_end  quaratine_mandate  quaratine_mandate_end  \n",
       "state                                                                  \n",
       "AK                        0                  0                      0  \n",
       "AK                        0                  1                      0  \n",
       "AK                        0                  0                      0  \n",
       "AK                        0                  0                      0  \n",
       "AK                        0                  0                      0  "
      ],
      "text/html": "<div>\n<style scoped>\n    .dataframe tbody tr th:only-of-type {\n        vertical-align: middle;\n    }\n\n    .dataframe tbody tr th {\n        vertical-align: top;\n    }\n\n    .dataframe thead th {\n        text-align: right;\n    }\n</style>\n<table border=\"1\" class=\"dataframe\">\n  <thead>\n    <tr style=\"text-align: right;\">\n      <th></th>\n      <th>month</th>\n      <th>state_of_emergency</th>\n      <th>stay_at_home</th>\n      <th>stay_at_home_end</th>\n      <th>business_closure</th>\n      <th>business_closure_end</th>\n      <th>facemask_mandate</th>\n      <th>facemask_mandate_end</th>\n      <th>quaratine_mandate</th>\n      <th>quaratine_mandate_end</th>\n    </tr>\n    <tr>\n      <th>state</th>\n      <th></th>\n      <th></th>\n      <th></th>\n      <th></th>\n      <th></th>\n      <th></th>\n      <th></th>\n      <th></th>\n      <th></th>\n      <th></th>\n    </tr>\n  </thead>\n  <tbody>\n    <tr>\n      <th>AK</th>\n      <td>3</td>\n      <td>0</td>\n      <td>0</td>\n      <td>0</td>\n      <td>0</td>\n      <td>0</td>\n      <td>0</td>\n      <td>0</td>\n      <td>0</td>\n      <td>0</td>\n    </tr>\n    <tr>\n      <th>AK</th>\n      <td>4</td>\n      <td>1</td>\n      <td>1</td>\n      <td>0</td>\n      <td>1</td>\n      <td>0</td>\n      <td>0</td>\n      <td>0</td>\n      <td>1</td>\n      <td>0</td>\n    </tr>\n    <tr>\n      <th>AK</th>\n      <td>5</td>\n      <td>0</td>\n      <td>0</td>\n      <td>0</td>\n      <td>0</td>\n      <td>0</td>\n      <td>0</td>\n      <td>0</td>\n      <td>0</td>\n      <td>0</td>\n    </tr>\n    <tr>\n      <th>AK</th>\n      <td>6</td>\n      <td>0</td>\n      <td>0</td>\n      <td>0</td>\n      <td>0</td>\n      <td>0</td>\n      <td>0</td>\n      <td>0</td>\n      <td>0</td>\n      <td>0</td>\n    </tr>\n    <tr>\n      <th>AK</th>\n      <td>7</td>\n      <td>0</td>\n      <td>0</td>\n      <td>0</td>\n      <td>0</td>\n      <td>0</td>\n      <td>0</td>\n      <td>0</td>\n      <td>0</td>\n      <td>0</td>\n    </tr>\n  </tbody>\n</table>\n</div>"
     },
     "metadata": {},
     "execution_count": 298
    }
   ],
   "source": [
    "months = []\n",
    "for i in range(51):\n",
    "    for j in range(3, 10):\n",
    "        months.append(j)\n",
    "\n",
    "\n",
    "# reorder the month column\n",
    "dummy_df.insert(0, 'month', np.array(months))\n",
    "\n",
    "print(dummy_df.shape)\n",
    "dummy_df.head()"
   ]
  },
  {
   "cell_type": "code",
   "execution_count": null,
   "metadata": {},
   "outputs": [],
   "source": []
  }
 ],
 "metadata": {
  "kernelspec": {
   "display_name": "Python 3",
   "language": "python",
   "name": "python3"
  },
  "language_info": {
   "codemirror_mode": {
    "name": "ipython",
    "version": 3
   },
   "file_extension": ".py",
   "mimetype": "text/x-python",
   "name": "python",
   "nbconvert_exporter": "python",
   "pygments_lexer": "ipython3",
   "version": "3.8.5"
  }
 },
 "nbformat": 4,
 "nbformat_minor": 4
}