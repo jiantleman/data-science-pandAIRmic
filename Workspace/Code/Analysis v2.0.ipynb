{
 "cells": [
  {
   "cell_type": "markdown",
   "metadata": {},
   "source": [
    "# Preprocessing"
   ]
  },
  {
   "cell_type": "code",
   "execution_count": 1,
   "metadata": {},
   "outputs": [],
   "source": [
    "import sqlite3\n",
    "import pandas as pd\n",
    "import statsmodels.api as sm\n",
    "import numpy as np"
   ]
  },
  {
   "cell_type": "markdown",
   "metadata": {},
   "source": [
    "### COVID-19 Data - covid_df"
   ]
  },
  {
   "cell_type": "code",
   "execution_count": 2,
   "metadata": {},
   "outputs": [
    {
     "name": "stdout",
     "output_type": "stream",
     "text": [
      "date                        object\n",
      "state                       object\n",
      "positiveIncrease             int64\n",
      "totalTestResultsIncrease     int64\n",
      "dtype: object\n",
      "(18223, 4)\n"
     ]
    },
    {
     "data": {
      "text/html": [
       "<div>\n",
       "<style scoped>\n",
       "    .dataframe tbody tr th:only-of-type {\n",
       "        vertical-align: middle;\n",
       "    }\n",
       "\n",
       "    .dataframe tbody tr th {\n",
       "        vertical-align: top;\n",
       "    }\n",
       "\n",
       "    .dataframe thead th {\n",
       "        text-align: right;\n",
       "    }\n",
       "</style>\n",
       "<table border=\"1\" class=\"dataframe\">\n",
       "  <thead>\n",
       "    <tr style=\"text-align: right;\">\n",
       "      <th></th>\n",
       "      <th>date</th>\n",
       "      <th>state</th>\n",
       "      <th>positiveIncrease</th>\n",
       "      <th>totalTestResultsIncrease</th>\n",
       "    </tr>\n",
       "  </thead>\n",
       "  <tbody>\n",
       "    <tr>\n",
       "      <th>0</th>\n",
       "      <td>2021-02-20 00:00:00</td>\n",
       "      <td>AK</td>\n",
       "      <td>0</td>\n",
       "      <td>0</td>\n",
       "    </tr>\n",
       "    <tr>\n",
       "      <th>1</th>\n",
       "      <td>2021-02-20 00:00:00</td>\n",
       "      <td>AL</td>\n",
       "      <td>774</td>\n",
       "      <td>5436</td>\n",
       "    </tr>\n",
       "    <tr>\n",
       "      <th>2</th>\n",
       "      <td>2021-02-20 00:00:00</td>\n",
       "      <td>AR</td>\n",
       "      <td>517</td>\n",
       "      <td>3060</td>\n",
       "    </tr>\n",
       "    <tr>\n",
       "      <th>3</th>\n",
       "      <td>2021-02-20 00:00:00</td>\n",
       "      <td>AZ</td>\n",
       "      <td>2047</td>\n",
       "      <td>45153</td>\n",
       "    </tr>\n",
       "    <tr>\n",
       "      <th>4</th>\n",
       "      <td>2021-02-20 00:00:00</td>\n",
       "      <td>CA</td>\n",
       "      <td>6668</td>\n",
       "      <td>192222</td>\n",
       "    </tr>\n",
       "  </tbody>\n",
       "</table>\n",
       "</div>"
      ],
      "text/plain": [
       "                  date state  positiveIncrease  totalTestResultsIncrease\n",
       "0  2021-02-20 00:00:00    AK                 0                         0\n",
       "1  2021-02-20 00:00:00    AL               774                      5436\n",
       "2  2021-02-20 00:00:00    AR               517                      3060\n",
       "3  2021-02-20 00:00:00    AZ              2047                     45153\n",
       "4  2021-02-20 00:00:00    CA              6668                    192222"
      ]
     },
     "execution_count": 2,
     "metadata": {},
     "output_type": "execute_result"
    }
   ],
   "source": [
    "# Import covid table as dataframe\n",
    "con = sqlite3.connect(\"../Data/data.db\")\n",
    "covid_df = pd.read_sql_query(\"SELECT * FROM covid\", con)\n",
    "print(covid_df.dtypes)\n",
    "print(covid_df.shape)\n",
    "covid_df.head()"
   ]
  },
  {
   "cell_type": "code",
   "execution_count": 3,
   "metadata": {},
   "outputs": [
    {
     "name": "stdout",
     "output_type": "stream",
     "text": [
      "date                datetime64[ns]\n",
      "state                       object\n",
      "positiveIncrease             int64\n",
      "dtype: object\n"
     ]
    },
    {
     "data": {
      "text/html": [
       "<div>\n",
       "<style scoped>\n",
       "    .dataframe tbody tr th:only-of-type {\n",
       "        vertical-align: middle;\n",
       "    }\n",
       "\n",
       "    .dataframe tbody tr th {\n",
       "        vertical-align: top;\n",
       "    }\n",
       "\n",
       "    .dataframe thead th {\n",
       "        text-align: right;\n",
       "    }\n",
       "</style>\n",
       "<table border=\"1\" class=\"dataframe\">\n",
       "  <thead>\n",
       "    <tr style=\"text-align: right;\">\n",
       "      <th></th>\n",
       "      <th>date</th>\n",
       "      <th>state</th>\n",
       "      <th>positiveIncrease</th>\n",
       "    </tr>\n",
       "  </thead>\n",
       "  <tbody>\n",
       "    <tr>\n",
       "      <th>0</th>\n",
       "      <td>2021-02-20</td>\n",
       "      <td>AK</td>\n",
       "      <td>0</td>\n",
       "    </tr>\n",
       "    <tr>\n",
       "      <th>1</th>\n",
       "      <td>2021-02-20</td>\n",
       "      <td>AL</td>\n",
       "      <td>774</td>\n",
       "    </tr>\n",
       "    <tr>\n",
       "      <th>2</th>\n",
       "      <td>2021-02-20</td>\n",
       "      <td>AR</td>\n",
       "      <td>517</td>\n",
       "    </tr>\n",
       "    <tr>\n",
       "      <th>3</th>\n",
       "      <td>2021-02-20</td>\n",
       "      <td>AZ</td>\n",
       "      <td>2047</td>\n",
       "    </tr>\n",
       "    <tr>\n",
       "      <th>4</th>\n",
       "      <td>2021-02-20</td>\n",
       "      <td>CA</td>\n",
       "      <td>6668</td>\n",
       "    </tr>\n",
       "  </tbody>\n",
       "</table>\n",
       "</div>"
      ],
      "text/plain": [
       "        date state  positiveIncrease\n",
       "0 2021-02-20    AK                 0\n",
       "1 2021-02-20    AL               774\n",
       "2 2021-02-20    AR               517\n",
       "3 2021-02-20    AZ              2047\n",
       "4 2021-02-20    CA              6668"
      ]
     },
     "execution_count": 3,
     "metadata": {},
     "output_type": "execute_result"
    }
   ],
   "source": [
    "# Change date to datetime\n",
    "covid_df = covid_df.drop(columns='totalTestResultsIncrease')\n",
    "covid_df['date'] = pd.to_datetime(covid_df['date'])\n",
    "print(covid_df.dtypes)\n",
    "covid_df.head()"
   ]
  },
  {
   "cell_type": "code",
   "execution_count": 4,
   "metadata": {
    "scrolled": true
   },
   "outputs": [
    {
     "name": "stdout",
     "output_type": "stream",
     "text": [
      "(10914, 4)\n"
     ]
    },
    {
     "data": {
      "text/html": [
       "<div>\n",
       "<style scoped>\n",
       "    .dataframe tbody tr th:only-of-type {\n",
       "        vertical-align: middle;\n",
       "    }\n",
       "\n",
       "    .dataframe tbody tr th {\n",
       "        vertical-align: top;\n",
       "    }\n",
       "\n",
       "    .dataframe thead th {\n",
       "        text-align: right;\n",
       "    }\n",
       "</style>\n",
       "<table border=\"1\" class=\"dataframe\">\n",
       "  <thead>\n",
       "    <tr style=\"text-align: right;\">\n",
       "      <th></th>\n",
       "      <th>date</th>\n",
       "      <th>state</th>\n",
       "      <th>positiveIncrease</th>\n",
       "      <th>month</th>\n",
       "    </tr>\n",
       "  </thead>\n",
       "  <tbody>\n",
       "    <tr>\n",
       "      <th>6579</th>\n",
       "      <td>2020-10-14</td>\n",
       "      <td>AK</td>\n",
       "      <td>155</td>\n",
       "      <td>9.0</td>\n",
       "    </tr>\n",
       "    <tr>\n",
       "      <th>6580</th>\n",
       "      <td>2020-10-14</td>\n",
       "      <td>AL</td>\n",
       "      <td>784</td>\n",
       "      <td>9.0</td>\n",
       "    </tr>\n",
       "    <tr>\n",
       "      <th>6581</th>\n",
       "      <td>2020-10-14</td>\n",
       "      <td>AR</td>\n",
       "      <td>1079</td>\n",
       "      <td>9.0</td>\n",
       "    </tr>\n",
       "    <tr>\n",
       "      <th>6582</th>\n",
       "      <td>2020-10-14</td>\n",
       "      <td>AZ</td>\n",
       "      <td>901</td>\n",
       "      <td>9.0</td>\n",
       "    </tr>\n",
       "    <tr>\n",
       "      <th>6583</th>\n",
       "      <td>2020-10-14</td>\n",
       "      <td>CA</td>\n",
       "      <td>2666</td>\n",
       "      <td>9.0</td>\n",
       "    </tr>\n",
       "  </tbody>\n",
       "</table>\n",
       "</div>"
      ],
      "text/plain": [
       "           date state  positiveIncrease  month\n",
       "6579 2020-10-14    AK               155    9.0\n",
       "6580 2020-10-14    AL               784    9.0\n",
       "6581 2020-10-14    AR              1079    9.0\n",
       "6582 2020-10-14    AZ               901    9.0\n",
       "6583 2020-10-14    CA              2666    9.0"
      ]
     },
     "execution_count": 4,
     "metadata": {},
     "output_type": "execute_result"
    }
   ],
   "source": [
    "# Define cutoff dates and encoding\n",
    "months = [3,4,5,6,7,8,9]\n",
    "start = [pd.Timestamp(\"3-15-2020\"),\n",
    "         pd.Timestamp(\"4-15-2020\"),\n",
    "         pd.Timestamp(\"5-15-2020\"),\n",
    "         pd.Timestamp(\"6-15-2020\"),\n",
    "         pd.Timestamp(\"7-15-2020\"),\n",
    "         pd.Timestamp(\"8-15-2020\"),\n",
    "         pd.Timestamp(\"9-15-2020\")]\n",
    "end = [pd.Timestamp(\"4-15-2020\"),\n",
    "       pd.Timestamp(\"5-15-2020\"),\n",
    "       pd.Timestamp(\"6-15-2020\"),\n",
    "       pd.Timestamp(\"7-15-2020\"),\n",
    "       pd.Timestamp(\"8-15-2020\"),\n",
    "       pd.Timestamp(\"9-15-2020\"),\n",
    "       pd.Timestamp(\"10-15-2020\")]\n",
    "\n",
    "# Include new month column\n",
    "for i in range(len(months)):\n",
    "    covid_df.loc[(covid_df['date']>=start[i]) & (covid_df['date']<end[i]), \"month\"] = months[i]\n",
    "\n",
    "# Drop rows outside of daterange\n",
    "covid_df = covid_df.dropna()\n",
    "print(covid_df.shape)\n",
    "\n",
    "covid_df.head()"
   ]
  },
  {
   "cell_type": "code",
   "execution_count": 5,
   "metadata": {},
   "outputs": [
    {
     "name": "stdout",
     "output_type": "stream",
     "text": [
      "(357, 3)\n"
     ]
    },
    {
     "data": {
      "text/html": [
       "<div>\n",
       "<style scoped>\n",
       "    .dataframe tbody tr th:only-of-type {\n",
       "        vertical-align: middle;\n",
       "    }\n",
       "\n",
       "    .dataframe tbody tr th {\n",
       "        vertical-align: top;\n",
       "    }\n",
       "\n",
       "    .dataframe thead th {\n",
       "        text-align: right;\n",
       "    }\n",
       "</style>\n",
       "<table border=\"1\" class=\"dataframe\">\n",
       "  <thead>\n",
       "    <tr style=\"text-align: right;\">\n",
       "      <th></th>\n",
       "      <th>state</th>\n",
       "      <th>month</th>\n",
       "      <th>positiveIncrease</th>\n",
       "    </tr>\n",
       "  </thead>\n",
       "  <tbody>\n",
       "    <tr>\n",
       "      <th>0</th>\n",
       "      <td>AK</td>\n",
       "      <td>3.0</td>\n",
       "      <td>285</td>\n",
       "    </tr>\n",
       "    <tr>\n",
       "      <th>1</th>\n",
       "      <td>AK</td>\n",
       "      <td>4.0</td>\n",
       "      <td>104</td>\n",
       "    </tr>\n",
       "    <tr>\n",
       "      <th>2</th>\n",
       "      <td>AK</td>\n",
       "      <td>5.0</td>\n",
       "      <td>276</td>\n",
       "    </tr>\n",
       "    <tr>\n",
       "      <th>3</th>\n",
       "      <td>AK</td>\n",
       "      <td>6.0</td>\n",
       "      <td>915</td>\n",
       "    </tr>\n",
       "    <tr>\n",
       "      <th>4</th>\n",
       "      <td>AK</td>\n",
       "      <td>7.0</td>\n",
       "      <td>2498</td>\n",
       "    </tr>\n",
       "  </tbody>\n",
       "</table>\n",
       "</div>"
      ],
      "text/plain": [
       "  state  month  positiveIncrease\n",
       "0    AK    3.0               285\n",
       "1    AK    4.0               104\n",
       "2    AK    5.0               276\n",
       "3    AK    6.0               915\n",
       "4    AK    7.0              2498"
      ]
     },
     "execution_count": 5,
     "metadata": {},
     "output_type": "execute_result"
    }
   ],
   "source": [
    "# Groupby state and month and sum\n",
    "covid_df = covid_df.groupby(['state','month']).sum()\n",
    "covid_df = covid_df.reset_index()\n",
    "print(covid_df.shape)\n",
    "covid_df.head()"
   ]
  },
  {
   "cell_type": "code",
   "execution_count": 6,
   "metadata": {},
   "outputs": [
    {
     "name": "stdout",
     "output_type": "stream",
     "text": [
      "(306, 4)\n"
     ]
    },
    {
     "data": {
      "text/html": [
       "<div>\n",
       "<style scoped>\n",
       "    .dataframe tbody tr th:only-of-type {\n",
       "        vertical-align: middle;\n",
       "    }\n",
       "\n",
       "    .dataframe tbody tr th {\n",
       "        vertical-align: top;\n",
       "    }\n",
       "\n",
       "    .dataframe thead th {\n",
       "        text-align: right;\n",
       "    }\n",
       "</style>\n",
       "<table border=\"1\" class=\"dataframe\">\n",
       "  <thead>\n",
       "    <tr style=\"text-align: right;\">\n",
       "      <th></th>\n",
       "      <th>state</th>\n",
       "      <th>month</th>\n",
       "      <th>positiveIncrease</th>\n",
       "      <th>covid_change</th>\n",
       "    </tr>\n",
       "  </thead>\n",
       "  <tbody>\n",
       "    <tr>\n",
       "      <th>1</th>\n",
       "      <td>AK</td>\n",
       "      <td>4.0</td>\n",
       "      <td>104</td>\n",
       "      <td>-0.635088</td>\n",
       "    </tr>\n",
       "    <tr>\n",
       "      <th>2</th>\n",
       "      <td>AK</td>\n",
       "      <td>5.0</td>\n",
       "      <td>276</td>\n",
       "      <td>1.653846</td>\n",
       "    </tr>\n",
       "    <tr>\n",
       "      <th>3</th>\n",
       "      <td>AK</td>\n",
       "      <td>6.0</td>\n",
       "      <td>915</td>\n",
       "      <td>2.315217</td>\n",
       "    </tr>\n",
       "    <tr>\n",
       "      <th>4</th>\n",
       "      <td>AK</td>\n",
       "      <td>7.0</td>\n",
       "      <td>2498</td>\n",
       "      <td>1.730055</td>\n",
       "    </tr>\n",
       "    <tr>\n",
       "      <th>5</th>\n",
       "      <td>AK</td>\n",
       "      <td>8.0</td>\n",
       "      <td>2272</td>\n",
       "      <td>-0.090472</td>\n",
       "    </tr>\n",
       "  </tbody>\n",
       "</table>\n",
       "</div>"
      ],
      "text/plain": [
       "  state  month  positiveIncrease  covid_change\n",
       "1    AK    4.0               104     -0.635088\n",
       "2    AK    5.0               276      1.653846\n",
       "3    AK    6.0               915      2.315217\n",
       "4    AK    7.0              2498      1.730055\n",
       "5    AK    8.0              2272     -0.090472"
      ]
     },
     "execution_count": 6,
     "metadata": {},
     "output_type": "execute_result"
    }
   ],
   "source": [
    "# Calculate change in infections by state and month\n",
    "\n",
    "# months = [4,5,6,7,8,9]\n",
    "# states = covid_df['state'].unique()\n",
    "# for month in months:\n",
    "#     for state in states:\n",
    "#         curr_month = covid_df[(covid_df['month'] == month) & (covid_df['state'] == state)].positiveIncrease.item()\n",
    "#         prev_month = covid_df[(covid_df['month'] == month-1) & (covid_df['state'] == state)].positiveIncrease.item()\n",
    "#         if prev_month != 0:\n",
    "#             covid_df.loc[(covid_df['month'] == month) & (covid_df['state'] == state), 'covid_change'] = \\\n",
    "#             (curr_month-prev_month)/prev_month\n",
    "\n",
    "covid_df = covid_df.sort_values(by=['state','month'])\n",
    "covid_df['covid_change'] = covid_df['positiveIncrease'].pct_change()\n",
    "\n",
    "# Keep data from Apr\n",
    "covid_df = covid_df[covid_df['month']>=4]\n",
    "print(covid_df.shape)\n",
    "covid_df.head()"
   ]
  },
  {
   "cell_type": "code",
   "execution_count": 7,
   "metadata": {},
   "outputs": [
    {
     "data": {
      "text/html": [
       "<div>\n",
       "<style scoped>\n",
       "    .dataframe tbody tr th:only-of-type {\n",
       "        vertical-align: middle;\n",
       "    }\n",
       "\n",
       "    .dataframe tbody tr th {\n",
       "        vertical-align: top;\n",
       "    }\n",
       "\n",
       "    .dataframe thead th {\n",
       "        text-align: right;\n",
       "    }\n",
       "</style>\n",
       "<table border=\"1\" class=\"dataframe\">\n",
       "  <thead>\n",
       "    <tr style=\"text-align: right;\">\n",
       "      <th></th>\n",
       "      <th>state</th>\n",
       "      <th>population</th>\n",
       "    </tr>\n",
       "  </thead>\n",
       "  <tbody>\n",
       "    <tr>\n",
       "      <th>0</th>\n",
       "      <td>AL</td>\n",
       "      <td>4887871</td>\n",
       "    </tr>\n",
       "    <tr>\n",
       "      <th>1</th>\n",
       "      <td>AK</td>\n",
       "      <td>737438</td>\n",
       "    </tr>\n",
       "    <tr>\n",
       "      <th>2</th>\n",
       "      <td>AZ</td>\n",
       "      <td>7171646</td>\n",
       "    </tr>\n",
       "    <tr>\n",
       "      <th>3</th>\n",
       "      <td>AR</td>\n",
       "      <td>3013825</td>\n",
       "    </tr>\n",
       "    <tr>\n",
       "      <th>4</th>\n",
       "      <td>CA</td>\n",
       "      <td>39557045</td>\n",
       "    </tr>\n",
       "  </tbody>\n",
       "</table>\n",
       "</div>"
      ],
      "text/plain": [
       "  state  population\n",
       "0    AL     4887871\n",
       "1    AK      737438\n",
       "2    AZ     7171646\n",
       "3    AR     3013825\n",
       "4    CA    39557045"
      ]
     },
     "execution_count": 7,
     "metadata": {},
     "output_type": "execute_result"
    }
   ],
   "source": [
    "# Get population of states\n",
    "pop_df = pd.read_sql_query(\"SELECT state, population FROM policy\", con)\n",
    "pop_df.head()"
   ]
  },
  {
   "cell_type": "code",
   "execution_count": 8,
   "metadata": {},
   "outputs": [
    {
     "data": {
      "text/html": [
       "<div>\n",
       "<style scoped>\n",
       "    .dataframe tbody tr th:only-of-type {\n",
       "        vertical-align: middle;\n",
       "    }\n",
       "\n",
       "    .dataframe tbody tr th {\n",
       "        vertical-align: top;\n",
       "    }\n",
       "\n",
       "    .dataframe thead th {\n",
       "        text-align: right;\n",
       "    }\n",
       "</style>\n",
       "<table border=\"1\" class=\"dataframe\">\n",
       "  <thead>\n",
       "    <tr style=\"text-align: right;\">\n",
       "      <th></th>\n",
       "      <th>state</th>\n",
       "      <th>month</th>\n",
       "      <th>positiveIncrease</th>\n",
       "      <th>covid_change</th>\n",
       "      <th>population</th>\n",
       "    </tr>\n",
       "  </thead>\n",
       "  <tbody>\n",
       "    <tr>\n",
       "      <th>0</th>\n",
       "      <td>AK</td>\n",
       "      <td>4.0</td>\n",
       "      <td>104</td>\n",
       "      <td>-0.635088</td>\n",
       "      <td>737438</td>\n",
       "    </tr>\n",
       "    <tr>\n",
       "      <th>1</th>\n",
       "      <td>AK</td>\n",
       "      <td>5.0</td>\n",
       "      <td>276</td>\n",
       "      <td>1.653846</td>\n",
       "      <td>737438</td>\n",
       "    </tr>\n",
       "    <tr>\n",
       "      <th>2</th>\n",
       "      <td>AK</td>\n",
       "      <td>6.0</td>\n",
       "      <td>915</td>\n",
       "      <td>2.315217</td>\n",
       "      <td>737438</td>\n",
       "    </tr>\n",
       "    <tr>\n",
       "      <th>3</th>\n",
       "      <td>AK</td>\n",
       "      <td>7.0</td>\n",
       "      <td>2498</td>\n",
       "      <td>1.730055</td>\n",
       "      <td>737438</td>\n",
       "    </tr>\n",
       "    <tr>\n",
       "      <th>4</th>\n",
       "      <td>AK</td>\n",
       "      <td>8.0</td>\n",
       "      <td>2272</td>\n",
       "      <td>-0.090472</td>\n",
       "      <td>737438</td>\n",
       "    </tr>\n",
       "  </tbody>\n",
       "</table>\n",
       "</div>"
      ],
      "text/plain": [
       "  state  month  positiveIncrease  covid_change  population\n",
       "0    AK    4.0               104     -0.635088      737438\n",
       "1    AK    5.0               276      1.653846      737438\n",
       "2    AK    6.0               915      2.315217      737438\n",
       "3    AK    7.0              2498      1.730055      737438\n",
       "4    AK    8.0              2272     -0.090472      737438"
      ]
     },
     "execution_count": 8,
     "metadata": {},
     "output_type": "execute_result"
    }
   ],
   "source": [
    "# Merge tables\n",
    "covid_df = pd.merge(covid_df, pop_df, on='state')\n",
    "covid_df.head()"
   ]
  },
  {
   "cell_type": "code",
   "execution_count": 9,
   "metadata": {
    "scrolled": true
   },
   "outputs": [
    {
     "name": "stdout",
     "output_type": "stream",
     "text": [
      "(306, 5)\n",
      "state                object\n",
      "month                 int64\n",
      "positiveIncrease      int64\n",
      "covid_change        float64\n",
      "per_capita          float64\n",
      "dtype: object\n"
     ]
    },
    {
     "data": {
      "text/html": [
       "<div>\n",
       "<style scoped>\n",
       "    .dataframe tbody tr th:only-of-type {\n",
       "        vertical-align: middle;\n",
       "    }\n",
       "\n",
       "    .dataframe tbody tr th {\n",
       "        vertical-align: top;\n",
       "    }\n",
       "\n",
       "    .dataframe thead th {\n",
       "        text-align: right;\n",
       "    }\n",
       "</style>\n",
       "<table border=\"1\" class=\"dataframe\">\n",
       "  <thead>\n",
       "    <tr style=\"text-align: right;\">\n",
       "      <th></th>\n",
       "      <th>state</th>\n",
       "      <th>month</th>\n",
       "      <th>positiveIncrease</th>\n",
       "      <th>covid_change</th>\n",
       "      <th>per_capita</th>\n",
       "    </tr>\n",
       "  </thead>\n",
       "  <tbody>\n",
       "    <tr>\n",
       "      <th>0</th>\n",
       "      <td>AK</td>\n",
       "      <td>4</td>\n",
       "      <td>104</td>\n",
       "      <td>-0.635088</td>\n",
       "      <td>0.000141</td>\n",
       "    </tr>\n",
       "    <tr>\n",
       "      <th>1</th>\n",
       "      <td>AK</td>\n",
       "      <td>5</td>\n",
       "      <td>276</td>\n",
       "      <td>1.653846</td>\n",
       "      <td>0.000374</td>\n",
       "    </tr>\n",
       "    <tr>\n",
       "      <th>2</th>\n",
       "      <td>AK</td>\n",
       "      <td>6</td>\n",
       "      <td>915</td>\n",
       "      <td>2.315217</td>\n",
       "      <td>0.001241</td>\n",
       "    </tr>\n",
       "    <tr>\n",
       "      <th>3</th>\n",
       "      <td>AK</td>\n",
       "      <td>7</td>\n",
       "      <td>2498</td>\n",
       "      <td>1.730055</td>\n",
       "      <td>0.003387</td>\n",
       "    </tr>\n",
       "    <tr>\n",
       "      <th>4</th>\n",
       "      <td>AK</td>\n",
       "      <td>8</td>\n",
       "      <td>2272</td>\n",
       "      <td>-0.090472</td>\n",
       "      <td>0.003081</td>\n",
       "    </tr>\n",
       "  </tbody>\n",
       "</table>\n",
       "</div>"
      ],
      "text/plain": [
       "  state  month  positiveIncrease  covid_change  per_capita\n",
       "0    AK      4               104     -0.635088    0.000141\n",
       "1    AK      5               276      1.653846    0.000374\n",
       "2    AK      6               915      2.315217    0.001241\n",
       "3    AK      7              2498      1.730055    0.003387\n",
       "4    AK      8              2272     -0.090472    0.003081"
      ]
     },
     "execution_count": 9,
     "metadata": {},
     "output_type": "execute_result"
    }
   ],
   "source": [
    "# Calculate new cases per capita\n",
    "covid_df['per_capita'] = covid_df['positiveIncrease']/covid_df['population']\n",
    "covid_df = covid_df.astype({'month':'int64'})\n",
    "covid_df = covid_df.drop(columns='population')\n",
    "print(covid_df.shape)\n",
    "print(covid_df.dtypes)\n",
    "covid_df.head()"
   ]
  },
  {
   "cell_type": "markdown",
   "metadata": {},
   "source": [
    "### Policy Data - policy_df"
   ]
  },
  {
   "cell_type": "code",
   "execution_count": 10,
   "metadata": {},
   "outputs": [
    {
     "name": "stdout",
     "output_type": "stream",
     "text": [
      "state                    object\n",
      "state_of_emergency       object\n",
      "stay_at_home             object\n",
      "stay_at_home_end         object\n",
      "business_closure         object\n",
      "business_closure_end     object\n",
      "facemask_mandate         object\n",
      "facemask_mandate_end     object\n",
      "quaratine_mandate        object\n",
      "quaratine_mandate_end    object\n",
      "dtype: object\n"
     ]
    },
    {
     "data": {
      "text/html": [
       "<div>\n",
       "<style scoped>\n",
       "    .dataframe tbody tr th:only-of-type {\n",
       "        vertical-align: middle;\n",
       "    }\n",
       "\n",
       "    .dataframe tbody tr th {\n",
       "        vertical-align: top;\n",
       "    }\n",
       "\n",
       "    .dataframe thead th {\n",
       "        text-align: right;\n",
       "    }\n",
       "</style>\n",
       "<table border=\"1\" class=\"dataframe\">\n",
       "  <thead>\n",
       "    <tr style=\"text-align: right;\">\n",
       "      <th></th>\n",
       "      <th>state</th>\n",
       "      <th>state_of_emergency</th>\n",
       "      <th>stay_at_home</th>\n",
       "      <th>stay_at_home_end</th>\n",
       "      <th>business_closure</th>\n",
       "      <th>business_closure_end</th>\n",
       "      <th>facemask_mandate</th>\n",
       "      <th>facemask_mandate_end</th>\n",
       "      <th>quaratine_mandate</th>\n",
       "      <th>quaratine_mandate_end</th>\n",
       "    </tr>\n",
       "  </thead>\n",
       "  <tbody>\n",
       "    <tr>\n",
       "      <th>0</th>\n",
       "      <td>AL</td>\n",
       "      <td>2020-03-13 00:00:00</td>\n",
       "      <td>2020-04-04 00:00:00</td>\n",
       "      <td>2020-04-30 00:00:00</td>\n",
       "      <td>2020-03-28 00:00:00</td>\n",
       "      <td>2020-04-30 00:00:00</td>\n",
       "      <td>2020-07-16 00:00:00</td>\n",
       "      <td>None</td>\n",
       "      <td>None</td>\n",
       "      <td>None</td>\n",
       "    </tr>\n",
       "    <tr>\n",
       "      <th>1</th>\n",
       "      <td>AK</td>\n",
       "      <td>2020-03-11 00:00:00</td>\n",
       "      <td>2020-03-28 00:00:00</td>\n",
       "      <td>2020-04-24 00:00:00</td>\n",
       "      <td>2020-03-24 00:00:00</td>\n",
       "      <td>2020-04-24 00:00:00</td>\n",
       "      <td>2020-04-24 00:00:00</td>\n",
       "      <td>2020-05-22 00:00:00</td>\n",
       "      <td>2020-03-25 00:00:00</td>\n",
       "      <td>2021-02-14 00:00:00</td>\n",
       "    </tr>\n",
       "    <tr>\n",
       "      <th>2</th>\n",
       "      <td>AZ</td>\n",
       "      <td>2020-03-11 00:00:00</td>\n",
       "      <td>2020-03-31 00:00:00</td>\n",
       "      <td>2020-05-16 00:00:00</td>\n",
       "      <td>2020-03-31 00:00:00</td>\n",
       "      <td>2020-05-08 00:00:00</td>\n",
       "      <td>None</td>\n",
       "      <td>None</td>\n",
       "      <td>None</td>\n",
       "      <td>2020-05-12 00:00:00</td>\n",
       "    </tr>\n",
       "    <tr>\n",
       "      <th>3</th>\n",
       "      <td>AR</td>\n",
       "      <td>2020-03-11 00:00:00</td>\n",
       "      <td>None</td>\n",
       "      <td>None</td>\n",
       "      <td>2020-04-06 00:00:00</td>\n",
       "      <td>2020-05-04 00:00:00</td>\n",
       "      <td>2020-07-20 00:00:00</td>\n",
       "      <td>None</td>\n",
       "      <td>None</td>\n",
       "      <td>2020-06-15 00:00:00</td>\n",
       "    </tr>\n",
       "    <tr>\n",
       "      <th>4</th>\n",
       "      <td>CA</td>\n",
       "      <td>2020-03-04 00:00:00</td>\n",
       "      <td>2020-03-19 00:00:00</td>\n",
       "      <td>None</td>\n",
       "      <td>2020-03-19 00:00:00</td>\n",
       "      <td>2020-05-08 00:00:00</td>\n",
       "      <td>2020-06-18 00:00:00</td>\n",
       "      <td>None</td>\n",
       "      <td>None</td>\n",
       "      <td>None</td>\n",
       "    </tr>\n",
       "  </tbody>\n",
       "</table>\n",
       "</div>"
      ],
      "text/plain": [
       "  state   state_of_emergency         stay_at_home     stay_at_home_end  \\\n",
       "0    AL  2020-03-13 00:00:00  2020-04-04 00:00:00  2020-04-30 00:00:00   \n",
       "1    AK  2020-03-11 00:00:00  2020-03-28 00:00:00  2020-04-24 00:00:00   \n",
       "2    AZ  2020-03-11 00:00:00  2020-03-31 00:00:00  2020-05-16 00:00:00   \n",
       "3    AR  2020-03-11 00:00:00                 None                 None   \n",
       "4    CA  2020-03-04 00:00:00  2020-03-19 00:00:00                 None   \n",
       "\n",
       "      business_closure business_closure_end     facemask_mandate  \\\n",
       "0  2020-03-28 00:00:00  2020-04-30 00:00:00  2020-07-16 00:00:00   \n",
       "1  2020-03-24 00:00:00  2020-04-24 00:00:00  2020-04-24 00:00:00   \n",
       "2  2020-03-31 00:00:00  2020-05-08 00:00:00                 None   \n",
       "3  2020-04-06 00:00:00  2020-05-04 00:00:00  2020-07-20 00:00:00   \n",
       "4  2020-03-19 00:00:00  2020-05-08 00:00:00  2020-06-18 00:00:00   \n",
       "\n",
       "  facemask_mandate_end    quaratine_mandate quaratine_mandate_end  \n",
       "0                 None                 None                  None  \n",
       "1  2020-05-22 00:00:00  2020-03-25 00:00:00   2021-02-14 00:00:00  \n",
       "2                 None                 None   2020-05-12 00:00:00  \n",
       "3                 None                 None   2020-06-15 00:00:00  \n",
       "4                 None                 None                  None  "
      ]
     },
     "execution_count": 10,
     "metadata": {},
     "output_type": "execute_result"
    }
   ],
   "source": [
    "raw = pd.read_sql_query(\"SELECT * FROM policy\", con)\n",
    "# Drop pop density and population columns \n",
    "raw = raw.drop(columns=['pop_density', 'population'])\n",
    "print(raw.dtypes)\n",
    "raw.head()"
   ]
  },
  {
   "cell_type": "code",
   "execution_count": 11,
   "metadata": {},
   "outputs": [
    {
     "name": "stdout",
     "output_type": "stream",
     "text": [
      "state                    object\n",
      "state_of_emergency       object\n",
      "stay_at_home             object\n",
      "stay_at_home_end         object\n",
      "business_closure         object\n",
      "business_closure_end     object\n",
      "facemask_mandate         object\n",
      "facemask_mandate_end     object\n",
      "quaratine_mandate        object\n",
      "quaratine_mandate_end    object\n",
      "dtype: object\n"
     ]
    },
    {
     "data": {
      "text/html": [
       "<div>\n",
       "<style scoped>\n",
       "    .dataframe tbody tr th:only-of-type {\n",
       "        vertical-align: middle;\n",
       "    }\n",
       "\n",
       "    .dataframe tbody tr th {\n",
       "        vertical-align: top;\n",
       "    }\n",
       "\n",
       "    .dataframe thead th {\n",
       "        text-align: right;\n",
       "    }\n",
       "</style>\n",
       "<table border=\"1\" class=\"dataframe\">\n",
       "  <thead>\n",
       "    <tr style=\"text-align: right;\">\n",
       "      <th></th>\n",
       "      <th>state</th>\n",
       "      <th>state_of_emergency</th>\n",
       "      <th>stay_at_home</th>\n",
       "      <th>stay_at_home_end</th>\n",
       "      <th>business_closure</th>\n",
       "      <th>business_closure_end</th>\n",
       "      <th>facemask_mandate</th>\n",
       "      <th>facemask_mandate_end</th>\n",
       "      <th>quaratine_mandate</th>\n",
       "      <th>quaratine_mandate_end</th>\n",
       "    </tr>\n",
       "  </thead>\n",
       "  <tbody>\n",
       "    <tr>\n",
       "      <th>0</th>\n",
       "      <td>AL</td>\n",
       "      <td>3</td>\n",
       "      <td>4.0</td>\n",
       "      <td>4.0</td>\n",
       "      <td>3.0</td>\n",
       "      <td>4.0</td>\n",
       "      <td>7.0</td>\n",
       "      <td>inf</td>\n",
       "      <td>inf</td>\n",
       "      <td>inf</td>\n",
       "    </tr>\n",
       "    <tr>\n",
       "      <th>1</th>\n",
       "      <td>AK</td>\n",
       "      <td>3</td>\n",
       "      <td>3.0</td>\n",
       "      <td>4.0</td>\n",
       "      <td>3.0</td>\n",
       "      <td>4.0</td>\n",
       "      <td>4.0</td>\n",
       "      <td>5.0</td>\n",
       "      <td>3.0</td>\n",
       "      <td>inf</td>\n",
       "    </tr>\n",
       "    <tr>\n",
       "      <th>2</th>\n",
       "      <td>AZ</td>\n",
       "      <td>3</td>\n",
       "      <td>3.0</td>\n",
       "      <td>5.0</td>\n",
       "      <td>3.0</td>\n",
       "      <td>5.0</td>\n",
       "      <td>inf</td>\n",
       "      <td>inf</td>\n",
       "      <td>inf</td>\n",
       "      <td>5.0</td>\n",
       "    </tr>\n",
       "    <tr>\n",
       "      <th>3</th>\n",
       "      <td>AR</td>\n",
       "      <td>3</td>\n",
       "      <td>inf</td>\n",
       "      <td>inf</td>\n",
       "      <td>4.0</td>\n",
       "      <td>5.0</td>\n",
       "      <td>7.0</td>\n",
       "      <td>inf</td>\n",
       "      <td>inf</td>\n",
       "      <td>6.0</td>\n",
       "    </tr>\n",
       "    <tr>\n",
       "      <th>4</th>\n",
       "      <td>CA</td>\n",
       "      <td>3</td>\n",
       "      <td>3.0</td>\n",
       "      <td>inf</td>\n",
       "      <td>3.0</td>\n",
       "      <td>5.0</td>\n",
       "      <td>6.0</td>\n",
       "      <td>inf</td>\n",
       "      <td>inf</td>\n",
       "      <td>inf</td>\n",
       "    </tr>\n",
       "  </tbody>\n",
       "</table>\n",
       "</div>"
      ],
      "text/plain": [
       "  state  state_of_emergency  stay_at_home  stay_at_home_end  business_closure  \\\n",
       "0    AL                   3           4.0               4.0               3.0   \n",
       "1    AK                   3           3.0               4.0               3.0   \n",
       "2    AZ                   3           3.0               5.0               3.0   \n",
       "3    AR                   3           inf               inf               4.0   \n",
       "4    CA                   3           3.0               inf               3.0   \n",
       "\n",
       "   business_closure_end  facemask_mandate  facemask_mandate_end  \\\n",
       "0                   4.0               7.0                   inf   \n",
       "1                   4.0               4.0                   5.0   \n",
       "2                   5.0               inf                   inf   \n",
       "3                   5.0               7.0                   inf   \n",
       "4                   5.0               6.0                   inf   \n",
       "\n",
       "   quaratine_mandate  quaratine_mandate_end  \n",
       "0                inf                    inf  \n",
       "1                3.0                    inf  \n",
       "2                inf                    5.0  \n",
       "3                inf                    6.0  \n",
       "4                inf                    inf  "
      ]
     },
     "execution_count": 11,
     "metadata": {},
     "output_type": "execute_result"
    }
   ],
   "source": [
    "# Change columns to Datetime object, convert date to only the month value\n",
    "for i in range(1, raw.shape[1]):\n",
    "    raw.iloc[:, i] = pd.to_datetime(raw.iloc[:, i], errors=\"coerce\")\n",
    "    for j in range(0, raw.shape[0]): \n",
    "        # Set month to inf if it is out of range of 2020\n",
    "        if raw.iloc[j, i].year == 2021:\n",
    "            raw.iloc[j, i] = np.inf\n",
    "        else:\n",
    "            raw.iloc[j, i] = raw.iloc[j, i].month\n",
    "print(raw.dtypes)\n",
    "raw = raw.fillna(np.Inf)\n",
    "raw.head()"
   ]
  },
  {
   "cell_type": "code",
   "execution_count": 12,
   "metadata": {},
   "outputs": [
    {
     "name": "stdout",
     "output_type": "stream",
     "text": [
      "state                 object\n",
      "month                 object\n",
      "state_of_emergency    object\n",
      "stay_at_home          object\n",
      "business_closure      object\n",
      "facemask_mandate      object\n",
      "quarantine_mandate    object\n",
      "dtype: object\n"
     ]
    },
    {
     "data": {
      "text/html": [
       "<div>\n",
       "<style scoped>\n",
       "    .dataframe tbody tr th:only-of-type {\n",
       "        vertical-align: middle;\n",
       "    }\n",
       "\n",
       "    .dataframe tbody tr th {\n",
       "        vertical-align: top;\n",
       "    }\n",
       "\n",
       "    .dataframe thead th {\n",
       "        text-align: right;\n",
       "    }\n",
       "</style>\n",
       "<table border=\"1\" class=\"dataframe\">\n",
       "  <thead>\n",
       "    <tr style=\"text-align: right;\">\n",
       "      <th></th>\n",
       "      <th>state</th>\n",
       "      <th>month</th>\n",
       "      <th>state_of_emergency</th>\n",
       "      <th>stay_at_home</th>\n",
       "      <th>business_closure</th>\n",
       "      <th>facemask_mandate</th>\n",
       "      <th>quarantine_mandate</th>\n",
       "    </tr>\n",
       "  </thead>\n",
       "  <tbody>\n",
       "    <tr>\n",
       "      <th>0</th>\n",
       "      <td>AK</td>\n",
       "      <td>4</td>\n",
       "      <td>1</td>\n",
       "      <td>1</td>\n",
       "      <td>1</td>\n",
       "      <td>1</td>\n",
       "      <td>1</td>\n",
       "    </tr>\n",
       "    <tr>\n",
       "      <th>1</th>\n",
       "      <td>AL</td>\n",
       "      <td>4</td>\n",
       "      <td>1</td>\n",
       "      <td>1</td>\n",
       "      <td>1</td>\n",
       "      <td>0</td>\n",
       "      <td>0</td>\n",
       "    </tr>\n",
       "    <tr>\n",
       "      <th>2</th>\n",
       "      <td>AR</td>\n",
       "      <td>4</td>\n",
       "      <td>1</td>\n",
       "      <td>0</td>\n",
       "      <td>1</td>\n",
       "      <td>0</td>\n",
       "      <td>0</td>\n",
       "    </tr>\n",
       "    <tr>\n",
       "      <th>3</th>\n",
       "      <td>AZ</td>\n",
       "      <td>4</td>\n",
       "      <td>1</td>\n",
       "      <td>1</td>\n",
       "      <td>1</td>\n",
       "      <td>0</td>\n",
       "      <td>0</td>\n",
       "    </tr>\n",
       "    <tr>\n",
       "      <th>4</th>\n",
       "      <td>CA</td>\n",
       "      <td>4</td>\n",
       "      <td>1</td>\n",
       "      <td>1</td>\n",
       "      <td>1</td>\n",
       "      <td>0</td>\n",
       "      <td>0</td>\n",
       "    </tr>\n",
       "  </tbody>\n",
       "</table>\n",
       "</div>"
      ],
      "text/plain": [
       "  state month state_of_emergency stay_at_home business_closure  \\\n",
       "0    AK     4                  1            1                1   \n",
       "1    AL     4                  1            1                1   \n",
       "2    AR     4                  1            0                1   \n",
       "3    AZ     4                  1            1                1   \n",
       "4    CA     4                  1            1                1   \n",
       "\n",
       "  facemask_mandate quarantine_mandate  \n",
       "0                1                  1  \n",
       "1                0                  0  \n",
       "2                0                  0  \n",
       "3                0                  0  \n",
       "4                0                  0  "
      ]
     },
     "execution_count": 12,
     "metadata": {},
     "output_type": "execute_result"
    }
   ],
   "source": [
    "# Encode data where 1 indicates that policy is active and 2 indicates that policy is inactive\n",
    "policy_df = pd.DataFrame(columns = ['state','month','state_of_emergency','stay_at_home', \\\n",
    "                                         'business_closure','facemask_mandate','quarantine_mandate'])\n",
    "months = [4,5,6,7,8,9]\n",
    "states = covid_df['state'].unique()\n",
    "for month in months:\n",
    "    for state in states:\n",
    "        row = raw[raw['state'] == state]\n",
    "        emergency, home, business, facemask, quarantine = 0, 0, 0, 0, 0\n",
    "        # Encode as 1 if month is between start and end\n",
    "        if month >= row.state_of_emergency.item():\n",
    "            emergency = 1\n",
    "        if month >= row.stay_at_home.item() and month <= row.stay_at_home_end.item():\n",
    "            home = 1\n",
    "        if month >= row.business_closure.item() and month <= row.business_closure_end.item():\n",
    "            business = 1\n",
    "        if month >= row.facemask_mandate.item() and month <= row.facemask_mandate_end.item():\n",
    "            facemask = 1\n",
    "        if month >= row.quaratine_mandate.item() and month <= row.quaratine_mandate_end.item():\n",
    "            quarantine = 1\n",
    "        # Add to dataframe\n",
    "        policy_df = policy_df.append({'state':state,\\\n",
    "                                                'month':month,\\\n",
    "                                                'state_of_emergency':emergency,\\\n",
    "                                                'stay_at_home':home,\\\n",
    "                                                'business_closure':business,\\\n",
    "                                                'facemask_mandate':facemask,\\\n",
    "                                                'quarantine_mandate':quarantine}, ignore_index=True)\n",
    "print(policy_df.dtypes)\n",
    "policy_df.head()"
   ]
  },
  {
   "cell_type": "markdown",
   "metadata": {},
   "source": [
    "### Data Exploration"
   ]
  },
  {
   "cell_type": "code",
   "execution_count": 13,
   "metadata": {},
   "outputs": [
    {
     "name": "stdout",
     "output_type": "stream",
     "text": [
      "month                 2.926230\n",
      "state_of_emergency    0.000000\n",
      "stay_at_home          0.222951\n",
      "business_closure      0.219576\n",
      "facemask_mandate      0.250134\n",
      "quarantine_mandate    0.143673\n",
      "dtype: float64\n"
     ]
    }
   ],
   "source": [
    "policy_df = policy_df.astype('int',errors='ignore')\n",
    "# Check variance of data\n",
    "print(policy_df.var())\n",
    "policy_df = policy_df.drop(columns='state_of_emergency')"
   ]
  },
  {
   "cell_type": "code",
   "execution_count": 14,
   "metadata": {},
   "outputs": [
    {
     "data": {
      "text/html": [
       "<div>\n",
       "<style scoped>\n",
       "    .dataframe tbody tr th:only-of-type {\n",
       "        vertical-align: middle;\n",
       "    }\n",
       "\n",
       "    .dataframe tbody tr th {\n",
       "        vertical-align: top;\n",
       "    }\n",
       "\n",
       "    .dataframe thead th {\n",
       "        text-align: right;\n",
       "    }\n",
       "</style>\n",
       "<table border=\"1\" class=\"dataframe\">\n",
       "  <thead>\n",
       "    <tr style=\"text-align: right;\">\n",
       "      <th></th>\n",
       "      <th>stay_at_home</th>\n",
       "      <th>business_closure</th>\n",
       "      <th>facemask_mandate</th>\n",
       "      <th>quarantine_mandate</th>\n",
       "    </tr>\n",
       "  </thead>\n",
       "  <tbody>\n",
       "    <tr>\n",
       "      <th>stay_at_home</th>\n",
       "      <td>1.000000</td>\n",
       "      <td>0.711287</td>\n",
       "      <td>-0.087931</td>\n",
       "      <td>0.079383</td>\n",
       "    </tr>\n",
       "    <tr>\n",
       "      <th>business_closure</th>\n",
       "      <td>0.711287</td>\n",
       "      <td>1.000000</td>\n",
       "      <td>-0.250588</td>\n",
       "      <td>0.071123</td>\n",
       "    </tr>\n",
       "    <tr>\n",
       "      <th>facemask_mandate</th>\n",
       "      <td>-0.087931</td>\n",
       "      <td>-0.250588</td>\n",
       "      <td>1.000000</td>\n",
       "      <td>0.170974</td>\n",
       "    </tr>\n",
       "    <tr>\n",
       "      <th>quarantine_mandate</th>\n",
       "      <td>0.079383</td>\n",
       "      <td>0.071123</td>\n",
       "      <td>0.170974</td>\n",
       "      <td>1.000000</td>\n",
       "    </tr>\n",
       "  </tbody>\n",
       "</table>\n",
       "</div>"
      ],
      "text/plain": [
       "                    stay_at_home  business_closure  facemask_mandate  \\\n",
       "stay_at_home            1.000000          0.711287         -0.087931   \n",
       "business_closure        0.711287          1.000000         -0.250588   \n",
       "facemask_mandate       -0.087931         -0.250588          1.000000   \n",
       "quarantine_mandate      0.079383          0.071123          0.170974   \n",
       "\n",
       "                    quarantine_mandate  \n",
       "stay_at_home                  0.079383  \n",
       "business_closure              0.071123  \n",
       "facemask_mandate              0.170974  \n",
       "quarantine_mandate            1.000000  "
      ]
     },
     "execution_count": 14,
     "metadata": {},
     "output_type": "execute_result"
    }
   ],
   "source": [
    "policy_df[['stay_at_home','business_closure','facemask_mandate','quarantine_mandate']].corr()"
   ]
  },
  {
   "cell_type": "markdown",
   "metadata": {},
   "source": [
    "### Flight Data - flight_df"
   ]
  },
  {
   "cell_type": "code",
   "execution_count": 15,
   "metadata": {},
   "outputs": [
    {
     "data": {
      "text/html": [
       "<div>\n",
       "<style scoped>\n",
       "    .dataframe tbody tr th:only-of-type {\n",
       "        vertical-align: middle;\n",
       "    }\n",
       "\n",
       "    .dataframe tbody tr th {\n",
       "        vertical-align: top;\n",
       "    }\n",
       "\n",
       "    .dataframe thead th {\n",
       "        text-align: right;\n",
       "    }\n",
       "</style>\n",
       "<table border=\"1\" class=\"dataframe\">\n",
       "  <thead>\n",
       "    <tr style=\"text-align: right;\">\n",
       "      <th></th>\n",
       "      <th>origin_state</th>\n",
       "      <th>dest_state</th>\n",
       "      <th>month</th>\n",
       "      <th>monthly_pax</th>\n",
       "    </tr>\n",
       "  </thead>\n",
       "  <tbody>\n",
       "    <tr>\n",
       "      <th>0</th>\n",
       "      <td>AK</td>\n",
       "      <td>AK</td>\n",
       "      <td>3.0</td>\n",
       "      <td>56336.281143</td>\n",
       "    </tr>\n",
       "    <tr>\n",
       "      <th>1</th>\n",
       "      <td>AK</td>\n",
       "      <td>AK</td>\n",
       "      <td>4.0</td>\n",
       "      <td>10187.576905</td>\n",
       "    </tr>\n",
       "    <tr>\n",
       "      <th>2</th>\n",
       "      <td>AK</td>\n",
       "      <td>AK</td>\n",
       "      <td>5.0</td>\n",
       "      <td>20472.748260</td>\n",
       "    </tr>\n",
       "    <tr>\n",
       "      <th>3</th>\n",
       "      <td>AK</td>\n",
       "      <td>AK</td>\n",
       "      <td>6.0</td>\n",
       "      <td>41179.674835</td>\n",
       "    </tr>\n",
       "    <tr>\n",
       "      <th>4</th>\n",
       "      <td>AK</td>\n",
       "      <td>AK</td>\n",
       "      <td>7.0</td>\n",
       "      <td>52228.927140</td>\n",
       "    </tr>\n",
       "  </tbody>\n",
       "</table>\n",
       "</div>"
      ],
      "text/plain": [
       "  origin_state dest_state  month   monthly_pax\n",
       "0           AK         AK    3.0  56336.281143\n",
       "1           AK         AK    4.0  10187.576905\n",
       "2           AK         AK    5.0  20472.748260\n",
       "3           AK         AK    6.0  41179.674835\n",
       "4           AK         AK    7.0  52228.927140"
      ]
     },
     "execution_count": 15,
     "metadata": {},
     "output_type": "execute_result"
    }
   ],
   "source": [
    "flight_df = pd.read_sql_query(\"SELECT * FROM flight WHERE (month >= 3)\", con)\n",
    "flight_df.head()"
   ]
  },
  {
   "cell_type": "markdown",
   "metadata": {},
   "source": [
    "# Hypothesis 1 - Simple Regression of Flight monthly_pax against positiveIncrease\n"
   ]
  },
  {
   "cell_type": "code",
   "execution_count": 16,
   "metadata": {},
   "outputs": [
    {
     "name": "stdout",
     "output_type": "stream",
     "text": [
      "(364, 3)\n"
     ]
    },
    {
     "data": {
      "text/html": [
       "<div>\n",
       "<style scoped>\n",
       "    .dataframe tbody tr th:only-of-type {\n",
       "        vertical-align: middle;\n",
       "    }\n",
       "\n",
       "    .dataframe tbody tr th {\n",
       "        vertical-align: top;\n",
       "    }\n",
       "\n",
       "    .dataframe thead th {\n",
       "        text-align: right;\n",
       "    }\n",
       "</style>\n",
       "<table border=\"1\" class=\"dataframe\">\n",
       "  <thead>\n",
       "    <tr style=\"text-align: right;\">\n",
       "      <th></th>\n",
       "      <th>state</th>\n",
       "      <th>month</th>\n",
       "      <th>monthly_pax</th>\n",
       "    </tr>\n",
       "  </thead>\n",
       "  <tbody>\n",
       "    <tr>\n",
       "      <th>0</th>\n",
       "      <td>AK</td>\n",
       "      <td>3.0</td>\n",
       "      <td>138235.631149</td>\n",
       "    </tr>\n",
       "    <tr>\n",
       "      <th>1</th>\n",
       "      <td>AK</td>\n",
       "      <td>4.0</td>\n",
       "      <td>26092.783185</td>\n",
       "    </tr>\n",
       "    <tr>\n",
       "      <th>2</th>\n",
       "      <td>AK</td>\n",
       "      <td>5.0</td>\n",
       "      <td>52663.559269</td>\n",
       "    </tr>\n",
       "    <tr>\n",
       "      <th>3</th>\n",
       "      <td>AK</td>\n",
       "      <td>6.0</td>\n",
       "      <td>110763.657546</td>\n",
       "    </tr>\n",
       "    <tr>\n",
       "      <th>4</th>\n",
       "      <td>AK</td>\n",
       "      <td>7.0</td>\n",
       "      <td>158323.464182</td>\n",
       "    </tr>\n",
       "  </tbody>\n",
       "</table>\n",
       "</div>"
      ],
      "text/plain": [
       "  state  month    monthly_pax\n",
       "0    AK    3.0  138235.631149\n",
       "1    AK    4.0   26092.783185\n",
       "2    AK    5.0   52663.559269\n",
       "3    AK    6.0  110763.657546\n",
       "4    AK    7.0  158323.464182"
      ]
     },
     "execution_count": 16,
     "metadata": {},
     "output_type": "execute_result"
    }
   ],
   "source": [
    "# Find total number of incoming flights for each state\n",
    "flight_dest_state = flight_df.groupby(['dest_state', 'month']).sum().reset_index()\n",
    "flight_dest_state = flight_dest_state.rename(columns={'dest_state':'state'})\n",
    "print(flight_dest_state.shape)\n",
    "flight_dest_state.head()"
   ]
  },
  {
   "cell_type": "code",
   "execution_count": 17,
   "metadata": {},
   "outputs": [
    {
     "data": {
      "text/html": [
       "<div>\n",
       "<style scoped>\n",
       "    .dataframe tbody tr th:only-of-type {\n",
       "        vertical-align: middle;\n",
       "    }\n",
       "\n",
       "    .dataframe tbody tr th {\n",
       "        vertical-align: top;\n",
       "    }\n",
       "\n",
       "    .dataframe thead th {\n",
       "        text-align: right;\n",
       "    }\n",
       "</style>\n",
       "<table border=\"1\" class=\"dataframe\">\n",
       "  <thead>\n",
       "    <tr style=\"text-align: right;\">\n",
       "      <th></th>\n",
       "      <th>state</th>\n",
       "      <th>month</th>\n",
       "      <th>monthly_pax</th>\n",
       "      <th>flight_change</th>\n",
       "    </tr>\n",
       "  </thead>\n",
       "  <tbody>\n",
       "    <tr>\n",
       "      <th>1</th>\n",
       "      <td>AK</td>\n",
       "      <td>4.0</td>\n",
       "      <td>26092.783185</td>\n",
       "      <td>-0.811244</td>\n",
       "    </tr>\n",
       "    <tr>\n",
       "      <th>2</th>\n",
       "      <td>AK</td>\n",
       "      <td>5.0</td>\n",
       "      <td>52663.559269</td>\n",
       "      <td>1.018319</td>\n",
       "    </tr>\n",
       "    <tr>\n",
       "      <th>3</th>\n",
       "      <td>AK</td>\n",
       "      <td>6.0</td>\n",
       "      <td>110763.657546</td>\n",
       "      <td>1.103232</td>\n",
       "    </tr>\n",
       "    <tr>\n",
       "      <th>4</th>\n",
       "      <td>AK</td>\n",
       "      <td>7.0</td>\n",
       "      <td>158323.464182</td>\n",
       "      <td>0.429381</td>\n",
       "    </tr>\n",
       "    <tr>\n",
       "      <th>5</th>\n",
       "      <td>AK</td>\n",
       "      <td>8.0</td>\n",
       "      <td>151104.177926</td>\n",
       "      <td>-0.045598</td>\n",
       "    </tr>\n",
       "  </tbody>\n",
       "</table>\n",
       "</div>"
      ],
      "text/plain": [
       "  state  month    monthly_pax  flight_change\n",
       "1    AK    4.0   26092.783185      -0.811244\n",
       "2    AK    5.0   52663.559269       1.018319\n",
       "3    AK    6.0  110763.657546       1.103232\n",
       "4    AK    7.0  158323.464182       0.429381\n",
       "5    AK    8.0  151104.177926      -0.045598"
      ]
     },
     "execution_count": 17,
     "metadata": {},
     "output_type": "execute_result"
    }
   ],
   "source": [
    "flight_dest_state = flight_dest_state.sort_values(by=['state','month'])\n",
    "flight_dest_state['flight_change'] = flight_dest_state['monthly_pax'].pct_change()\n",
    "flight_dest_state = flight_dest_state[flight_dest_state['month']>=4]\n",
    "flight_dest_state.head()"
   ]
  },
  {
   "cell_type": "code",
   "execution_count": 18,
   "metadata": {},
   "outputs": [
    {
     "name": "stdout",
     "output_type": "stream",
     "text": [
      "(294, 7)\n"
     ]
    },
    {
     "data": {
      "text/html": [
       "<div>\n",
       "<style scoped>\n",
       "    .dataframe tbody tr th:only-of-type {\n",
       "        vertical-align: middle;\n",
       "    }\n",
       "\n",
       "    .dataframe tbody tr th {\n",
       "        vertical-align: top;\n",
       "    }\n",
       "\n",
       "    .dataframe thead th {\n",
       "        text-align: right;\n",
       "    }\n",
       "</style>\n",
       "<table border=\"1\" class=\"dataframe\">\n",
       "  <thead>\n",
       "    <tr style=\"text-align: right;\">\n",
       "      <th></th>\n",
       "      <th>state</th>\n",
       "      <th>month</th>\n",
       "      <th>positiveIncrease</th>\n",
       "      <th>covid_change</th>\n",
       "      <th>per_capita</th>\n",
       "      <th>monthly_pax</th>\n",
       "      <th>flight_change</th>\n",
       "    </tr>\n",
       "  </thead>\n",
       "  <tbody>\n",
       "    <tr>\n",
       "      <th>0</th>\n",
       "      <td>AK</td>\n",
       "      <td>4</td>\n",
       "      <td>104</td>\n",
       "      <td>-0.635088</td>\n",
       "      <td>0.000141</td>\n",
       "      <td>26092.783185</td>\n",
       "      <td>-0.811244</td>\n",
       "    </tr>\n",
       "    <tr>\n",
       "      <th>1</th>\n",
       "      <td>AK</td>\n",
       "      <td>5</td>\n",
       "      <td>276</td>\n",
       "      <td>1.653846</td>\n",
       "      <td>0.000374</td>\n",
       "      <td>52663.559269</td>\n",
       "      <td>1.018319</td>\n",
       "    </tr>\n",
       "    <tr>\n",
       "      <th>2</th>\n",
       "      <td>AK</td>\n",
       "      <td>6</td>\n",
       "      <td>915</td>\n",
       "      <td>2.315217</td>\n",
       "      <td>0.001241</td>\n",
       "      <td>110763.657546</td>\n",
       "      <td>1.103232</td>\n",
       "    </tr>\n",
       "    <tr>\n",
       "      <th>3</th>\n",
       "      <td>AK</td>\n",
       "      <td>7</td>\n",
       "      <td>2498</td>\n",
       "      <td>1.730055</td>\n",
       "      <td>0.003387</td>\n",
       "      <td>158323.464182</td>\n",
       "      <td>0.429381</td>\n",
       "    </tr>\n",
       "    <tr>\n",
       "      <th>4</th>\n",
       "      <td>AK</td>\n",
       "      <td>8</td>\n",
       "      <td>2272</td>\n",
       "      <td>-0.090472</td>\n",
       "      <td>0.003081</td>\n",
       "      <td>151104.177926</td>\n",
       "      <td>-0.045598</td>\n",
       "    </tr>\n",
       "  </tbody>\n",
       "</table>\n",
       "</div>"
      ],
      "text/plain": [
       "  state  month  positiveIncrease  covid_change  per_capita    monthly_pax  \\\n",
       "0    AK      4               104     -0.635088    0.000141   26092.783185   \n",
       "1    AK      5               276      1.653846    0.000374   52663.559269   \n",
       "2    AK      6               915      2.315217    0.001241  110763.657546   \n",
       "3    AK      7              2498      1.730055    0.003387  158323.464182   \n",
       "4    AK      8              2272     -0.090472    0.003081  151104.177926   \n",
       "\n",
       "   flight_change  \n",
       "0      -0.811244  \n",
       "1       1.018319  \n",
       "2       1.103232  \n",
       "3       0.429381  \n",
       "4      -0.045598  "
      ]
     },
     "execution_count": 18,
     "metadata": {},
     "output_type": "execute_result"
    }
   ],
   "source": [
    "# Combine covid and flight data\n",
    "model1_df = covid_df.merge(flight_dest_state, how=\"inner\", on=['state', 'month'])\n",
    "print(model1_df.shape)\n",
    "model1_df.head()"
   ]
  },
  {
   "cell_type": "code",
   "execution_count": 19,
   "metadata": {},
   "outputs": [
    {
     "name": "stdout",
     "output_type": "stream",
     "text": [
      "                            OLS Regression Results                            \n",
      "==============================================================================\n",
      "Dep. Variable:       positiveIncrease   R-squared:                       0.611\n",
      "Model:                            OLS   Adj. R-squared:                  0.610\n",
      "Method:                 Least Squares   F-statistic:                     458.8\n",
      "Date:                Wed, 07 Apr 2021   Prob (F-statistic):           7.79e-62\n",
      "Time:                        11:27:11   Log-Likelihood:                -3379.7\n",
      "No. Observations:                 294   AIC:                             6763.\n",
      "Df Residuals:                     292   BIC:                             6771.\n",
      "Df Model:                           1                                         \n",
      "Covariance Type:            nonrobust                                         \n",
      "===============================================================================\n",
      "                  coef    std err          t      P>|t|      [0.025      0.975]\n",
      "-------------------------------------------------------------------------------\n",
      "const        4895.0449   1663.104      2.943      0.004    1621.854    8168.236\n",
      "monthly_pax     0.0831      0.004     21.420      0.000       0.075       0.091\n",
      "==============================================================================\n",
      "Omnibus:                      131.837   Durbin-Watson:                   1.321\n",
      "Prob(Omnibus):                  0.000   Jarque-Bera (JB):             1139.357\n",
      "Skew:                           1.599   Prob(JB):                    3.91e-248\n",
      "Kurtosis:                      12.098   Cond. No.                     5.12e+05\n",
      "==============================================================================\n",
      "\n",
      "Notes:\n",
      "[1] Standard Errors assume that the covariance matrix of the errors is correctly specified.\n",
      "[2] The condition number is large, 5.12e+05. This might indicate that there are\n",
      "strong multicollinearity or other numerical problems.\n"
     ]
    }
   ],
   "source": [
    "# Fit linear regression model\n",
    "model = sm.OLS(model1_df['positiveIncrease'],sm.add_constant(model1_df['monthly_pax']))\n",
    "# model = sm.OLS(model1_df['covid_change'],sm.add_constant(model1_df['flight_change']))\n",
    "results = model.fit()\n",
    "print(results.summary())"
   ]
  },
  {
   "cell_type": "code",
   "execution_count": 20,
   "metadata": {},
   "outputs": [
    {
     "data": {
      "image/png": "[encoded data removed]",
      "text/plain": [
       "<Figure size 432x288 with 4 Axes>"
      ]
     },
     "metadata": {
      "needs_background": "light"
     },
     "output_type": "display_data"
    }
   ],
   "source": [
    "fig = sm.graphics.plot_regress_exog(results, \"monthly_pax\")\n",
    "fig.tight_layout(pad=1.0)"
   ]
  },
  {
   "cell_type": "code",
   "execution_count": 21,
   "metadata": {},
   "outputs": [
    {
     "data": {
      "image/png": "[encoded data removed]",
      "text/plain": [
       "<Figure size 432x288 with 1 Axes>"
      ]
     },
     "metadata": {
      "needs_background": "light"
     },
     "output_type": "display_data"
    }
   ],
   "source": [
    "from statsmodels.graphics.regressionplots import abline_plot\n",
    "# scatter-plot data\n",
    "ax = model1_df.plot(x='monthly_pax', y='positiveIncrease', kind='scatter')\n",
    "\n",
    "# plot regression line\n",
    "fig = abline_plot(model_results=results, ax=ax)"
   ]
  },
  {
   "cell_type": "code",
   "execution_count": 22,
   "metadata": {},
   "outputs": [
    {
     "data": {
      "text/plain": [
       "const          4895.044918\n",
       "monthly_pax       0.083107\n",
       "dtype: float64"
      ]
     },
     "execution_count": 22,
     "metadata": {},
     "output_type": "execute_result"
    }
   ],
   "source": [
    "results.params"
   ]
  },
  {
   "cell_type": "code",
   "execution_count": 23,
   "metadata": {},
   "outputs": [
    {
     "data": {
      "text/plain": [
       "const          3.507764e-03\n",
       "monthly_pax    7.785749e-62\n",
       "dtype: float64"
      ]
     },
     "execution_count": 23,
     "metadata": {},
     "output_type": "execute_result"
    }
   ],
   "source": [
    "results.pvalues"
   ]
  },
  {
   "cell_type": "markdown",
   "metadata": {},
   "source": [
    "# Hypothesis 2 - Simple Regression of weighted flight monthly_pax against positiveIncrease"
   ]
  },
  {
   "cell_type": "code",
   "execution_count": 24,
   "metadata": {},
   "outputs": [
    {
     "data": {
      "text/html": [
       "<div>\n",
       "<style scoped>\n",
       "    .dataframe tbody tr th:only-of-type {\n",
       "        vertical-align: middle;\n",
       "    }\n",
       "\n",
       "    .dataframe tbody tr th {\n",
       "        vertical-align: top;\n",
       "    }\n",
       "\n",
       "    .dataframe thead th {\n",
       "        text-align: right;\n",
       "    }\n",
       "</style>\n",
       "<table border=\"1\" class=\"dataframe\">\n",
       "  <thead>\n",
       "    <tr style=\"text-align: right;\">\n",
       "      <th></th>\n",
       "      <th>origin_state</th>\n",
       "      <th>dest_state</th>\n",
       "      <th>month</th>\n",
       "      <th>monthly_pax</th>\n",
       "      <th>state</th>\n",
       "      <th>positiveIncrease</th>\n",
       "      <th>covid_change</th>\n",
       "      <th>per_capita</th>\n",
       "      <th>weighted_pax</th>\n",
       "    </tr>\n",
       "  </thead>\n",
       "  <tbody>\n",
       "    <tr>\n",
       "      <th>0</th>\n",
       "      <td>AK</td>\n",
       "      <td>AK</td>\n",
       "      <td>4.0</td>\n",
       "      <td>10187.576905</td>\n",
       "      <td>AK</td>\n",
       "      <td>104.0</td>\n",
       "      <td>-0.635088</td>\n",
       "      <td>0.000141</td>\n",
       "      <td>1.436742</td>\n",
       "    </tr>\n",
       "    <tr>\n",
       "      <th>1</th>\n",
       "      <td>AK</td>\n",
       "      <td>AK</td>\n",
       "      <td>5.0</td>\n",
       "      <td>20472.748260</td>\n",
       "      <td>AK</td>\n",
       "      <td>276.0</td>\n",
       "      <td>1.653846</td>\n",
       "      <td>0.000374</td>\n",
       "      <td>7.662310</td>\n",
       "    </tr>\n",
       "    <tr>\n",
       "      <th>2</th>\n",
       "      <td>AK</td>\n",
       "      <td>AK</td>\n",
       "      <td>6.0</td>\n",
       "      <td>41179.674835</td>\n",
       "      <td>AK</td>\n",
       "      <td>915.0</td>\n",
       "      <td>2.315217</td>\n",
       "      <td>0.001241</td>\n",
       "      <td>51.095011</td>\n",
       "    </tr>\n",
       "    <tr>\n",
       "      <th>3</th>\n",
       "      <td>AK</td>\n",
       "      <td>AK</td>\n",
       "      <td>7.0</td>\n",
       "      <td>52228.927140</td>\n",
       "      <td>AK</td>\n",
       "      <td>2498.0</td>\n",
       "      <td>1.730055</td>\n",
       "      <td>0.003387</td>\n",
       "      <td>176.920446</td>\n",
       "    </tr>\n",
       "    <tr>\n",
       "      <th>4</th>\n",
       "      <td>AK</td>\n",
       "      <td>AK</td>\n",
       "      <td>8.0</td>\n",
       "      <td>50918.481872</td>\n",
       "      <td>AK</td>\n",
       "      <td>2272.0</td>\n",
       "      <td>-0.090472</td>\n",
       "      <td>0.003081</td>\n",
       "      <td>156.876633</td>\n",
       "    </tr>\n",
       "  </tbody>\n",
       "</table>\n",
       "</div>"
      ],
      "text/plain": [
       "  origin_state dest_state  month   monthly_pax state  positiveIncrease  \\\n",
       "0           AK         AK    4.0  10187.576905    AK             104.0   \n",
       "1           AK         AK    5.0  20472.748260    AK             276.0   \n",
       "2           AK         AK    6.0  41179.674835    AK             915.0   \n",
       "3           AK         AK    7.0  52228.927140    AK            2498.0   \n",
       "4           AK         AK    8.0  50918.481872    AK            2272.0   \n",
       "\n",
       "   covid_change  per_capita  weighted_pax  \n",
       "0     -0.635088    0.000141      1.436742  \n",
       "1      1.653846    0.000374      7.662310  \n",
       "2      2.315217    0.001241     51.095011  \n",
       "3      1.730055    0.003387    176.920446  \n",
       "4     -0.090472    0.003081    156.876633  "
      ]
     },
     "execution_count": 24,
     "metadata": {},
     "output_type": "execute_result"
    }
   ],
   "source": [
    "# Multiply monthly_pax with origin_state's per_capita\n",
    "flight_df = flight_df[flight_df['month']>=4]\n",
    "flights_weighted = flight_df.merge(covid_df, how=\"left\", left_on=['origin_state', 'month'], right_on=['state','month'])\n",
    "flights_weighted['weighted_pax'] = flights_weighted['monthly_pax']*flights_weighted['per_capita']\n",
    "flights_weighted.head()"
   ]
  },
  {
   "cell_type": "code",
   "execution_count": 25,
   "metadata": {},
   "outputs": [
    {
     "name": "stdout",
     "output_type": "stream",
     "text": [
      "(312, 3)\n"
     ]
    },
    {
     "data": {
      "text/html": [
       "<div>\n",
       "<style scoped>\n",
       "    .dataframe tbody tr th:only-of-type {\n",
       "        vertical-align: middle;\n",
       "    }\n",
       "\n",
       "    .dataframe tbody tr th {\n",
       "        vertical-align: top;\n",
       "    }\n",
       "\n",
       "    .dataframe thead th {\n",
       "        text-align: right;\n",
       "    }\n",
       "</style>\n",
       "<table border=\"1\" class=\"dataframe\">\n",
       "  <thead>\n",
       "    <tr style=\"text-align: right;\">\n",
       "      <th></th>\n",
       "      <th>state</th>\n",
       "      <th>month</th>\n",
       "      <th>weighted_pax</th>\n",
       "    </tr>\n",
       "  </thead>\n",
       "  <tbody>\n",
       "    <tr>\n",
       "      <th>0</th>\n",
       "      <td>AK</td>\n",
       "      <td>4.0</td>\n",
       "      <td>25.351912</td>\n",
       "    </tr>\n",
       "    <tr>\n",
       "      <th>1</th>\n",
       "      <td>AK</td>\n",
       "      <td>5.0</td>\n",
       "      <td>60.627639</td>\n",
       "    </tr>\n",
       "    <tr>\n",
       "      <th>2</th>\n",
       "      <td>AK</td>\n",
       "      <td>6.0</td>\n",
       "      <td>329.105647</td>\n",
       "    </tr>\n",
       "    <tr>\n",
       "      <th>3</th>\n",
       "      <td>AK</td>\n",
       "      <td>7.0</td>\n",
       "      <td>738.584167</td>\n",
       "    </tr>\n",
       "    <tr>\n",
       "      <th>4</th>\n",
       "      <td>AK</td>\n",
       "      <td>8.0</td>\n",
       "      <td>501.866129</td>\n",
       "    </tr>\n",
       "  </tbody>\n",
       "</table>\n",
       "</div>"
      ],
      "text/plain": [
       "  state  month  weighted_pax\n",
       "0    AK    4.0     25.351912\n",
       "1    AK    5.0     60.627639\n",
       "2    AK    6.0    329.105647\n",
       "3    AK    7.0    738.584167\n",
       "4    AK    8.0    501.866129"
      ]
     },
     "execution_count": 25,
     "metadata": {},
     "output_type": "execute_result"
    }
   ],
   "source": [
    "# Aggregate by dest_state\n",
    "flights_weighted = flights_weighted.groupby(['dest_state', 'month']).sum().reset_index()\n",
    "flights_weighted = flights_weighted.rename(columns={'dest_state':'state'})\n",
    "flights_weighted = flights_weighted[['state','month','weighted_pax']]\n",
    "print(flights_weighted.shape)\n",
    "flights_weighted.head()"
   ]
  },
  {
   "cell_type": "code",
   "execution_count": 26,
   "metadata": {},
   "outputs": [
    {
     "name": "stdout",
     "output_type": "stream",
     "text": [
      "(294, 6)\n"
     ]
    },
    {
     "data": {
      "text/html": [
       "<div>\n",
       "<style scoped>\n",
       "    .dataframe tbody tr th:only-of-type {\n",
       "        vertical-align: middle;\n",
       "    }\n",
       "\n",
       "    .dataframe tbody tr th {\n",
       "        vertical-align: top;\n",
       "    }\n",
       "\n",
       "    .dataframe thead th {\n",
       "        text-align: right;\n",
       "    }\n",
       "</style>\n",
       "<table border=\"1\" class=\"dataframe\">\n",
       "  <thead>\n",
       "    <tr style=\"text-align: right;\">\n",
       "      <th></th>\n",
       "      <th>state</th>\n",
       "      <th>month</th>\n",
       "      <th>positiveIncrease</th>\n",
       "      <th>covid_change</th>\n",
       "      <th>per_capita</th>\n",
       "      <th>weighted_pax</th>\n",
       "    </tr>\n",
       "  </thead>\n",
       "  <tbody>\n",
       "    <tr>\n",
       "      <th>0</th>\n",
       "      <td>AK</td>\n",
       "      <td>4</td>\n",
       "      <td>104</td>\n",
       "      <td>-0.635088</td>\n",
       "      <td>0.000141</td>\n",
       "      <td>25.351912</td>\n",
       "    </tr>\n",
       "    <tr>\n",
       "      <th>1</th>\n",
       "      <td>AK</td>\n",
       "      <td>5</td>\n",
       "      <td>276</td>\n",
       "      <td>1.653846</td>\n",
       "      <td>0.000374</td>\n",
       "      <td>60.627639</td>\n",
       "    </tr>\n",
       "    <tr>\n",
       "      <th>2</th>\n",
       "      <td>AK</td>\n",
       "      <td>6</td>\n",
       "      <td>915</td>\n",
       "      <td>2.315217</td>\n",
       "      <td>0.001241</td>\n",
       "      <td>329.105647</td>\n",
       "    </tr>\n",
       "    <tr>\n",
       "      <th>3</th>\n",
       "      <td>AK</td>\n",
       "      <td>7</td>\n",
       "      <td>2498</td>\n",
       "      <td>1.730055</td>\n",
       "      <td>0.003387</td>\n",
       "      <td>738.584167</td>\n",
       "    </tr>\n",
       "    <tr>\n",
       "      <th>4</th>\n",
       "      <td>AK</td>\n",
       "      <td>8</td>\n",
       "      <td>2272</td>\n",
       "      <td>-0.090472</td>\n",
       "      <td>0.003081</td>\n",
       "      <td>501.866129</td>\n",
       "    </tr>\n",
       "  </tbody>\n",
       "</table>\n",
       "</div>"
      ],
      "text/plain": [
       "  state  month  positiveIncrease  covid_change  per_capita  weighted_pax\n",
       "0    AK      4               104     -0.635088    0.000141     25.351912\n",
       "1    AK      5               276      1.653846    0.000374     60.627639\n",
       "2    AK      6               915      2.315217    0.001241    329.105647\n",
       "3    AK      7              2498      1.730055    0.003387    738.584167\n",
       "4    AK      8              2272     -0.090472    0.003081    501.866129"
      ]
     },
     "execution_count": 26,
     "metadata": {},
     "output_type": "execute_result"
    }
   ],
   "source": [
    "# Combine covid and flight data\n",
    "model2_df = covid_df.merge(flights_weighted, how=\"inner\", on=['state', 'month'])\n",
    "print(model2_df.shape)\n",
    "model2_df.head()"
   ]
  },
  {
   "cell_type": "code",
   "execution_count": 28,
   "metadata": {},
   "outputs": [],
   "source": [
    "# Export for data visualization\n",
    "model2_df.to_csv(\"../Data/viz/analysis.csv\")"
   ]
  },
  {
   "cell_type": "code",
   "execution_count": 29,
   "metadata": {},
   "outputs": [
    {
     "name": "stdout",
     "output_type": "stream",
     "text": [
      "                            OLS Regression Results                            \n",
      "==============================================================================\n",
      "Dep. Variable:       positiveIncrease   R-squared:                       0.618\n",
      "Model:                            OLS   Adj. R-squared:                  0.616\n",
      "Method:                 Least Squares   F-statistic:                     472.0\n",
      "Date:                Wed, 07 Apr 2021   Prob (F-statistic):           6.16e-63\n",
      "Time:                        11:27:33   Log-Likelihood:                -3377.2\n",
      "No. Observations:                 294   AIC:                             6758.\n",
      "Df Residuals:                     292   BIC:                             6766.\n",
      "Df Model:                           1                                         \n",
      "Covariance Type:            nonrobust                                         \n",
      "================================================================================\n",
      "                   coef    std err          t      P>|t|      [0.025      0.975]\n",
      "--------------------------------------------------------------------------------\n",
      "const         5561.5213   1629.539      3.413      0.001    2354.390    8768.653\n",
      "weighted_pax    18.1907      0.837     21.725      0.000      16.543      19.839\n",
      "==============================================================================\n",
      "Omnibus:                      110.423   Durbin-Watson:                   1.125\n",
      "Prob(Omnibus):                  0.000   Jarque-Bera (JB):              731.916\n",
      "Skew:                           1.366   Prob(JB):                    1.17e-159\n",
      "Kurtosis:                      10.231   Cond. No.                     2.30e+03\n",
      "==============================================================================\n",
      "\n",
      "Notes:\n",
      "[1] Standard Errors assume that the covariance matrix of the errors is correctly specified.\n",
      "[2] The condition number is large, 2.3e+03. This might indicate that there are\n",
      "strong multicollinearity or other numerical problems.\n"
     ]
    }
   ],
   "source": [
    "# Fit linear regression model\n",
    "model = sm.OLS(model2_df['positiveIncrease'],sm.add_constant(model2_df['weighted_pax']))\n",
    "results = model.fit()\n",
    "print(results.summary())"
   ]
  },
  {
   "cell_type": "code",
   "execution_count": 30,
   "metadata": {},
   "outputs": [
    {
     "data": {
      "image/png": "[encoded data removed]",
      "text/plain": [
       "<Figure size 432x288 with 4 Axes>"
      ]
     },
     "metadata": {
      "needs_background": "light"
     },
     "output_type": "display_data"
    }
   ],
   "source": [
    "fig = sm.graphics.plot_regress_exog(results, \"weighted_pax\")\n",
    "fig.tight_layout(pad=1.0)"
   ]
  },
  {
   "cell_type": "code",
   "execution_count": 31,
   "metadata": {},
   "outputs": [
    {
     "data": {
      "image/png": "[encoded data removed]",
      "text/plain": [
       "<Figure size 432x288 with 1 Axes>"
      ]
     },
     "metadata": {
      "needs_background": "light"
     },
     "output_type": "display_data"
    }
   ],
   "source": [
    "from statsmodels.graphics.regressionplots import abline_plot\n",
    "# scatter-plot data\n",
    "ax = model2_df.plot(x='weighted_pax', y='positiveIncrease', kind='scatter')\n",
    "\n",
    "# plot regression line\n",
    "fig = abline_plot(model_results=results, ax=ax)"
   ]
  },
  {
   "cell_type": "code",
   "execution_count": 32,
   "metadata": {
    "scrolled": true
   },
   "outputs": [
    {
     "data": {
      "text/plain": [
       "const           5561.521315\n",
       "weighted_pax      18.190695\n",
       "dtype: float64"
      ]
     },
     "execution_count": 32,
     "metadata": {},
     "output_type": "execute_result"
    }
   ],
   "source": [
    "results.params"
   ]
  },
  {
   "cell_type": "code",
   "execution_count": 33,
   "metadata": {},
   "outputs": [
    {
     "data": {
      "text/plain": [
       "const           7.335090e-04\n",
       "weighted_pax    6.155581e-63\n",
       "dtype: float64"
      ]
     },
     "execution_count": 33,
     "metadata": {},
     "output_type": "execute_result"
    }
   ],
   "source": [
    "results.pvalues"
   ]
  },
  {
   "cell_type": "markdown",
   "metadata": {},
   "source": [
    "# Hypothesis 3 - Adding in Controls"
   ]
  },
  {
   "cell_type": "markdown",
   "metadata": {},
   "source": [
    "### monthly_pax"
   ]
  },
  {
   "cell_type": "code",
   "execution_count": 34,
   "metadata": {},
   "outputs": [
    {
     "name": "stdout",
     "output_type": "stream",
     "text": [
      "(294, 11)\n"
     ]
    },
    {
     "data": {
      "text/html": [
       "<div>\n",
       "<style scoped>\n",
       "    .dataframe tbody tr th:only-of-type {\n",
       "        vertical-align: middle;\n",
       "    }\n",
       "\n",
       "    .dataframe tbody tr th {\n",
       "        vertical-align: top;\n",
       "    }\n",
       "\n",
       "    .dataframe thead th {\n",
       "        text-align: right;\n",
       "    }\n",
       "</style>\n",
       "<table border=\"1\" class=\"dataframe\">\n",
       "  <thead>\n",
       "    <tr style=\"text-align: right;\">\n",
       "      <th></th>\n",
       "      <th>state</th>\n",
       "      <th>month</th>\n",
       "      <th>positiveIncrease</th>\n",
       "      <th>covid_change</th>\n",
       "      <th>per_capita</th>\n",
       "      <th>monthly_pax</th>\n",
       "      <th>flight_change</th>\n",
       "      <th>stay_at_home</th>\n",
       "      <th>business_closure</th>\n",
       "      <th>facemask_mandate</th>\n",
       "      <th>quarantine_mandate</th>\n",
       "    </tr>\n",
       "  </thead>\n",
       "  <tbody>\n",
       "    <tr>\n",
       "      <th>0</th>\n",
       "      <td>AK</td>\n",
       "      <td>4</td>\n",
       "      <td>104</td>\n",
       "      <td>-0.635088</td>\n",
       "      <td>0.000141</td>\n",
       "      <td>26092.783185</td>\n",
       "      <td>-0.811244</td>\n",
       "      <td>1</td>\n",
       "      <td>1</td>\n",
       "      <td>1</td>\n",
       "      <td>1</td>\n",
       "    </tr>\n",
       "    <tr>\n",
       "      <th>1</th>\n",
       "      <td>AK</td>\n",
       "      <td>5</td>\n",
       "      <td>276</td>\n",
       "      <td>1.653846</td>\n",
       "      <td>0.000374</td>\n",
       "      <td>52663.559269</td>\n",
       "      <td>1.018319</td>\n",
       "      <td>0</td>\n",
       "      <td>0</td>\n",
       "      <td>1</td>\n",
       "      <td>1</td>\n",
       "    </tr>\n",
       "    <tr>\n",
       "      <th>2</th>\n",
       "      <td>AK</td>\n",
       "      <td>6</td>\n",
       "      <td>915</td>\n",
       "      <td>2.315217</td>\n",
       "      <td>0.001241</td>\n",
       "      <td>110763.657546</td>\n",
       "      <td>1.103232</td>\n",
       "      <td>0</td>\n",
       "      <td>0</td>\n",
       "      <td>0</td>\n",
       "      <td>1</td>\n",
       "    </tr>\n",
       "    <tr>\n",
       "      <th>3</th>\n",
       "      <td>AK</td>\n",
       "      <td>7</td>\n",
       "      <td>2498</td>\n",
       "      <td>1.730055</td>\n",
       "      <td>0.003387</td>\n",
       "      <td>158323.464182</td>\n",
       "      <td>0.429381</td>\n",
       "      <td>0</td>\n",
       "      <td>0</td>\n",
       "      <td>0</td>\n",
       "      <td>1</td>\n",
       "    </tr>\n",
       "    <tr>\n",
       "      <th>4</th>\n",
       "      <td>AK</td>\n",
       "      <td>8</td>\n",
       "      <td>2272</td>\n",
       "      <td>-0.090472</td>\n",
       "      <td>0.003081</td>\n",
       "      <td>151104.177926</td>\n",
       "      <td>-0.045598</td>\n",
       "      <td>0</td>\n",
       "      <td>0</td>\n",
       "      <td>0</td>\n",
       "      <td>1</td>\n",
       "    </tr>\n",
       "  </tbody>\n",
       "</table>\n",
       "</div>"
      ],
      "text/plain": [
       "  state  month  positiveIncrease  covid_change  per_capita    monthly_pax  \\\n",
       "0    AK      4               104     -0.635088    0.000141   26092.783185   \n",
       "1    AK      5               276      1.653846    0.000374   52663.559269   \n",
       "2    AK      6               915      2.315217    0.001241  110763.657546   \n",
       "3    AK      7              2498      1.730055    0.003387  158323.464182   \n",
       "4    AK      8              2272     -0.090472    0.003081  151104.177926   \n",
       "\n",
       "   flight_change  stay_at_home  business_closure  facemask_mandate  \\\n",
       "0      -0.811244             1                 1                 1   \n",
       "1       1.018319             0                 0                 1   \n",
       "2       1.103232             0                 0                 0   \n",
       "3       0.429381             0                 0                 0   \n",
       "4      -0.045598             0                 0                 0   \n",
       "\n",
       "   quarantine_mandate  \n",
       "0                   1  \n",
       "1                   1  \n",
       "2                   1  \n",
       "3                   1  \n",
       "4                   1  "
      ]
     },
     "execution_count": 34,
     "metadata": {},
     "output_type": "execute_result"
    }
   ],
   "source": [
    "# Merge with policy table\n",
    "monthly_control = model1_df.merge(policy_df, how=\"inner\", on=['state', 'month'])\n",
    "print(monthly_control.shape)\n",
    "monthly_control.head()"
   ]
  },
  {
   "cell_type": "code",
   "execution_count": 35,
   "metadata": {},
   "outputs": [
    {
     "name": "stdout",
     "output_type": "stream",
     "text": [
      "                            OLS Regression Results                            \n",
      "==============================================================================\n",
      "Dep. Variable:       positiveIncrease   R-squared:                       0.623\n",
      "Model:                            OLS   Adj. R-squared:                  0.616\n",
      "Method:                 Least Squares   F-statistic:                     95.06\n",
      "Date:                Wed, 07 Apr 2021   Prob (F-statistic):           7.21e-59\n",
      "Time:                        11:27:37   Log-Likelihood:                -3375.3\n",
      "No. Observations:                 294   AIC:                             6763.\n",
      "Df Residuals:                     288   BIC:                             6785.\n",
      "Df Model:                           5                                         \n",
      "Covariance Type:            nonrobust                                         \n",
      "======================================================================================\n",
      "                         coef    std err          t      P>|t|      [0.025      0.975]\n",
      "--------------------------------------------------------------------------------------\n",
      "const               5569.4058   2566.194      2.170      0.031     518.533    1.06e+04\n",
      "monthly_pax            0.0830      0.004     20.036      0.000       0.075       0.091\n",
      "stay_at_home        5142.2411   4194.914      1.226      0.221   -3114.337    1.34e+04\n",
      "business_closure     253.9856   4444.265      0.057      0.954   -8493.373    9001.344\n",
      "facemask_mandate   -2590.9121   2986.182     -0.868      0.386   -8468.420    3286.596\n",
      "quarantine_mandate -7381.7775   3854.465     -1.915      0.056    -1.5e+04     204.716\n",
      "==============================================================================\n",
      "Omnibus:                      132.570   Durbin-Watson:                   1.347\n",
      "Prob(Omnibus):                  0.000   Jarque-Bera (JB):             1210.037\n",
      "Skew:                           1.590   Prob(JB):                    1.75e-263\n",
      "Kurtosis:                      12.416   Cond. No.                     1.78e+06\n",
      "==============================================================================\n",
      "\n",
      "Notes:\n",
      "[1] Standard Errors assume that the covariance matrix of the errors is correctly specified.\n",
      "[2] The condition number is large, 1.78e+06. This might indicate that there are\n",
      "strong multicollinearity or other numerical problems.\n"
     ]
    }
   ],
   "source": [
    "# Fit linear regression model\n",
    "variables= ['monthly_pax','stay_at_home','business_closure','facemask_mandate','quarantine_mandate']\n",
    "model = sm.OLS(monthly_control['positiveIncrease'],sm.add_constant(monthly_control[variables]))\n",
    "results = model.fit()\n",
    "print(results.summary())"
   ]
  },
  {
   "cell_type": "code",
   "execution_count": 36,
   "metadata": {},
   "outputs": [
    {
     "data": {
      "text/plain": [
       "const                 5569.405756\n",
       "monthly_pax              0.082998\n",
       "stay_at_home          5142.241107\n",
       "business_closure       253.985592\n",
       "facemask_mandate     -2590.912068\n",
       "quarantine_mandate   -7381.777483\n",
       "dtype: float64"
      ]
     },
     "execution_count": 36,
     "metadata": {},
     "output_type": "execute_result"
    }
   ],
   "source": [
    "results.params"
   ]
  },
  {
   "cell_type": "code",
   "execution_count": 37,
   "metadata": {},
   "outputs": [
    {
     "data": {
      "text/plain": [
       "const                 3.080139e-02\n",
       "monthly_pax           1.569867e-56\n",
       "stay_at_home          2.212651e-01\n",
       "business_closure      9.544661e-01\n",
       "facemask_mandate      3.863172e-01\n",
       "quarantine_mandate    5.646706e-02\n",
       "dtype: float64"
      ]
     },
     "execution_count": 37,
     "metadata": {},
     "output_type": "execute_result"
    }
   ],
   "source": [
    "results.pvalues"
   ]
  },
  {
   "cell_type": "markdown",
   "metadata": {},
   "source": [
    "### weighted_pax"
   ]
  },
  {
   "cell_type": "code",
   "execution_count": 38,
   "metadata": {},
   "outputs": [
    {
     "name": "stdout",
     "output_type": "stream",
     "text": [
      "(294, 10)\n"
     ]
    },
    {
     "data": {
      "text/html": [
       "<div>\n",
       "<style scoped>\n",
       "    .dataframe tbody tr th:only-of-type {\n",
       "        vertical-align: middle;\n",
       "    }\n",
       "\n",
       "    .dataframe tbody tr th {\n",
       "        vertical-align: top;\n",
       "    }\n",
       "\n",
       "    .dataframe thead th {\n",
       "        text-align: right;\n",
       "    }\n",
       "</style>\n",
       "<table border=\"1\" class=\"dataframe\">\n",
       "  <thead>\n",
       "    <tr style=\"text-align: right;\">\n",
       "      <th></th>\n",
       "      <th>state</th>\n",
       "      <th>month</th>\n",
       "      <th>positiveIncrease</th>\n",
       "      <th>covid_change</th>\n",
       "      <th>per_capita</th>\n",
       "      <th>weighted_pax</th>\n",
       "      <th>stay_at_home</th>\n",
       "      <th>business_closure</th>\n",
       "      <th>facemask_mandate</th>\n",
       "      <th>quarantine_mandate</th>\n",
       "    </tr>\n",
       "  </thead>\n",
       "  <tbody>\n",
       "    <tr>\n",
       "      <th>0</th>\n",
       "      <td>AK</td>\n",
       "      <td>4</td>\n",
       "      <td>104</td>\n",
       "      <td>-0.635088</td>\n",
       "      <td>0.000141</td>\n",
       "      <td>25.351912</td>\n",
       "      <td>1</td>\n",
       "      <td>1</td>\n",
       "      <td>1</td>\n",
       "      <td>1</td>\n",
       "    </tr>\n",
       "    <tr>\n",
       "      <th>1</th>\n",
       "      <td>AK</td>\n",
       "      <td>5</td>\n",
       "      <td>276</td>\n",
       "      <td>1.653846</td>\n",
       "      <td>0.000374</td>\n",
       "      <td>60.627639</td>\n",
       "      <td>0</td>\n",
       "      <td>0</td>\n",
       "      <td>1</td>\n",
       "      <td>1</td>\n",
       "    </tr>\n",
       "    <tr>\n",
       "      <th>2</th>\n",
       "      <td>AK</td>\n",
       "      <td>6</td>\n",
       "      <td>915</td>\n",
       "      <td>2.315217</td>\n",
       "      <td>0.001241</td>\n",
       "      <td>329.105647</td>\n",
       "      <td>0</td>\n",
       "      <td>0</td>\n",
       "      <td>0</td>\n",
       "      <td>1</td>\n",
       "    </tr>\n",
       "    <tr>\n",
       "      <th>3</th>\n",
       "      <td>AK</td>\n",
       "      <td>7</td>\n",
       "      <td>2498</td>\n",
       "      <td>1.730055</td>\n",
       "      <td>0.003387</td>\n",
       "      <td>738.584167</td>\n",
       "      <td>0</td>\n",
       "      <td>0</td>\n",
       "      <td>0</td>\n",
       "      <td>1</td>\n",
       "    </tr>\n",
       "    <tr>\n",
       "      <th>4</th>\n",
       "      <td>AK</td>\n",
       "      <td>8</td>\n",
       "      <td>2272</td>\n",
       "      <td>-0.090472</td>\n",
       "      <td>0.003081</td>\n",
       "      <td>501.866129</td>\n",
       "      <td>0</td>\n",
       "      <td>0</td>\n",
       "      <td>0</td>\n",
       "      <td>1</td>\n",
       "    </tr>\n",
       "  </tbody>\n",
       "</table>\n",
       "</div>"
      ],
      "text/plain": [
       "  state  month  positiveIncrease  covid_change  per_capita  weighted_pax  \\\n",
       "0    AK      4               104     -0.635088    0.000141     25.351912   \n",
       "1    AK      5               276      1.653846    0.000374     60.627639   \n",
       "2    AK      6               915      2.315217    0.001241    329.105647   \n",
       "3    AK      7              2498      1.730055    0.003387    738.584167   \n",
       "4    AK      8              2272     -0.090472    0.003081    501.866129   \n",
       "\n",
       "   stay_at_home  business_closure  facemask_mandate  quarantine_mandate  \n",
       "0             1                 1                 1                   1  \n",
       "1             0                 0                 1                   1  \n",
       "2             0                 0                 0                   1  \n",
       "3             0                 0                 0                   1  \n",
       "4             0                 0                 0                   1  "
      ]
     },
     "execution_count": 38,
     "metadata": {},
     "output_type": "execute_result"
    }
   ],
   "source": [
    "# Merge with policy table\n",
    "weighted_control = model2_df.merge(policy_df, how=\"inner\", on=['state', 'month'])\n",
    "print(weighted_control.shape)\n",
    "weighted_control.head()"
   ]
  },
  {
   "cell_type": "code",
   "execution_count": 39,
   "metadata": {},
   "outputs": [
    {
     "name": "stdout",
     "output_type": "stream",
     "text": [
      "                            OLS Regression Results                            \n",
      "==============================================================================\n",
      "Dep. Variable:       positiveIncrease   R-squared:                       0.642\n",
      "Model:                            OLS   Adj. R-squared:                  0.635\n",
      "Method:                 Least Squares   F-statistic:                     103.1\n",
      "Date:                Wed, 07 Apr 2021   Prob (F-statistic):           4.73e-62\n",
      "Time:                        11:27:38   Log-Likelihood:                -3367.7\n",
      "No. Observations:                 294   AIC:                             6747.\n",
      "Df Residuals:                     288   BIC:                             6770.\n",
      "Df Model:                           5                                         \n",
      "Covariance Type:            nonrobust                                         \n",
      "======================================================================================\n",
      "                         coef    std err          t      P>|t|      [0.025      0.975]\n",
      "--------------------------------------------------------------------------------------\n",
      "const               5121.2807   2502.506      2.046      0.042     195.760       1e+04\n",
      "weighted_pax          18.8761      0.902     20.921      0.000      17.100      20.652\n",
      "stay_at_home        6476.3124   4083.514      1.586      0.114   -1561.003    1.45e+04\n",
      "business_closure    3325.6155   4361.026      0.763      0.446   -5257.910    1.19e+04\n",
      "facemask_mandate   -5350.1787   2932.059     -1.825      0.069   -1.11e+04     420.804\n",
      "quarantine_mandate -6235.7784   3766.411     -1.656      0.099   -1.36e+04    1177.404\n",
      "==============================================================================\n",
      "Omnibus:                      106.910   Durbin-Watson:                   1.184\n",
      "Prob(Omnibus):                  0.000   Jarque-Bera (JB):              733.499\n",
      "Skew:                           1.301   Prob(JB):                    5.28e-160\n",
      "Kurtosis:                      10.288   Cond. No.                     8.08e+03\n",
      "==============================================================================\n",
      "\n",
      "Notes:\n",
      "[1] Standard Errors assume that the covariance matrix of the errors is correctly specified.\n",
      "[2] The condition number is large, 8.08e+03. This might indicate that there are\n",
      "strong multicollinearity or other numerical problems.\n"
     ]
    }
   ],
   "source": [
    "# Fit linear regression model\n",
    "variables= ['weighted_pax','stay_at_home','business_closure','facemask_mandate','quarantine_mandate']\n",
    "model = sm.OLS(weighted_control['positiveIncrease'],sm.add_constant(weighted_control[variables]))\n",
    "results = model.fit()\n",
    "print(results.summary())"
   ]
  },
  {
   "cell_type": "code",
   "execution_count": 40,
   "metadata": {},
   "outputs": [
    {
     "data": {
      "text/plain": [
       "const                 5121.280687\n",
       "weighted_pax            18.876066\n",
       "stay_at_home          6476.312352\n",
       "business_closure      3325.615469\n",
       "facemask_mandate     -5350.178716\n",
       "quarantine_mandate   -6235.778420\n",
       "dtype: float64"
      ]
     },
     "execution_count": 40,
     "metadata": {},
     "output_type": "execute_result"
    }
   ],
   "source": [
    "results.params"
   ]
  },
  {
   "cell_type": "code",
   "execution_count": 41,
   "metadata": {},
   "outputs": [
    {
     "data": {
      "text/plain": [
       "const                 4.161878e-02\n",
       "weighted_pax          9.689724e-60\n",
       "stay_at_home          1.138444e-01\n",
       "business_closure      4.463402e-01\n",
       "facemask_mandate      6.907961e-02\n",
       "quarantine_mandate    9.888619e-02\n",
       "dtype: float64"
      ]
     },
     "execution_count": 41,
     "metadata": {},
     "output_type": "execute_result"
    }
   ],
   "source": [
    "results.pvalues"
   ]
  }
 ],
 "metadata": {
  "kernelspec": {
   "display_name": "Python 3",
   "language": "python",
   "name": "python3"
  },
  "language_info": {
   "codemirror_mode": {
    "name": "ipython",
    "version": 3
   },
   "file_extension": ".py",
   "mimetype": "text/x-python",
   "name": "python",
   "nbconvert_exporter": "python",
   "pygments_lexer": "ipython3",
   "version": "3.8.5"
  }
 },
 "nbformat": 4,
 "nbformat_minor": 4
}
