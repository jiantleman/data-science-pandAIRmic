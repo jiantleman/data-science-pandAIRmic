{
 "cells": [
  {
   "cell_type": "code",
   "execution_count": 1,
   "id": "ambient-listing",
   "metadata": {},
   "outputs": [],
   "source": [
    "import plotly.express as px\n",
    "import pandas as pd\n",
    "import plotly.graph_objects as go\n",
    "import plotly.subplots as ps\n",
    "import numpy as np\n",
    "import calendar"
   ]
  },
  {
   "cell_type": "code",
   "execution_count": 2,
   "id": "excited-means",
   "metadata": {},
   "outputs": [],
   "source": [
    "df_import = pd.read_csv('../Data/viz/analysis.csv')"
   ]
  },
  {
   "cell_type": "code",
   "execution_count": 3,
   "id": "immune-criticism",
   "metadata": {},
   "outputs": [
    {
     "output_type": "execute_result",
     "data": {
      "text/plain": [
       "   Unnamed: 0 state  month  positiveIncrease  covid_change  population  \\\n",
       "0           0    AK      4               104     -0.635088      737438   \n",
       "1           1    AK      5               276      1.653846      737438   \n",
       "2           2    AK      6               915      2.315217      737438   \n",
       "3           3    AK      7              2498      1.730055      737438   \n",
       "4           4    AK      8              2272     -0.090472      737438   \n",
       "\n",
       "   covid_percap  weighted_pax  weighted_percap  \n",
       "0      0.000141     25.351912         0.000034  \n",
       "1      0.000374     60.627639         0.000082  \n",
       "2      0.001241    329.105647         0.000446  \n",
       "3      0.003387    738.584167         0.001002  \n",
       "4      0.003081    501.866129         0.000681  "
      ],
      "text/html": "<div>\n<style scoped>\n    .dataframe tbody tr th:only-of-type {\n        vertical-align: middle;\n    }\n\n    .dataframe tbody tr th {\n        vertical-align: top;\n    }\n\n    .dataframe thead th {\n        text-align: right;\n    }\n</style>\n<table border=\"1\" class=\"dataframe\">\n  <thead>\n    <tr style=\"text-align: right;\">\n      <th></th>\n      <th>Unnamed: 0</th>\n      <th>state</th>\n      <th>month</th>\n      <th>positiveIncrease</th>\n      <th>covid_change</th>\n      <th>population</th>\n      <th>covid_percap</th>\n      <th>weighted_pax</th>\n      <th>weighted_percap</th>\n    </tr>\n  </thead>\n  <tbody>\n    <tr>\n      <th>0</th>\n      <td>0</td>\n      <td>AK</td>\n      <td>4</td>\n      <td>104</td>\n      <td>-0.635088</td>\n      <td>737438</td>\n      <td>0.000141</td>\n      <td>25.351912</td>\n      <td>0.000034</td>\n    </tr>\n    <tr>\n      <th>1</th>\n      <td>1</td>\n      <td>AK</td>\n      <td>5</td>\n      <td>276</td>\n      <td>1.653846</td>\n      <td>737438</td>\n      <td>0.000374</td>\n      <td>60.627639</td>\n      <td>0.000082</td>\n    </tr>\n    <tr>\n      <th>2</th>\n      <td>2</td>\n      <td>AK</td>\n      <td>6</td>\n      <td>915</td>\n      <td>2.315217</td>\n      <td>737438</td>\n      <td>0.001241</td>\n      <td>329.105647</td>\n      <td>0.000446</td>\n    </tr>\n    <tr>\n      <th>3</th>\n      <td>3</td>\n      <td>AK</td>\n      <td>7</td>\n      <td>2498</td>\n      <td>1.730055</td>\n      <td>737438</td>\n      <td>0.003387</td>\n      <td>738.584167</td>\n      <td>0.001002</td>\n    </tr>\n    <tr>\n      <th>4</th>\n      <td>4</td>\n      <td>AK</td>\n      <td>8</td>\n      <td>2272</td>\n      <td>-0.090472</td>\n      <td>737438</td>\n      <td>0.003081</td>\n      <td>501.866129</td>\n      <td>0.000681</td>\n    </tr>\n  </tbody>\n</table>\n</div>"
     },
     "metadata": {},
     "execution_count": 3
    }
   ],
   "source": [
    "df_import.head()"
   ]
  },
  {
   "cell_type": "code",
   "execution_count": 4,
   "id": "north-reserve",
   "metadata": {},
   "outputs": [],
   "source": [
    "def draw_map(dest_state, month):\n",
    "    july_cases = cases[cases['month'] == month]\n",
    "    july_flights = flights[(flights['month'] == month) & (flights['dest_state'] == dest_state)]\n",
    "    \n",
    "    fig = px.choropleth(locations =july_cases['state'].tolist(), color_continuous_scale=\"Magma\", locationmode=\"USA-states\",color=(july_cases['per_capita']*100000).tolist(), scope=\"usa\")\n",
    "\n",
    "#     for index,i in enumerate(july_flights.iterrows()):\n",
    "#         fig.add_trace(go.Scattergeo(hovertext = july_flights.iloc[index]['monthly_pax'],locationmode = \"USA-states\",locations = [july_flights.iloc[index]['origin_state'],dest_state],mode='lines',line = dict(width = (10*july_flights.iloc[index]['monthly_pax'] / july_flights['monthly_pax'].max()),color = \"cyan\")))\n",
    "\n",
    "#     fig.update_layout(showlegend = False)\n",
    "    # fig = fig.add_trace(go.Scattergeo(locationmode = \"USA-states\",locations =july_cases['state'].tolist()))\n",
    "    return fig"
   ]
  },
  {
   "cell_type": "code",
   "execution_count": 5,
   "id": "neural-margin",
   "metadata": {},
   "outputs": [],
   "source": [
    "def draw_map_2(dest_state, month):\n",
    "#     july_cases = merged[merged['month'] == month]\n",
    "    july_flights = mergedd[mergedd['month'] == month]\n",
    "    \n",
    "    fig = px.choropleth(locations =july_flights['dest_state'].tolist(), color_continuous_scale=\"Magma\", locationmode=\"USA-states\",color=(july_flights['weighted_pax']).tolist(), scope=\"usa\")\n",
    "\n",
    "#     for index,i in enumerate(july_flights.iterrows()):\n",
    "#         fig.add_trace(go.Scattergeo(hovertext = july_flights.iloc[index]['monthly_pax'],locationmode = \"USA-states\",locations = [july_flights.iloc[index]['origin_state'],dest_state],mode='lines',line = dict(width = (10*july_flights.iloc[index]['monthly_pax'] / july_flights['monthly_pax'].max()),color = \"cyan\")))\n",
    "\n",
    "    fig.update_layout(showlegend = False)\n",
    "    # fig = fig.add_trace(go.Scattergeo(locationmode = \"USA-states\",locations =july_cases['state'].tolist()))\n",
    "    return fig"
   ]
  },
  {
   "cell_type": "code",
   "execution_count": 57,
   "id": "systematic-swedish",
   "metadata": {},
   "outputs": [],
   "source": [
    "def draw_map_3(month):\n",
    "    df = df_import[df_import['month'] == month]\n",
    "    \n",
    "#     df['weighted_pax_norm'] = ((df['weighted_pax'] / df['weighted_pax'].max()))*50\n",
    "    scale = (2 *  df['weighted_pax'].max()) / (10 ** 2)\n",
    "    \n",
    "    fig = px.choropleth(locations =df['state'].tolist(), color_continuous_scale=\"sunset\", locationmode=\"USA-states\",color=(df['covid_percap']*100000).tolist(), scope=\"usa\",title=calendar.month_name[month],range_color=[0,1200],labels={'color':'Cases per 100k'})\n",
    "    fig.add_trace(go.Scattergeo(locationmode = \"USA-states\",locations = df['state'],text ='🛪',textfont = dict(size = np.ceil(60*df['weighted_percap']/df['weighted_percap'].max()),color=\"#6593f5\"),mode=\"text\"))\n",
    "    \n",
    "    \n",
    "    \n",
    "    fig.update_layout(title_x=0.45,title_y=0.9,title_font_size=30,legend_title_text=\"Weighted Passenger Arrivals\",legend_x = 0,margin=dict(l=0,r=0,b=0,t=25))\n",
    "\n",
    "#     for index,i in enumerate(july_flights.iterrows()):\n",
    "#         fig.add_trace(go.Scattergeo(hovertext = july_flights.iloc[index]['monthly_pax'],locationmode = \"USA-states\",locations = [july_flights.iloc[index]['origin_state'],dest_state],mode='lines',line = dict(width = (10*july_flights.iloc[index]['monthly_pax'] / july_flights['monthly_pax'].max()),color = \"cyan\")))\n",
    "\n",
    "#     fig.update_layout(showlegend = False)\n",
    "    # fig = fig.add_trace(go.Scattergeo(locationmode = \"USA-states\",locations =july_cases['state'].tolist()))\n",
    "    return fig"
   ]
  },
  {
   "cell_type": "code",
   "execution_count": 63,
   "id": "corresponding-quebec",
   "metadata": {},
   "outputs": [
    {
     "output_type": "display_data",
     "data": {
      "application/vnd.plotly.v1+json": {
       "config": {
        "plotlyServerURL": "https://plot.ly"
       },
       "data": [
        {
         "coloraxis": "coloraxis",
         "geo": "geo",
         "hovertemplate": "locations=%{location}<br>Cases per 100k=%{z}<extra></extra>",
         "locationmode": "USA-states",
         "locations": [
          "AK",
          "AL",
          "AR",
          "AZ",
          "CA",
          "CO",
          "CT",
          "FL",
          "GA",
          "HI",
          "IA",
          "ID",
          "IL",
          "IN",
          "KS",
          "KY",
          "LA",
          "MA",
          "MD",
          "ME",
          "MI",
          "MN",
          "MO",
          "MS",
          "MT",
          "NC",
          "ND",
          "NE",
          "NH",
          "NJ",
          "NM",
          "NV",
          "NY",
          "OH",
          "OK",
          "OR",
          "PA",
          "RI",
          "SC",
          "SD",
          "TN",
          "TX",
          "UT",
          "VA",
          "VT",
          "WA",
          "WI",
          "WV",
          "WY"
         ],
         "name": "",
         "type": "choropleth",
         "z": [
          523.9762529188799,
          583.4442030078101,
          816.86892901877,
          263.67726460564,
          245.95871607699002,
          334.96243743376,
          194.98049775167001,
          348.34906740002,
          373.25056621171,
          206.90029011094998,
          776.5169217510601,
          796.2567722869801,
          516.47113117569,
          489.08542564583,
          661.37616112629,
          575.84344470349,
          371.82578973548,
          230.53689510324,
          269.28279625162,
          68.21557616384,
          301.80328664259,
          552.3616338028,
          727.99068694245,
          562.49225690014,
          1045.18005657508,
          487.55636280988,
          1713.6421704642999,
          788.27824853778,
          120.53450973048001,
          243.55336239913998,
          355.44051143728,
          444.89967018104,
          168.82431254317,
          300.96389545369,
          821.49000818903,
          201.46929651349998,
          240.95303684061,
          381.53246667265,
          533.60193401935,
          1520.4565676945401,
          683.36678970932,
          493.61983524055,
          965.64334307148,
          317.44540916927,
          31.77396099945,
          209.77783958816,
          1231.3436430089,
          332.14606895879,
          655.14239178034
         ]
        },
        {
         "locationmode": "USA-states",
         "locations": [
          "AK",
          "AL",
          "AR",
          "AZ",
          "CA",
          "CO",
          "CT",
          "FL",
          "GA",
          "HI",
          "IA",
          "ID",
          "IL",
          "IN",
          "KS",
          "KY",
          "LA",
          "MA",
          "MD",
          "ME",
          "MI",
          "MN",
          "MO",
          "MS",
          "MT",
          "NC",
          "ND",
          "NE",
          "NH",
          "NJ",
          "NM",
          "NV",
          "NY",
          "OH",
          "OK",
          "OR",
          "PA",
          "RI",
          "SC",
          "SD",
          "TN",
          "TX",
          "UT",
          "VA",
          "VT",
          "WA",
          "WI",
          "WV",
          "WY"
         ],
         "mode": "text",
         "text": "🛪",
         "textfont": {
          "color": "#6593f5",
          "size": [
           46,
           5,
           6,
           22,
           13,
           40,
           4,
           22,
           15,
           9,
           5,
           13,
           13,
           6,
           3,
           11,
           11,
           9,
           11,
           9,
           10,
           13,
           13,
           3,
           29,
           12,
           13,
           11,
           5,
           9,
           8,
           60,
           6,
           6,
           8,
           17,
           9,
           9,
           9,
           12,
           14,
           14,
           21,
           13,
           5,
           17,
           6,
           2,
           19
          ]
         },
         "type": "scattergeo"
        }
       ],
       "layout": {
        "coloraxis": {
         "cmax": 1200,
         "cmin": 0,
         "colorbar": {
          "title": {
           "text": "Cases per 100k"
          }
         },
         "colorscale": [
          [
           0,
           "rgb(243, 231, 155)"
          ],
          [
           0.16666666666666666,
           "rgb(250, 196, 132)"
          ],
          [
           0.3333333333333333,
           "rgb(248, 160, 126)"
          ],
          [
           0.5,
           "rgb(235, 127, 134)"
          ],
          [
           0.6666666666666666,
           "rgb(206, 102, 147)"
          ],
          [
           0.8333333333333334,
           "rgb(160, 89, 160)"
          ],
          [
           1,
           "rgb(92, 83, 165)"
          ]
         ]
        },
        "geo": {
         "center": {},
         "domain": {
          "x": [
           0,
           1
          ],
          "y": [
           0,
           1
          ]
         },
         "scope": "usa"
        },
        "legend": {
         "title": {
          "text": "Weighted Passenger Arrivals"
         },
         "tracegroupgap": 0,
         "x": 0
        },
        "margin": {
         "b": 0,
         "l": 0,
         "r": 0,
         "t": 25
        },
        "template": {
         "data": {
          "bar": [
           {
            "error_x": {
             "color": "#2a3f5f"
            },
            "error_y": {
             "color": "#2a3f5f"
            },
            "marker": {
             "line": {
              "color": "#E5ECF6",
              "width": 0.5
             }
            },
            "type": "bar"
           }
          ],
          "barpolar": [
           {
            "marker": {
             "line": {
              "color": "#E5ECF6",
              "width": 0.5
             }
            },
            "type": "barpolar"
           }
          ],
          "carpet": [
           {
            "aaxis": {
             "endlinecolor": "#2a3f5f",
             "gridcolor": "white",
             "linecolor": "white",
             "minorgridcolor": "white",
             "startlinecolor": "#2a3f5f"
            },
            "baxis": {
             "endlinecolor": "#2a3f5f",
             "gridcolor": "white",
             "linecolor": "white",
             "minorgridcolor": "white",
             "startlinecolor": "#2a3f5f"
            },
            "type": "carpet"
           }
          ],
          "choropleth": [
           {
            "colorbar": {
             "outlinewidth": 0,
             "ticks": ""
            },
            "type": "choropleth"
           }
          ],
          "contour": [
           {
            "colorbar": {
             "outlinewidth": 0,
             "ticks": ""
            },
            "colorscale": [
             [
              0,
              "#0d0887"
             ],
             [
              0.1111111111111111,
              "#46039f"
             ],
             [
              0.2222222222222222,
              "#7201a8"
             ],
             [
              0.3333333333333333,
              "#9c179e"
             ],
             [
              0.4444444444444444,
              "#bd3786"
             ],
             [
              0.5555555555555556,
              "#d8576b"
             ],
             [
              0.6666666666666666,
              "#ed7953"
             ],
             [
              0.7777777777777778,
              "#fb9f3a"
             ],
             [
              0.8888888888888888,
              "#fdca26"
             ],
             [
              1,
              "#f0f921"
             ]
            ],
            "type": "contour"
           }
          ],
          "contourcarpet": [
           {
            "colorbar": {
             "outlinewidth": 0,
             "ticks": ""
            },
            "type": "contourcarpet"
           }
          ],
          "heatmap": [
           {
            "colorbar": {
             "outlinewidth": 0,
             "ticks": ""
            },
            "colorscale": [
             [
              0,
              "#0d0887"
             ],
             [
              0.1111111111111111,
              "#46039f"
             ],
             [
              0.2222222222222222,
              "#7201a8"
             ],
             [
              0.3333333333333333,
              "#9c179e"
             ],
             [
              0.4444444444444444,
              "#bd3786"
             ],
             [
              0.5555555555555556,
              "#d8576b"
             ],
             [
              0.6666666666666666,
              "#ed7953"
             ],
             [
              0.7777777777777778,
              "#fb9f3a"
             ],
             [
              0.8888888888888888,
              "#fdca26"
             ],
             [
              1,
              "#f0f921"
             ]
            ],
            "type": "heatmap"
           }
          ],
          "heatmapgl": [
           {
            "colorbar": {
             "outlinewidth": 0,
             "ticks": ""
            },
            "colorscale": [
             [
              0,
              "#0d0887"
             ],
             [
              0.1111111111111111,
              "#46039f"
             ],
             [
              0.2222222222222222,
              "#7201a8"
             ],
             [
              0.3333333333333333,
              "#9c179e"
             ],
             [
              0.4444444444444444,
              "#bd3786"
             ],
             [
              0.5555555555555556,
              "#d8576b"
             ],
             [
              0.6666666666666666,
              "#ed7953"
             ],
             [
              0.7777777777777778,
              "#fb9f3a"
             ],
             [
              0.8888888888888888,
              "#fdca26"
             ],
             [
              1,
              "#f0f921"
             ]
            ],
            "type": "heatmapgl"
           }
          ],
          "histogram": [
           {
            "marker": {
             "colorbar": {
              "outlinewidth": 0,
              "ticks": ""
             }
            },
            "type": "histogram"
           }
          ],
          "histogram2d": [
           {
            "colorbar": {
             "outlinewidth": 0,
             "ticks": ""
            },
            "colorscale": [
             [
              0,
              "#0d0887"
             ],
             [
              0.1111111111111111,
              "#46039f"
             ],
             [
              0.2222222222222222,
              "#7201a8"
             ],
             [
              0.3333333333333333,
              "#9c179e"
             ],
             [
              0.4444444444444444,
              "#bd3786"
             ],
             [
              0.5555555555555556,
              "#d8576b"
             ],
             [
              0.6666666666666666,
              "#ed7953"
             ],
             [
              0.7777777777777778,
              "#fb9f3a"
             ],
             [
              0.8888888888888888,
              "#fdca26"
             ],
             [
              1,
              "#f0f921"
             ]
            ],
            "type": "histogram2d"
           }
          ],
          "histogram2dcontour": [
           {
            "colorbar": {
             "outlinewidth": 0,
             "ticks": ""
            },
            "colorscale": [
             [
              0,
              "#0d0887"
             ],
             [
              0.1111111111111111,
              "#46039f"
             ],
             [
              0.2222222222222222,
              "#7201a8"
             ],
             [
              0.3333333333333333,
              "#9c179e"
             ],
             [
              0.4444444444444444,
              "#bd3786"
             ],
             [
              0.5555555555555556,
              "#d8576b"
             ],
             [
              0.6666666666666666,
              "#ed7953"
             ],
             [
              0.7777777777777778,
              "#fb9f3a"
             ],
             [
              0.8888888888888888,
              "#fdca26"
             ],
             [
              1,
              "#f0f921"
             ]
            ],
            "type": "histogram2dcontour"
           }
          ],
          "mesh3d": [
           {
            "colorbar": {
             "outlinewidth": 0,
             "ticks": ""
            },
            "type": "mesh3d"
           }
          ],
          "parcoords": [
           {
            "line": {
             "colorbar": {
              "outlinewidth": 0,
              "ticks": ""
             }
            },
            "type": "parcoords"
           }
          ],
          "pie": [
           {
            "automargin": true,
            "type": "pie"
           }
          ],
          "scatter": [
           {
            "marker": {
             "colorbar": {
              "outlinewidth": 0,
              "ticks": ""
             }
            },
            "type": "scatter"
           }
          ],
          "scatter3d": [
           {
            "line": {
             "colorbar": {
              "outlinewidth": 0,
              "ticks": ""
             }
            },
            "marker": {
             "colorbar": {
              "outlinewidth": 0,
              "ticks": ""
             }
            },
            "type": "scatter3d"
           }
          ],
          "scattercarpet": [
           {
            "marker": {
             "colorbar": {
              "outlinewidth": 0,
              "ticks": ""
             }
            },
            "type": "scattercarpet"
           }
          ],
          "scattergeo": [
           {
            "marker": {
             "colorbar": {
              "outlinewidth": 0,
              "ticks": ""
             }
            },
            "type": "scattergeo"
           }
          ],
          "scattergl": [
           {
            "marker": {
             "colorbar": {
              "outlinewidth": 0,
              "ticks": ""
             }
            },
            "type": "scattergl"
           }
          ],
          "scattermapbox": [
           {
            "marker": {
             "colorbar": {
              "outlinewidth": 0,
              "ticks": ""
             }
            },
            "type": "scattermapbox"
           }
          ],
          "scatterpolar": [
           {
            "marker": {
             "colorbar": {
              "outlinewidth": 0,
              "ticks": ""
             }
            },
            "type": "scatterpolar"
           }
          ],
          "scatterpolargl": [
           {
            "marker": {
             "colorbar": {
              "outlinewidth": 0,
              "ticks": ""
             }
            },
            "type": "scatterpolargl"
           }
          ],
          "scatterternary": [
           {
            "marker": {
             "colorbar": {
              "outlinewidth": 0,
              "ticks": ""
             }
            },
            "type": "scatterternary"
           }
          ],
          "surface": [
           {
            "colorbar": {
             "outlinewidth": 0,
             "ticks": ""
            },
            "colorscale": [
             [
              0,
              "#0d0887"
             ],
             [
              0.1111111111111111,
              "#46039f"
             ],
             [
              0.2222222222222222,
              "#7201a8"
             ],
             [
              0.3333333333333333,
              "#9c179e"
             ],
             [
              0.4444444444444444,
              "#bd3786"
             ],
             [
              0.5555555555555556,
              "#d8576b"
             ],
             [
              0.6666666666666666,
              "#ed7953"
             ],
             [
              0.7777777777777778,
              "#fb9f3a"
             ],
             [
              0.8888888888888888,
              "#fdca26"
             ],
             [
              1,
              "#f0f921"
             ]
            ],
            "type": "surface"
           }
          ],
          "table": [
           {
            "cells": {
             "fill": {
              "color": "#EBF0F8"
             },
             "line": {
              "color": "white"
             }
            },
            "header": {
             "fill": {
              "color": "#C8D4E3"
             },
             "line": {
              "color": "white"
             }
            },
            "type": "table"
           }
          ]
         },
         "layout": {
          "annotationdefaults": {
           "arrowcolor": "#2a3f5f",
           "arrowhead": 0,
           "arrowwidth": 1
          },
          "autotypenumbers": "strict",
          "coloraxis": {
           "colorbar": {
            "outlinewidth": 0,
            "ticks": ""
           }
          },
          "colorscale": {
           "diverging": [
            [
             0,
             "#8e0152"
            ],
            [
             0.1,
             "#c51b7d"
            ],
            [
             0.2,
             "#de77ae"
            ],
            [
             0.3,
             "#f1b6da"
            ],
            [
             0.4,
             "#fde0ef"
            ],
            [
             0.5,
             "#f7f7f7"
            ],
            [
             0.6,
             "#e6f5d0"
            ],
            [
             0.7,
             "#b8e186"
            ],
            [
             0.8,
             "#7fbc41"
            ],
            [
             0.9,
             "#4d9221"
            ],
            [
             1,
             "#276419"
            ]
           ],
           "sequential": [
            [
             0,
             "#0d0887"
            ],
            [
             0.1111111111111111,
             "#46039f"
            ],
            [
             0.2222222222222222,
             "#7201a8"
            ],
            [
             0.3333333333333333,
             "#9c179e"
            ],
            [
             0.4444444444444444,
             "#bd3786"
            ],
            [
             0.5555555555555556,
             "#d8576b"
            ],
            [
             0.6666666666666666,
             "#ed7953"
            ],
            [
             0.7777777777777778,
             "#fb9f3a"
            ],
            [
             0.8888888888888888,
             "#fdca26"
            ],
            [
             1,
             "#f0f921"
            ]
           ],
           "sequentialminus": [
            [
             0,
             "#0d0887"
            ],
            [
             0.1111111111111111,
             "#46039f"
            ],
            [
             0.2222222222222222,
             "#7201a8"
            ],
            [
             0.3333333333333333,
             "#9c179e"
            ],
            [
             0.4444444444444444,
             "#bd3786"
            ],
            [
             0.5555555555555556,
             "#d8576b"
            ],
            [
             0.6666666666666666,
             "#ed7953"
            ],
            [
             0.7777777777777778,
             "#fb9f3a"
            ],
            [
             0.8888888888888888,
             "#fdca26"
            ],
            [
             1,
             "#f0f921"
            ]
           ]
          },
          "colorway": [
           "#636efa",
           "#EF553B",
           "#00cc96",
           "#ab63fa",
           "#FFA15A",
           "#19d3f3",
           "#FF6692",
           "#B6E880",
           "#FF97FF",
           "#FECB52"
          ],
          "font": {
           "color": "#2a3f5f"
          },
          "geo": {
           "bgcolor": "white",
           "lakecolor": "white",
           "landcolor": "#E5ECF6",
           "showlakes": true,
           "showland": true,
           "subunitcolor": "white"
          },
          "hoverlabel": {
           "align": "left"
          },
          "hovermode": "closest",
          "mapbox": {
           "style": "light"
          },
          "paper_bgcolor": "white",
          "plot_bgcolor": "#E5ECF6",
          "polar": {
           "angularaxis": {
            "gridcolor": "white",
            "linecolor": "white",
            "ticks": ""
           },
           "bgcolor": "#E5ECF6",
           "radialaxis": {
            "gridcolor": "white",
            "linecolor": "white",
            "ticks": ""
           }
          },
          "scene": {
           "xaxis": {
            "backgroundcolor": "#E5ECF6",
            "gridcolor": "white",
            "gridwidth": 2,
            "linecolor": "white",
            "showbackground": true,
            "ticks": "",
            "zerolinecolor": "white"
           },
           "yaxis": {
            "backgroundcolor": "#E5ECF6",
            "gridcolor": "white",
            "gridwidth": 2,
            "linecolor": "white",
            "showbackground": true,
            "ticks": "",
            "zerolinecolor": "white"
           },
           "zaxis": {
            "backgroundcolor": "#E5ECF6",
            "gridcolor": "white",
            "gridwidth": 2,
            "linecolor": "white",
            "showbackground": true,
            "ticks": "",
            "zerolinecolor": "white"
           }
          },
          "shapedefaults": {
           "line": {
            "color": "#2a3f5f"
           }
          },
          "ternary": {
           "aaxis": {
            "gridcolor": "white",
            "linecolor": "white",
            "ticks": ""
           },
           "baxis": {
            "gridcolor": "white",
            "linecolor": "white",
            "ticks": ""
           },
           "bgcolor": "#E5ECF6",
           "caxis": {
            "gridcolor": "white",
            "linecolor": "white",
            "ticks": ""
           }
          },
          "title": {
           "x": 0.05
          },
          "xaxis": {
           "automargin": true,
           "gridcolor": "white",
           "linecolor": "white",
           "ticks": "",
           "title": {
            "standoff": 15
           },
           "zerolinecolor": "white",
           "zerolinewidth": 2
          },
          "yaxis": {
           "automargin": true,
           "gridcolor": "white",
           "linecolor": "white",
           "ticks": "",
           "title": {
            "standoff": 15
           },
           "zerolinecolor": "white",
           "zerolinewidth": 2
          }
         }
        },
        "title": {
         "font": {
          "size": 30
         },
         "text": "September",
         "x": 0.45,
         "y": 0.9
        }
       }
      }
     },
     "metadata": {}
    }
   ],
   "source": [
    "draw_map_3(9)"
   ]
  }
 ],
 "metadata": {
  "kernelspec": {
   "name": "python3",
   "display_name": "Python 3.7.9 64-bit ('cs1951a': conda)",
   "metadata": {
    "interpreter": {
     "hash": "13d9177f62ed0edee4d7778e62d2f9507cc6c2b253c6aa01772e3ebdc0b09395"
    }
   }
  },
  "language_info": {
   "codemirror_mode": {
    "name": "ipython",
    "version": 3
   },
   "file_extension": ".py",
   "mimetype": "text/x-python",
   "name": "python",
   "nbconvert_exporter": "python",
   "pygments_lexer": "ipython3",
   "version": "3.7.9"
  }
 },
 "nbformat": 4,
 "nbformat_minor": 5
}